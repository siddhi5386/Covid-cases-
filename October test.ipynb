{
 "cells": [
  {
   "cell_type": "code",
   "execution_count": 1,
   "metadata": {
    "colab": {},
    "colab_type": "code",
    "executionInfo": {
     "elapsed": 1532,
     "status": "ok",
     "timestamp": 1600083840075,
     "user": {
      "displayName": "siddhi jain",
      "photoUrl": "",
      "userId": "16520871993464852151"
     },
     "user_tz": -330
    },
    "id": "2nixFROLbB-h"
   },
   "outputs": [],
   "source": [
    "import numpy as np\n",
    "import pandas as pd\n",
    "import matplotlib.pyplot as plt\n",
    "%matplotlib inline\n",
    "\n",
    "test=pd.read_excel(\"/content/drive/My Drive/fwdfliprhackathon6_0machinelearningtask/October_test_dataset.xlsx\")"
   ]
  },
  {
   "cell_type": "code",
   "execution_count": 2,
   "metadata": {
    "colab": {},
    "colab_type": "code",
    "executionInfo": {
     "elapsed": 1018,
     "status": "ok",
     "timestamp": 1600083856545,
     "user": {
      "displayName": "siddhi jain",
      "photoUrl": "",
      "userId": "16520871993464852151"
     },
     "user_tz": -330
    },
    "id": "PavC7i3HbcYG"
   },
   "outputs": [],
   "source": [
    "test.drop(['Popuation [2001]'],axis=1,inplace=True)"
   ]
  },
  {
   "cell_type": "code",
   "execution_count": 4,
   "metadata": {
    "colab": {
     "base_uri": "https://localhost:8080/",
     "height": 565
    },
    "colab_type": "code",
    "executionInfo": {
     "elapsed": 1129,
     "status": "ok",
     "timestamp": 1600083905650,
     "user": {
      "displayName": "siddhi jain",
      "photoUrl": "",
      "userId": "16520871993464852151"
     },
     "user_tz": -330
    },
    "id": "OIklOK8pbghy",
    "outputId": "3232a22e-f7c3-4e4c-91e5-bcbb666df59f"
   },
   "outputs": [
    {
     "data": {
      "text/html": [
       "<div>\n",
       "<style scoped>\n",
       "    .dataframe tbody tr th:only-of-type {\n",
       "        vertical-align: middle;\n",
       "    }\n",
       "\n",
       "    .dataframe tbody tr th {\n",
       "        vertical-align: top;\n",
       "    }\n",
       "\n",
       "    .dataframe thead th {\n",
       "        text-align: right;\n",
       "    }\n",
       "</style>\n",
       "<table border=\"1\" class=\"dataframe\">\n",
       "  <thead>\n",
       "    <tr style=\"text-align: right;\">\n",
       "      <th></th>\n",
       "      <th>Unnamed: 0</th>\n",
       "      <th>City</th>\n",
       "      <th>State</th>\n",
       "      <th>Type</th>\n",
       "      <th>Population [2011]</th>\n",
       "      <th>Sex Ratio</th>\n",
       "      <th>Median Age</th>\n",
       "      <th>Avg Temp</th>\n",
       "      <th>SWM</th>\n",
       "      <th>Toilets Avl</th>\n",
       "      <th>Water Purity</th>\n",
       "      <th>H Index</th>\n",
       "      <th>Female Population</th>\n",
       "      <th># of hospitals</th>\n",
       "      <th>Foreign Visitors</th>\n",
       "    </tr>\n",
       "  </thead>\n",
       "  <tbody>\n",
       "    <tr>\n",
       "      <th>0</th>\n",
       "      <td>0</td>\n",
       "      <td>Tuensang</td>\n",
       "      <td>Nagaland</td>\n",
       "      <td>T.C</td>\n",
       "      <td>36774.0</td>\n",
       "      <td>931.0</td>\n",
       "      <td>23.0</td>\n",
       "      <td>10.0</td>\n",
       "      <td>MEDIUM</td>\n",
       "      <td>94.0</td>\n",
       "      <td>114.0</td>\n",
       "      <td>0.253390</td>\n",
       "      <td>34237.0</td>\n",
       "      <td>17.0</td>\n",
       "      <td>3134</td>\n",
       "    </tr>\n",
       "    <tr>\n",
       "      <th>1</th>\n",
       "      <td>1</td>\n",
       "      <td>Lakshmeshwar</td>\n",
       "      <td>Karnataka</td>\n",
       "      <td>T.M.C</td>\n",
       "      <td>36754.0</td>\n",
       "      <td>934.0</td>\n",
       "      <td>25.0</td>\n",
       "      <td>38.0</td>\n",
       "      <td>HIGH</td>\n",
       "      <td>62.0</td>\n",
       "      <td>160.0</td>\n",
       "      <td>0.192555</td>\n",
       "      <td>34328.0</td>\n",
       "      <td>13.0</td>\n",
       "      <td>720371</td>\n",
       "    </tr>\n",
       "    <tr>\n",
       "      <th>2</th>\n",
       "      <td>2</td>\n",
       "      <td>Zira</td>\n",
       "      <td>Punjab</td>\n",
       "      <td>M.Cl.</td>\n",
       "      <td>36732.0</td>\n",
       "      <td>883.0</td>\n",
       "      <td>29.0</td>\n",
       "      <td>35.0</td>\n",
       "      <td>HIGH</td>\n",
       "      <td>63.0</td>\n",
       "      <td>105.0</td>\n",
       "      <td>0.887882</td>\n",
       "      <td>32434.0</td>\n",
       "      <td>17.0</td>\n",
       "      <td>274303</td>\n",
       "    </tr>\n",
       "    <tr>\n",
       "      <th>3</th>\n",
       "      <td>3</td>\n",
       "      <td>Yawal</td>\n",
       "      <td>Maharashtra</td>\n",
       "      <td>M.Cl</td>\n",
       "      <td>36706.0</td>\n",
       "      <td>887.0</td>\n",
       "      <td>26.0</td>\n",
       "      <td>31.0</td>\n",
       "      <td>HIGH</td>\n",
       "      <td>60.0</td>\n",
       "      <td>174.0</td>\n",
       "      <td>0.407838</td>\n",
       "      <td>32558.0</td>\n",
       "      <td>11.0</td>\n",
       "      <td>4989856</td>\n",
       "    </tr>\n",
       "    <tr>\n",
       "      <th>4</th>\n",
       "      <td>4</td>\n",
       "      <td>Thana Bhawan</td>\n",
       "      <td>Uttar Pradesh</td>\n",
       "      <td>N.P.</td>\n",
       "      <td>36669.0</td>\n",
       "      <td>877.0</td>\n",
       "      <td>28.0</td>\n",
       "      <td>39.0</td>\n",
       "      <td>LOW</td>\n",
       "      <td>92.0</td>\n",
       "      <td>153.0</td>\n",
       "      <td>0.324456</td>\n",
       "      <td>32159.0</td>\n",
       "      <td>23.0</td>\n",
       "      <td>3513066</td>\n",
       "    </tr>\n",
       "    <tr>\n",
       "      <th>5</th>\n",
       "      <td>5</td>\n",
       "      <td>Ramdurg</td>\n",
       "      <td>Karnataka</td>\n",
       "      <td>UA</td>\n",
       "      <td>36649.0</td>\n",
       "      <td>942.0</td>\n",
       "      <td>27.0</td>\n",
       "      <td>28.0</td>\n",
       "      <td>MEDIUM</td>\n",
       "      <td>92.0</td>\n",
       "      <td>185.0</td>\n",
       "      <td>0.571883</td>\n",
       "      <td>34523.0</td>\n",
       "      <td>30.0</td>\n",
       "      <td>720371</td>\n",
       "    </tr>\n",
       "    <tr>\n",
       "      <th>6</th>\n",
       "      <td>6</td>\n",
       "      <td>Pulgaon</td>\n",
       "      <td>Maharashtra</td>\n",
       "      <td>M.Cl</td>\n",
       "      <td>36522.0</td>\n",
       "      <td>887.0</td>\n",
       "      <td>26.0</td>\n",
       "      <td>31.0</td>\n",
       "      <td>MEDIUM</td>\n",
       "      <td>72.0</td>\n",
       "      <td>108.0</td>\n",
       "      <td>0.271195</td>\n",
       "      <td>32395.0</td>\n",
       "      <td>11.0</td>\n",
       "      <td>4989856</td>\n",
       "    </tr>\n",
       "    <tr>\n",
       "      <th>7</th>\n",
       "      <td>7</td>\n",
       "      <td>Sadasivpet</td>\n",
       "      <td>Telangana</td>\n",
       "      <td>M</td>\n",
       "      <td>36334.0</td>\n",
       "      <td>921.0</td>\n",
       "      <td>27.0</td>\n",
       "      <td>40.0</td>\n",
       "      <td>LOW</td>\n",
       "      <td>70.0</td>\n",
       "      <td>116.0</td>\n",
       "      <td>0.494227</td>\n",
       "      <td>33464.0</td>\n",
       "      <td>17.0</td>\n",
       "      <td>142691</td>\n",
       "    </tr>\n",
       "    <tr>\n",
       "      <th>8</th>\n",
       "      <td>8</td>\n",
       "      <td>Nargund</td>\n",
       "      <td>Karnataka</td>\n",
       "      <td>T.M.C</td>\n",
       "      <td>36291.0</td>\n",
       "      <td>940.0</td>\n",
       "      <td>23.0</td>\n",
       "      <td>37.0</td>\n",
       "      <td>LOW</td>\n",
       "      <td>77.0</td>\n",
       "      <td>148.0</td>\n",
       "      <td>0.708562</td>\n",
       "      <td>34114.0</td>\n",
       "      <td>21.0</td>\n",
       "      <td>720371</td>\n",
       "    </tr>\n",
       "    <tr>\n",
       "      <th>9</th>\n",
       "      <td>9</td>\n",
       "      <td>Neem-Ka-Thana</td>\n",
       "      <td>Rajasthan</td>\n",
       "      <td>M</td>\n",
       "      <td>36231.0</td>\n",
       "      <td>850.0</td>\n",
       "      <td>25.0</td>\n",
       "      <td>25.0</td>\n",
       "      <td>MEDIUM</td>\n",
       "      <td>61.0</td>\n",
       "      <td>148.0</td>\n",
       "      <td>0.592325</td>\n",
       "      <td>30796.0</td>\n",
       "      <td>29.0</td>\n",
       "      <td>1669705</td>\n",
       "    </tr>\n",
       "    <tr>\n",
       "      <th>10</th>\n",
       "      <td>10</td>\n",
       "      <td>Memari</td>\n",
       "      <td>West Bengal</td>\n",
       "      <td>M</td>\n",
       "      <td>36207.0</td>\n",
       "      <td>949.0</td>\n",
       "      <td>24.0</td>\n",
       "      <td>26.0</td>\n",
       "      <td>LOW</td>\n",
       "      <td>80.0</td>\n",
       "      <td>186.0</td>\n",
       "      <td>0.163501</td>\n",
       "      <td>34360.0</td>\n",
       "      <td>26.0</td>\n",
       "      <td>1685764</td>\n",
       "    </tr>\n",
       "    <tr>\n",
       "      <th>11</th>\n",
       "      <td>11</td>\n",
       "      <td>Nilanga</td>\n",
       "      <td>Maharashtra</td>\n",
       "      <td>M.Cl</td>\n",
       "      <td>36172.0</td>\n",
       "      <td>876.0</td>\n",
       "      <td>24.0</td>\n",
       "      <td>34.0</td>\n",
       "      <td>MEDIUM</td>\n",
       "      <td>59.0</td>\n",
       "      <td>120.0</td>\n",
       "      <td>0.514165</td>\n",
       "      <td>31687.0</td>\n",
       "      <td>12.0</td>\n",
       "      <td>4989856</td>\n",
       "    </tr>\n",
       "    <tr>\n",
       "      <th>12</th>\n",
       "      <td>12</td>\n",
       "      <td>Naharlagun</td>\n",
       "      <td>Arunachal Pradesh</td>\n",
       "      <td>N.T</td>\n",
       "      <td>36158.0</td>\n",
       "      <td>877.0</td>\n",
       "      <td>28.0</td>\n",
       "      <td>10.0</td>\n",
       "      <td>LOW</td>\n",
       "      <td>99.0</td>\n",
       "      <td>179.0</td>\n",
       "      <td>0.843363</td>\n",
       "      <td>31711.0</td>\n",
       "      <td>26.0</td>\n",
       "      <td>6457</td>\n",
       "    </tr>\n",
       "    <tr>\n",
       "      <th>13</th>\n",
       "      <td>13</td>\n",
       "      <td>Pakaur</td>\n",
       "      <td>Jharkhand</td>\n",
       "      <td>M</td>\n",
       "      <td>36029.0</td>\n",
       "      <td>898.0</td>\n",
       "      <td>29.0</td>\n",
       "      <td>30.0</td>\n",
       "      <td>MEDIUM</td>\n",
       "      <td>55.0</td>\n",
       "      <td>174.0</td>\n",
       "      <td>0.033436</td>\n",
       "      <td>32354.0</td>\n",
       "      <td>26.0</td>\n",
       "      <td>189894</td>\n",
       "    </tr>\n",
       "    <tr>\n",
       "      <th>14</th>\n",
       "      <td>14</td>\n",
       "      <td>Wai</td>\n",
       "      <td>Maharashtra</td>\n",
       "      <td>M.Cl.</td>\n",
       "      <td>36025.0</td>\n",
       "      <td>874.0</td>\n",
       "      <td>23.0</td>\n",
       "      <td>35.0</td>\n",
       "      <td>MEDIUM</td>\n",
       "      <td>96.0</td>\n",
       "      <td>104.0</td>\n",
       "      <td>0.153944</td>\n",
       "      <td>31486.0</td>\n",
       "      <td>23.0</td>\n",
       "      <td>4989856</td>\n",
       "    </tr>\n",
       "  </tbody>\n",
       "</table>\n",
       "</div>"
      ],
      "text/plain": [
       "    Unnamed: 0           City  ... # of hospitals Foreign Visitors\n",
       "0            0       Tuensang  ...           17.0             3134\n",
       "1            1   Lakshmeshwar  ...           13.0           720371\n",
       "2            2           Zira  ...           17.0           274303\n",
       "3            3          Yawal  ...           11.0          4989856\n",
       "4            4   Thana Bhawan  ...           23.0          3513066\n",
       "5            5        Ramdurg  ...           30.0           720371\n",
       "6            6        Pulgaon  ...           11.0          4989856\n",
       "7            7     Sadasivpet  ...           17.0           142691\n",
       "8            8        Nargund  ...           21.0           720371\n",
       "9            9  Neem-Ka-Thana  ...           29.0          1669705\n",
       "10          10         Memari  ...           26.0          1685764\n",
       "11          11        Nilanga  ...           12.0          4989856\n",
       "12          12     Naharlagun  ...           26.0             6457\n",
       "13          13         Pakaur  ...           26.0           189894\n",
       "14          14            Wai  ...           23.0          4989856\n",
       "\n",
       "[15 rows x 15 columns]"
      ]
     },
     "execution_count": 4,
     "metadata": {
      "tags": []
     },
     "output_type": "execute_result"
    }
   ],
   "source": [
    "list1=[\"Population [2011]\",\"Sex Ratio\",\"Median Age\",\"Avg Temp\",\"Toilets Avl\",\"Water Purity\",\"H Index\",\"Female Population\",\"# of hospitals\",\"Foreign Visitors\"]   \n",
    "list2=[\"Type\",\"SWM\"]\n",
    "\n",
    "for i in list1:\n",
    "    \n",
    "    test.replace(np.NaN,{i:test[i].median()},inplace=True)\n",
    "    \n",
    "for i in list2:\n",
    "    \n",
    "    test.replace(np.NaN,{i:test[i].value_counts().idxmax()},inplace=True)\n",
    "    \n",
    "    \n",
    "test.head(15)"
   ]
  },
  {
   "cell_type": "code",
   "execution_count": 5,
   "metadata": {
    "colab": {
     "base_uri": "https://localhost:8080/",
     "height": 289
    },
    "colab_type": "code",
    "executionInfo": {
     "elapsed": 976,
     "status": "ok",
     "timestamp": 1600083931541,
     "user": {
      "displayName": "siddhi jain",
      "photoUrl": "",
      "userId": "16520871993464852151"
     },
     "user_tz": -330
    },
    "id": "Wb94zE1CbpGD",
    "outputId": "1b757338-aa11-4910-d718-b19caf1de44e"
   },
   "outputs": [
    {
     "data": {
      "text/plain": [
       "Unnamed: 0           0\n",
       "City                 0\n",
       "State                0\n",
       "Type                 0\n",
       "Population [2011]    0\n",
       "Sex Ratio            0\n",
       "Median Age           0\n",
       "Avg Temp             0\n",
       "SWM                  0\n",
       "Toilets Avl          0\n",
       "Water Purity         0\n",
       "H Index              0\n",
       "Female Population    0\n",
       "# of hospitals       0\n",
       "Foreign Visitors     0\n",
       "dtype: int64"
      ]
     },
     "execution_count": 5,
     "metadata": {
      "tags": []
     },
     "output_type": "execute_result"
    }
   ],
   "source": [
    "test.isnull().sum()"
   ]
  },
  {
   "cell_type": "code",
   "execution_count": 6,
   "metadata": {
    "colab": {},
    "colab_type": "code",
    "executionInfo": {
     "elapsed": 1051,
     "status": "ok",
     "timestamp": 1600083941887,
     "user": {
      "displayName": "siddhi jain",
      "photoUrl": "",
      "userId": "16520871993464852151"
     },
     "user_tz": -330
    },
    "id": "LW-3zsXRby16"
   },
   "outputs": [],
   "source": [
    "test.drop(['Type'],axis=1,inplace=True)"
   ]
  },
  {
   "cell_type": "code",
   "execution_count": 7,
   "metadata": {
    "colab": {
     "base_uri": "https://localhost:8080/",
     "height": 34
    },
    "colab_type": "code",
    "executionInfo": {
     "elapsed": 988,
     "status": "ok",
     "timestamp": 1600083957963,
     "user": {
      "displayName": "siddhi jain",
      "photoUrl": "",
      "userId": "16520871993464852151"
     },
     "user_tz": -330
    },
    "id": "ozkHpkIHb1W5",
    "outputId": "c3f4f125-a0e7-40e8-80a7-7ac8c08c1606"
   },
   "outputs": [
    {
     "data": {
      "text/plain": [
       "(501, 14)"
      ]
     },
     "execution_count": 7,
     "metadata": {
      "tags": []
     },
     "output_type": "execute_result"
    }
   ],
   "source": [
    "test.shape"
   ]
  },
  {
   "cell_type": "code",
   "execution_count": 8,
   "metadata": {
    "colab": {},
    "colab_type": "code",
    "executionInfo": {
     "elapsed": 991,
     "status": "ok",
     "timestamp": 1600084039394,
     "user": {
      "displayName": "siddhi jain",
      "photoUrl": "",
      "userId": "16520871993464852151"
     },
     "user_tz": -330
    },
    "id": "majqZb5-b5S8"
   },
   "outputs": [],
   "source": [
    "test.drop(['Unnamed: 0'],axis=1,inplace=True)"
   ]
  },
  {
   "cell_type": "code",
   "execution_count": 9,
   "metadata": {
    "colab": {},
    "colab_type": "code",
    "executionInfo": {
     "elapsed": 1158,
     "status": "ok",
     "timestamp": 1600084051040,
     "user": {
      "displayName": "siddhi jain",
      "photoUrl": "",
      "userId": "16520871993464852151"
     },
     "user_tz": -330
    },
    "id": "hyiGJNLycNLM"
   },
   "outputs": [],
   "source": [
    "test.replace({'MEDIUM':2,'LOW':1,'HIGH':3},inplace=True)"
   ]
  },
  {
   "cell_type": "code",
   "execution_count": 12,
   "metadata": {
    "colab": {},
    "colab_type": "code",
    "executionInfo": {
     "elapsed": 1041,
     "status": "ok",
     "timestamp": 1600084136596,
     "user": {
      "displayName": "siddhi jain",
      "photoUrl": "",
      "userId": "16520871993464852151"
     },
     "user_tz": -330
    },
    "id": "l4ATfJo4cP-0"
   },
   "outputs": [],
   "source": [
    "from sklearn.preprocessing import MinMaxScaler\n",
    "\n",
    "# from sklearn.preprocessing import StandardScaler\n",
    "\n",
    "scaler=MinMaxScaler()\n",
    "test[['Population [2011]','Sex Ratio','Median Age','SWM','Avg Temp','Toilets Avl','Water Purity','H Index','Female Population','# of hospitals','Foreign Visitors']] = scaler.fit_transform(test[['Population [2011]','Sex Ratio','Median Age','SWM','Avg Temp','Toilets Avl','Water Purity','H Index','Female Population','# of hospitals','Foreign Visitors']])"
   ]
  },
  {
   "cell_type": "code",
   "execution_count": 13,
   "metadata": {
    "colab": {},
    "colab_type": "code",
    "executionInfo": {
     "elapsed": 978,
     "status": "ok",
     "timestamp": 1600084169243,
     "user": {
      "displayName": "siddhi jain",
      "photoUrl": "",
      "userId": "16520871993464852151"
     },
     "user_tz": -330
    },
    "id": "i5vRwaQecjcO"
   },
   "outputs": [],
   "source": [
    "import re\n",
    "regex = re.compile(r\"\\[|\\]|<\", re.IGNORECASE)\n",
    "\n",
    "test.columns = [regex.sub(\"_\", col) if any(x in str(col) for x in set(('[', ']', '<'))) else col for col in test.columns.values]"
   ]
  },
  {
   "cell_type": "code",
   "execution_count": 14,
   "metadata": {
    "colab": {},
    "colab_type": "code",
    "executionInfo": {
     "elapsed": 1210,
     "status": "ok",
     "timestamp": 1600084178953,
     "user": {
      "displayName": "siddhi jain",
      "photoUrl": "",
      "userId": "16520871993464852151"
     },
     "user_tz": -330
    },
    "id": "RkASN6kwcs4Y"
   },
   "outputs": [],
   "source": [
    "test.drop(['City'],axis=1,inplace=True)"
   ]
  },
  {
   "cell_type": "code",
   "execution_count": 15,
   "metadata": {
    "colab": {
     "base_uri": "https://localhost:8080/",
     "height": 419
    },
    "colab_type": "code",
    "executionInfo": {
     "elapsed": 644,
     "status": "ok",
     "timestamp": 1600084182644,
     "user": {
      "displayName": "siddhi jain",
      "photoUrl": "",
      "userId": "16520871993464852151"
     },
     "user_tz": -330
    },
    "id": "iu90rGAEcvMh",
    "outputId": "91106644-a7db-4170-b586-58805ed0118c"
   },
   "outputs": [
    {
     "data": {
      "text/html": [
       "<div>\n",
       "<style scoped>\n",
       "    .dataframe tbody tr th:only-of-type {\n",
       "        vertical-align: middle;\n",
       "    }\n",
       "\n",
       "    .dataframe tbody tr th {\n",
       "        vertical-align: top;\n",
       "    }\n",
       "\n",
       "    .dataframe thead th {\n",
       "        text-align: right;\n",
       "    }\n",
       "</style>\n",
       "<table border=\"1\" class=\"dataframe\">\n",
       "  <thead>\n",
       "    <tr style=\"text-align: right;\">\n",
       "      <th></th>\n",
       "      <th>State</th>\n",
       "      <th>Population _2011_</th>\n",
       "      <th>Sex Ratio</th>\n",
       "      <th>Median Age</th>\n",
       "      <th>Avg Temp</th>\n",
       "      <th>SWM</th>\n",
       "      <th>Toilets Avl</th>\n",
       "      <th>Water Purity</th>\n",
       "      <th>H Index</th>\n",
       "      <th>Female Population</th>\n",
       "      <th># of hospitals</th>\n",
       "      <th>Foreign Visitors</th>\n",
       "    </tr>\n",
       "  </thead>\n",
       "  <tbody>\n",
       "    <tr>\n",
       "      <th>0</th>\n",
       "      <td>Nagaland</td>\n",
       "      <td>1.000000</td>\n",
       "      <td>0.723502</td>\n",
       "      <td>0.000000</td>\n",
       "      <td>0.142857</td>\n",
       "      <td>0.5</td>\n",
       "      <td>0.933333</td>\n",
       "      <td>0.14</td>\n",
       "      <td>0.252700</td>\n",
       "      <td>0.991716</td>\n",
       "      <td>0.518519</td>\n",
       "      <td>1.0</td>\n",
       "    </tr>\n",
       "    <tr>\n",
       "      <th>1</th>\n",
       "      <td>Karnataka</td>\n",
       "      <td>0.999455</td>\n",
       "      <td>0.737327</td>\n",
       "      <td>0.222222</td>\n",
       "      <td>0.942857</td>\n",
       "      <td>1.0</td>\n",
       "      <td>0.577778</td>\n",
       "      <td>0.60</td>\n",
       "      <td>0.191800</td>\n",
       "      <td>0.994352</td>\n",
       "      <td>0.370370</td>\n",
       "      <td>1.0</td>\n",
       "    </tr>\n",
       "    <tr>\n",
       "      <th>2</th>\n",
       "      <td>Punjab</td>\n",
       "      <td>0.998854</td>\n",
       "      <td>0.502304</td>\n",
       "      <td>0.666667</td>\n",
       "      <td>0.857143</td>\n",
       "      <td>1.0</td>\n",
       "      <td>0.588889</td>\n",
       "      <td>0.05</td>\n",
       "      <td>0.887862</td>\n",
       "      <td>0.939490</td>\n",
       "      <td>0.518519</td>\n",
       "      <td>1.0</td>\n",
       "    </tr>\n",
       "    <tr>\n",
       "      <th>3</th>\n",
       "      <td>Maharashtra</td>\n",
       "      <td>0.998145</td>\n",
       "      <td>0.520737</td>\n",
       "      <td>0.333333</td>\n",
       "      <td>0.742857</td>\n",
       "      <td>1.0</td>\n",
       "      <td>0.555556</td>\n",
       "      <td>0.74</td>\n",
       "      <td>0.407311</td>\n",
       "      <td>0.943081</td>\n",
       "      <td>0.296296</td>\n",
       "      <td>1.0</td>\n",
       "    </tr>\n",
       "    <tr>\n",
       "      <th>4</th>\n",
       "      <td>Uttar Pradesh</td>\n",
       "      <td>0.997136</td>\n",
       "      <td>0.474654</td>\n",
       "      <td>0.555556</td>\n",
       "      <td>0.971429</td>\n",
       "      <td>0.0</td>\n",
       "      <td>0.911111</td>\n",
       "      <td>0.53</td>\n",
       "      <td>0.323841</td>\n",
       "      <td>0.931524</td>\n",
       "      <td>0.740741</td>\n",
       "      <td>1.0</td>\n",
       "    </tr>\n",
       "    <tr>\n",
       "      <th>...</th>\n",
       "      <td>...</td>\n",
       "      <td>...</td>\n",
       "      <td>...</td>\n",
       "      <td>...</td>\n",
       "      <td>...</td>\n",
       "      <td>...</td>\n",
       "      <td>...</td>\n",
       "      <td>...</td>\n",
       "      <td>...</td>\n",
       "      <td>...</td>\n",
       "      <td>...</td>\n",
       "      <td>...</td>\n",
       "    </tr>\n",
       "    <tr>\n",
       "      <th>496</th>\n",
       "      <td>Uttarakhand</td>\n",
       "      <td>0.041758</td>\n",
       "      <td>0.341014</td>\n",
       "      <td>0.444444</td>\n",
       "      <td>0.057143</td>\n",
       "      <td>0.5</td>\n",
       "      <td>0.022222</td>\n",
       "      <td>0.81</td>\n",
       "      <td>0.316303</td>\n",
       "      <td>0.040321</td>\n",
       "      <td>0.037037</td>\n",
       "      <td>1.0</td>\n",
       "    </tr>\n",
       "    <tr>\n",
       "      <th>497</th>\n",
       "      <td>Uttarakhand</td>\n",
       "      <td>0.038376</td>\n",
       "      <td>0.359447</td>\n",
       "      <td>0.555556</td>\n",
       "      <td>0.200000</td>\n",
       "      <td>1.0</td>\n",
       "      <td>0.066667</td>\n",
       "      <td>0.98</td>\n",
       "      <td>0.336250</td>\n",
       "      <td>0.037424</td>\n",
       "      <td>0.111111</td>\n",
       "      <td>1.0</td>\n",
       "    </tr>\n",
       "    <tr>\n",
       "      <th>498</th>\n",
       "      <td>Uttarakhand</td>\n",
       "      <td>0.013692</td>\n",
       "      <td>0.364055</td>\n",
       "      <td>0.111111</td>\n",
       "      <td>0.114286</td>\n",
       "      <td>0.0</td>\n",
       "      <td>0.100000</td>\n",
       "      <td>0.89</td>\n",
       "      <td>0.723060</td>\n",
       "      <td>0.015120</td>\n",
       "      <td>0.111111</td>\n",
       "      <td>1.0</td>\n",
       "    </tr>\n",
       "    <tr>\n",
       "      <th>499</th>\n",
       "      <td>Uttarakhand</td>\n",
       "      <td>0.000000</td>\n",
       "      <td>0.359447</td>\n",
       "      <td>0.444444</td>\n",
       "      <td>0.085714</td>\n",
       "      <td>0.5</td>\n",
       "      <td>0.088889</td>\n",
       "      <td>0.70</td>\n",
       "      <td>0.420548</td>\n",
       "      <td>0.002723</td>\n",
       "      <td>0.185185</td>\n",
       "      <td>1.0</td>\n",
       "    </tr>\n",
       "    <tr>\n",
       "      <th>500</th>\n",
       "      <td>Uttar Pradesh</td>\n",
       "      <td>0.684295</td>\n",
       "      <td>0.410138</td>\n",
       "      <td>0.111111</td>\n",
       "      <td>0.857143</td>\n",
       "      <td>1.0</td>\n",
       "      <td>0.100000</td>\n",
       "      <td>0.49</td>\n",
       "      <td>0.153580</td>\n",
       "      <td>0.000000</td>\n",
       "      <td>0.111111</td>\n",
       "      <td>1.0</td>\n",
       "    </tr>\n",
       "  </tbody>\n",
       "</table>\n",
       "<p>501 rows × 12 columns</p>\n",
       "</div>"
      ],
      "text/plain": [
       "             State  Population _2011_  ...  # of hospitals  Foreign Visitors\n",
       "0         Nagaland           1.000000  ...        0.518519               1.0\n",
       "1        Karnataka           0.999455  ...        0.370370               1.0\n",
       "2           Punjab           0.998854  ...        0.518519               1.0\n",
       "3      Maharashtra           0.998145  ...        0.296296               1.0\n",
       "4    Uttar Pradesh           0.997136  ...        0.740741               1.0\n",
       "..             ...                ...  ...             ...               ...\n",
       "496    Uttarakhand           0.041758  ...        0.037037               1.0\n",
       "497    Uttarakhand           0.038376  ...        0.111111               1.0\n",
       "498    Uttarakhand           0.013692  ...        0.111111               1.0\n",
       "499    Uttarakhand           0.000000  ...        0.185185               1.0\n",
       "500  Uttar Pradesh           0.684295  ...        0.111111               1.0\n",
       "\n",
       "[501 rows x 12 columns]"
      ]
     },
     "execution_count": 15,
     "metadata": {
      "tags": []
     },
     "output_type": "execute_result"
    }
   ],
   "source": [
    "test"
   ]
  },
  {
   "cell_type": "code",
   "execution_count": 16,
   "metadata": {
    "colab": {},
    "colab_type": "code",
    "executionInfo": {
     "elapsed": 996,
     "status": "ok",
     "timestamp": 1600084218274,
     "user": {
      "displayName": "siddhi jain",
      "photoUrl": "",
      "userId": "16520871993464852151"
     },
     "user_tz": -330
    },
    "id": "mnhmeymZcwEn"
   },
   "outputs": [],
   "source": [
    "test['State'] = test['State'].replace(['Maharashtra','Delhi', 'Karnataka','Tamil nadu','Tamil Nadu','West Bengal', 'Bihar','Chandigarh','Tripura', 'Puducherry','Himachal Pradesh','Sikkim'],'high')\n",
    "test['State'] = test['State'].replace([ 'Telangana','Gujarat','Rajasthan','Chhattisgarh','Goa','Uttar Pradesh','Madhya Pradesh','Andhra Pradesh','Kerala','Mizoram','Manipur','Uttarakhand','Punjab', 'Nagaland','Meghalaya','Arunachal Pradesh', 'Dadra and Nagar Haveli','Andhra pradesh','Jharkhand','Haryana', 'Assam','Odisha','Andaman and Nicobar Islands','Jammu and Kashmir',],'low')"
   ]
  },
  {
   "cell_type": "code",
   "execution_count": 17,
   "metadata": {
    "colab": {},
    "colab_type": "code",
    "executionInfo": {
     "elapsed": 1110,
     "status": "ok",
     "timestamp": 1600084242327,
     "user": {
      "displayName": "siddhi jain",
      "photoUrl": "",
      "userId": "16520871993464852151"
     },
     "user_tz": -330
    },
    "id": "PwoiptmLc42E"
   },
   "outputs": [],
   "source": [
    "categorical = ['State']\n",
    "\n",
    "for var in categorical:\n",
    "    test = pd.concat([test,pd.get_dummies(test[var], prefix=var)], axis=1)\n",
    "    del test[var]"
   ]
  },
  {
   "cell_type": "code",
   "execution_count": 18,
   "metadata": {
    "colab": {},
    "colab_type": "code",
    "executionInfo": {
     "elapsed": 1245,
     "status": "ok",
     "timestamp": 1600084251705,
     "user": {
      "displayName": "siddhi jain",
      "photoUrl": "",
      "userId": "16520871993464852151"
     },
     "user_tz": -330
    },
    "id": "cH6N6aPMcdn6"
   },
   "outputs": [],
   "source": [
    "test.drop(['State_low'],axis=1,inplace=True)"
   ]
  },
  {
   "cell_type": "code",
   "execution_count": 19,
   "metadata": {
    "colab": {
     "base_uri": "https://localhost:8080/",
     "height": 34
    },
    "colab_type": "code",
    "executionInfo": {
     "elapsed": 1058,
     "status": "ok",
     "timestamp": 1600084260499,
     "user": {
      "displayName": "siddhi jain",
      "photoUrl": "",
      "userId": "16520871993464852151"
     },
     "user_tz": -330
    },
    "id": "DmXg6dWQdA8z",
    "outputId": "3cf1dc8e-39b8-47e6-dfcb-365276f525a0"
   },
   "outputs": [
    {
     "data": {
      "text/plain": [
       "(501, 12)"
      ]
     },
     "execution_count": 19,
     "metadata": {
      "tags": []
     },
     "output_type": "execute_result"
    }
   ],
   "source": [
    "test.shape"
   ]
  },
  {
   "cell_type": "code",
   "execution_count": 27,
   "metadata": {
    "colab": {},
    "colab_type": "code",
    "executionInfo": {
     "elapsed": 1070,
     "status": "ok",
     "timestamp": 1600084837516,
     "user": {
      "displayName": "siddhi jain",
      "photoUrl": "",
      "userId": "16520871993464852151"
     },
     "user_tz": -330
    },
    "id": "WFzuHG3_dDI7"
   },
   "outputs": [],
   "source": []
  },
  {
   "cell_type": "code",
   "execution_count": 24,
   "metadata": {
    "colab": {
     "base_uri": "https://localhost:8080/",
     "height": 34
    },
    "colab_type": "code",
    "executionInfo": {
     "elapsed": 1014,
     "status": "ok",
     "timestamp": 1600084645571,
     "user": {
      "displayName": "siddhi jain",
      "photoUrl": "",
      "userId": "16520871993464852151"
     },
     "user_tz": -330
    },
    "id": "_rKk7aSfdQ-1",
    "outputId": "1c60f3dc-0d3f-4493-c20e-bdfccfc817a6"
   },
   "outputs": [
    {
     "name": "stdout",
     "output_type": "stream",
     "text": [
      "[11:57:25] WARNING: /workspace/src/objective/regression_obj.cu:152: reg:linear is now deprecated in favor of reg:squarederror.\n"
     ]
    }
   ],
   "source": [
    "import pickle\n",
    "file = open(\"/content/drive/My Drive/fwdfliprhackathon6_0machinelearningtask/Task_model.h5\",'rb')\n",
    "model_file = pickle.load(file)"
   ]
  },
  {
   "cell_type": "code",
   "execution_count": 25,
   "metadata": {
    "colab": {},
    "colab_type": "code",
    "executionInfo": {
     "elapsed": 841,
     "status": "ok",
     "timestamp": 1600084689850,
     "user": {
      "displayName": "siddhi jain",
      "photoUrl": "",
      "userId": "16520871993464852151"
     },
     "user_tz": -330
    },
    "id": "incsUORQehKS"
   },
   "outputs": [],
   "source": [
    "covid=model_file.predict(test)"
   ]
  },
  {
   "cell_type": "code",
   "execution_count": 26,
   "metadata": {
    "colab": {
     "base_uri": "https://localhost:8080/",
     "height": 1000
    },
    "colab_type": "code",
    "executionInfo": {
     "elapsed": 1023,
     "status": "ok",
     "timestamp": 1600084696716,
     "user": {
      "displayName": "siddhi jain",
      "photoUrl": "",
      "userId": "16520871993464852151"
     },
     "user_tz": -330
    },
    "id": "XjjxPCYhesBG",
    "outputId": "20ebf964-3a4d-4035-e244-e3289c662998"
   },
   "outputs": [
    {
     "data": {
      "text/plain": [
       "array([36770.008 , 42475.914 , 31526.455 , 39787.363 , 29647.73  ,\n",
       "       35990.918 , 41026.11  , 31187.531 , 38868.91  , 30820.672 ,\n",
       "       41286.09  , 38536.535 , 29170.857 , 28704.303 , 40243.805 ,\n",
       "       37800.367 , 34886.89  , 29368.697 , 33765.45  , 29086.393 ,\n",
       "       34483.586 , 36413.62  , 27544.236 , 35556.613 , 32165.78  ,\n",
       "       40384.137 , 38136.453 , 27591.04  , 34367.43  , 29044.64  ,\n",
       "       37001.664 , 29520.975 , 25408.656 , 39627.734 , 38132.    ,\n",
       "       36274.332 , 31012.832 , 27150.328 , 32218.326 , 31351.688 ,\n",
       "       41843.68  , 39200.73  , 38007.562 , 28419.426 , 31860.496 ,\n",
       "       37862.03  , 39484.457 , 40252.37  , 34567.22  , 36315.94  ,\n",
       "       31952.756 , 33054.496 , 29184.596 , 33072.74  , 28638.395 ,\n",
       "       31336.672 , 31476.596 , 39839.996 , 32711.615 , 35705.84  ,\n",
       "       31453.863 , 37198.55  , 34923.39  , 36265.81  , 30136.15  ,\n",
       "       30417.467 , 33120.34  , 40035.75  , 27994.365 , 33076.062 ,\n",
       "       29944.084 , 26942.209 , 35632.3   , 30165.643 , 30192.396 ,\n",
       "       39902.746 , 34062.2   , 37373.016 , 33465.723 , 29130.006 ,\n",
       "       37811.12  , 38958.297 , 33602.207 , 37717.777 , 39336.69  ,\n",
       "       29130.121 , 27706.092 , 30264.086 , 27991.111 , 30952.344 ,\n",
       "       29920.658 , 32743.623 , 35823.37  , 29122.66  , 30666.78  ,\n",
       "       36689.45  , 31543.793 , 35968.984 , 26771.414 , 32394.848 ,\n",
       "       28025.902 , 42940.625 , 37843.355 , 36513.82  , 35694.125 ,\n",
       "       37186.758 , 27691.832 , 41757.55  , 42254.43  , 32566.15  ,\n",
       "       39224.594 , 37373.773 , 32309.924 , 39801.848 , 27418.947 ,\n",
       "       37986.1   , 30500.023 , 36913.957 , 28499.064 , 27071.488 ,\n",
       "       36648.21  , 39872.41  , 40366.758 , 31615.846 , 33005.043 ,\n",
       "       32347.994 , 36846.184 , 37391.66  , 32783.81  , 38921.23  ,\n",
       "       34075.906 , 37049.184 , 36123.86  , 34372.035 , 35160.008 ,\n",
       "       27501.059 , 35769.824 , 31148.893 , 35155.715 , 29836.566 ,\n",
       "       38137.992 , 39277.793 , 28274.3   , 29132.545 , 31811.537 ,\n",
       "       28406.121 , 29548.902 , 39376.793 , 35981.484 , 27704.188 ,\n",
       "       32972.44  , 30552.1   , 35462.992 , 33234.22  , 37335.418 ,\n",
       "       38206.875 , 43227.19  , 30493.318 , 35080.566 , 35714.19  ,\n",
       "       34335.383 , 33315.01  , 27626.113 , 26765.03  , 29555.639 ,\n",
       "       32043.34  , 32307.123 , 37693.875 , 30190.307 , 29212.607 ,\n",
       "       37227.574 , 33607.41  , 31382.816 , 36508.49  , 35240.227 ,\n",
       "       43212.594 , 33668.965 , 35004.65  , 29784.504 , 31505.973 ,\n",
       "       32463.895 , 34310.008 , 39108.418 , 40076.4   , 34558.23  ,\n",
       "       34993.15  , 33822.34  , 30935.068 , 31148.98  , 39445.203 ,\n",
       "       37411.125 , 35178.016 , 31570.057 , 31175.393 , 30122.607 ,\n",
       "       40040.457 , 37125.668 , 38485.668 , 30500.207 , 39376.234 ,\n",
       "       29924.215 , 32536.576 , 36680.773 , 40252.348 , 38784.64  ,\n",
       "       44645.777 , 37616.312 , 39456.777 , 30434.514 , 39171.684 ,\n",
       "       39108.996 , 33014.594 , 37598.11  , 41869.13  , 28657.062 ,\n",
       "       30555.545 , 41435.902 , 37656.023 , 31923.906 , 39946.766 ,\n",
       "       27686.195 , 43666.598 , 41086.336 , 35362.062 , 34019.254 ,\n",
       "       33386.17  , 36103.375 , 28016.959 , 38363.19  , 37689.633 ,\n",
       "       35567.69  , 30084.182 , 41248.594 , 36069.355 , 36568.836 ,\n",
       "       31237.025 , 29337.81  , 37496.793 , 37839.9   , 37131.18  ,\n",
       "       41122.48  , 33214.75  , 34004.72  , 36613.28  , 34366.836 ,\n",
       "       42063.16  , 38656.055 , 34781.758 , 30388.395 , 28751.672 ,\n",
       "       31517.22  , 33790.59  , 29256.781 , 38640.8   , 39615.766 ,\n",
       "       32806.062 , 30263.178 , 27325.127 , 37216.09  , 30084.426 ,\n",
       "       39158.207 , 29900.166 , 27255.574 , 31888.809 , 28526.387 ,\n",
       "       26285.477 , 37507.65  , 29497.941 , 40995.426 , 32240.688 ,\n",
       "       28282.865 , 39333.78  , 38628.996 , 39211.156 , 34388.17  ,\n",
       "       33170.344 , 38255.023 , 37977.508 , 28121.068 , 33056.77  ,\n",
       "       33456.418 , 32231.557 , 31691.096 , 38344.81  , 31056.396 ,\n",
       "       36209.16  , 31758.242 , 32549.021 , 29787.045 , 36704.305 ,\n",
       "       39072.25  , 31801.568 , 41630.246 , 37953.97  , 30284.645 ,\n",
       "       31006.06  , 38231.98  , 38303.812 , 34569.562 , 32920.71  ,\n",
       "       30534.998 , 27774.309 , 39165.598 , 29149.176 , 38130.848 ,\n",
       "       42175.043 , 42502.344 , 32681.445 , 36525.918 , 33276.8   ,\n",
       "       29524.225 , 40392.387 , 39657.188 , 37040.75  , 34509.703 ,\n",
       "       28799.166 , 29847.041 , 28750.715 , 40180.2   , 39628.027 ,\n",
       "       33961.324 , 37995.703 , 45855.7   , 34642.188 , 29545.582 ,\n",
       "       41254.3   , 42604.027 , 32118.781 , 31541.062 , 31669.27  ,\n",
       "       30758.695 , 30701.678 , 27886.227 , 30432.383 , 28797.062 ,\n",
       "       32656.066 , 24371.86  , 24893.963 , 31358.953 , 34733.5   ,\n",
       "       33533.156 , 28943.523 , 36895.594 , 35489.582 , 31381.947 ,\n",
       "       31632.354 , 30441.646 , 33464.71  , 29509.555 , 30198.975 ,\n",
       "       31122.69  , 28434.934 , 39354.938 , 27824.855 , 42116.844 ,\n",
       "       39603.82  , 36594.074 , 37822.152 , 27927.621 , 29439.59  ,\n",
       "       29605.979 , 28129.408 , 37954.008 , 30794.809 , 38346.66  ,\n",
       "       28739.535 , 33335.4   , 41072.59  , 37594.746 , 30700.49  ,\n",
       "       39181.137 , 28511.406 , 32095.973 , 40041.48  , 31822.4   ,\n",
       "       37093.91  , 31756.979 , 29600.473 , 31436.375 , 30622.71  ,\n",
       "       41683.277 , 36303.195 , 32864.24  , 32010.209 , 28741.71  ,\n",
       "       34449.184 , 38799.066 , 36568.836 , 42809.77  , 30413.762 ,\n",
       "       30586.98  , 32708.088 , 31629.629 , 31241.424 , 38522.754 ,\n",
       "       39833.418 , 36697.355 , 36539.6   , 29574.145 , 34875.2   ,\n",
       "       28750.98  , 30953.209 , 36065.01  , 31416.525 , 33187.05  ,\n",
       "       26454.672 , 34417.31  , 36375.49  , 36972.605 , 31786.357 ,\n",
       "       41070.918 , 29962.803 , 41402.71  , 38252.23  , 36399.2   ,\n",
       "       37946.266 , 26225.121 , 34528.52  , 44325.25  , 27602.469 ,\n",
       "       37535.605 , 32402.322 , 31559.576 , 32338.127 , 41320.73  ,\n",
       "       33073.67  , 31672.611 , 29250.486 , 42634.316 , 29792.17  ,\n",
       "       32355.814 , 32614.527 , 30549.676 , 40592.08  , 31425.793 ,\n",
       "       33417.105 , 32838.99  , 34027.14  , 30652.74  , 32680.934 ,\n",
       "       29007.852 , 32855.027 , 42583.113 , 36814.266 , 36208.1   ,\n",
       "       29553.068 , 33432.76  , 32977.543 , 30616.424 , 27225.164 ,\n",
       "       27855.129 , 30128.404 , 40187.906 , 36560.37  , 31388.434 ,\n",
       "       32433.105 , 30164.621 , 30481.486 , 31980.512 , 35541.633 ,\n",
       "       33759.023 , 31173.744 , 30221.238 , 25774.162 , 28206.268 ,\n",
       "       28383.826 , 29571.125 , 26995.781 , 30261.354 , 31695.068 ,\n",
       "       29239.143 , 27482.996 , 26880.889 , 26688.846 , 26065.309 ,\n",
       "       27100.74  , 25945.889 , 31901.988 , 25472.727 , 31212.172 ,\n",
       "       25358.166 , 27760.65  , 23253.754 , 24656.137 , 34914.348 ,\n",
       "       27396.729 , 25458.639 , 24903.152 , 23853.693 , 24277.465 ,\n",
       "       22427.273 , 14061.777 ,  3363.809 ,  7693.166 ,  5918.8857,\n",
       "        7538.127 ,  8671.591 ,  8644.309 ,  4671.1406,  3393.4097,\n",
       "       25747.482 ], dtype=float32)"
      ]
     },
     "execution_count": 26,
     "metadata": {
      "tags": []
     },
     "output_type": "execute_result"
    }
   ],
   "source": [
    "covid"
   ]
  },
  {
   "cell_type": "code",
   "execution_count": 27,
   "metadata": {
    "colab": {},
    "colab_type": "code",
    "executionInfo": {
     "elapsed": 1343,
     "status": "ok",
     "timestamp": 1600084766182,
     "user": {
      "displayName": "siddhi jain",
      "photoUrl": "",
      "userId": "16520871993464852151"
     },
     "user_tz": -330
    },
    "id": "Csi_6bkjetkZ"
   },
   "outputs": [],
   "source": [
    "test1=pd.read_excel(\"/content/drive/My Drive/fwdfliprhackathon6_0machinelearningtask/Test_dataset.xlsx\")\n",
    "\n",
    "results_df = pd.DataFrame(data={'City':test1['City'], 'Covid cases':covid})\n",
    "results_df.to_csv('/content/drive/My Drive/fwdfliprhackathon6_0machinelearningtask/output-02.csv', index=False)"
   ]
  },
  {
   "cell_type": "code",
   "execution_count": null,
   "metadata": {
    "colab": {},
    "colab_type": "code",
    "id": "LypqxG8Se-h6"
   },
   "outputs": [],
   "source": []
  }
 ],
 "metadata": {
  "colab": {
   "authorship_tag": "ABX9TyNv93aYDaK+DdpgvobckQq1",
   "mount_file_id": "1TS6MlB2NSf6dSFyK7hUwtFLu5k0sN_0_",
   "name": "October test.ipynb",
   "provenance": []
  },
  "kernelspec": {
   "display_name": "Python 3",
   "language": "python",
   "name": "python3"
  },
  "language_info": {
   "codemirror_mode": {
    "name": "ipython",
    "version": 3
   },
   "file_extension": ".py",
   "mimetype": "text/x-python",
   "name": "python",
   "nbconvert_exporter": "python",
   "pygments_lexer": "ipython3",
   "version": "3.7.4"
  }
 },
 "nbformat": 4,
 "nbformat_minor": 1
}
