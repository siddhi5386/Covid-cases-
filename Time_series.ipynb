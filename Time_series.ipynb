{
 "cells": [
  {
   "cell_type": "code",
   "execution_count": 31,
   "metadata": {
    "colab": {},
    "colab_type": "code",
    "id": "HSGiHDAgMj3t"
   },
   "outputs": [],
   "source": [
    "import pandas as pd\n",
    "import numpy as np"
   ]
  },
  {
   "cell_type": "code",
   "execution_count": 32,
   "metadata": {
    "colab": {},
    "colab_type": "code",
    "id": "-i8RvEZgNanI"
   },
   "outputs": [],
   "source": [
    "#directories\n",
    "test_dir = '/content/drive/My Drive/fwdfliprhackathon6_0machinelearningtask/Test_dataset.xlsx'\n",
    "#loading data\n",
    "test_data =pd.read_excel(test_dir,'Foreign_Visitors_TS')\n",
    "#changing names"
   ]
  },
  {
   "cell_type": "code",
   "execution_count": 33,
   "metadata": {
    "colab": {},
    "colab_type": "code",
    "id": "87au3YXHNgc8"
   },
   "outputs": [],
   "source": [
    "test_data=test_data.rename(columns={'Time Series Data':'2020/04/01','Unnamed: 2':'2020/05/01','Unnamed: 3':'2020/06/01','Unnamed: 4':'2020/07/01','Unnamed: 5':'2020/08/01'}) \n"
   ]
  },
  {
   "cell_type": "code",
   "execution_count": 34,
   "metadata": {
    "colab": {
     "base_uri": "https://localhost:8080/",
     "height": 204
    },
    "colab_type": "code",
    "id": "4e8Up8ycNjp_",
    "outputId": "c5769d46-de9e-45a7-b24e-e7ff335eff1c"
   },
   "outputs": [
    {
     "data": {
      "text/html": [
       "<div>\n",
       "<style scoped>\n",
       "    .dataframe tbody tr th:only-of-type {\n",
       "        vertical-align: middle;\n",
       "    }\n",
       "\n",
       "    .dataframe tbody tr th {\n",
       "        vertical-align: top;\n",
       "    }\n",
       "\n",
       "    .dataframe thead th {\n",
       "        text-align: right;\n",
       "    }\n",
       "</style>\n",
       "<table border=\"1\" class=\"dataframe\">\n",
       "  <thead>\n",
       "    <tr style=\"text-align: right;\">\n",
       "      <th></th>\n",
       "      <th>City</th>\n",
       "      <th>2020/04/01</th>\n",
       "      <th>2020/05/01</th>\n",
       "      <th>2020/06/01</th>\n",
       "      <th>2020/07/01</th>\n",
       "      <th>2020/08/01</th>\n",
       "    </tr>\n",
       "  </thead>\n",
       "  <tbody>\n",
       "    <tr>\n",
       "      <th>1</th>\n",
       "      <td>Tuensang</td>\n",
       "      <td>1614</td>\n",
       "      <td>1946</td>\n",
       "      <td>2372</td>\n",
       "      <td>2500</td>\n",
       "      <td>2769</td>\n",
       "    </tr>\n",
       "    <tr>\n",
       "      <th>2</th>\n",
       "      <td>Lakshmeshwar</td>\n",
       "      <td>369179</td>\n",
       "      <td>445559</td>\n",
       "      <td>541045</td>\n",
       "      <td>572860</td>\n",
       "      <td>636502</td>\n",
       "    </tr>\n",
       "    <tr>\n",
       "      <th>3</th>\n",
       "      <td>Zira</td>\n",
       "      <td>140581</td>\n",
       "      <td>169665</td>\n",
       "      <td>206030</td>\n",
       "      <td>218138</td>\n",
       "      <td>242367</td>\n",
       "    </tr>\n",
       "    <tr>\n",
       "      <th>4</th>\n",
       "      <td>Yawal</td>\n",
       "      <td>2557179</td>\n",
       "      <td>3086249</td>\n",
       "      <td>3747597</td>\n",
       "      <td>3968032</td>\n",
       "      <td>4408916</td>\n",
       "    </tr>\n",
       "    <tr>\n",
       "      <th>5</th>\n",
       "      <td>Thana Bhawan</td>\n",
       "      <td>1800363</td>\n",
       "      <td>2172850</td>\n",
       "      <td>2638469</td>\n",
       "      <td>2793662</td>\n",
       "      <td>3104060</td>\n",
       "    </tr>\n",
       "  </tbody>\n",
       "</table>\n",
       "</div>"
      ],
      "text/plain": [
       "           City 2020/04/01 2020/05/01 2020/06/01 2020/07/01 2020/08/01\n",
       "1      Tuensang       1614       1946       2372       2500       2769\n",
       "2  Lakshmeshwar     369179     445559     541045     572860     636502\n",
       "3          Zira     140581     169665     206030     218138     242367\n",
       "4         Yawal    2557179    3086249    3747597    3968032    4408916\n",
       "5  Thana Bhawan    1800363    2172850    2638469    2793662    3104060"
      ]
     },
     "execution_count": 34,
     "metadata": {
      "tags": []
     },
     "output_type": "execute_result"
    }
   ],
   "source": [
    "#dropping first row(which is nothing but date and time)\n",
    "test_data=test_data.drop([0],axis=0)\n",
    "#show top 5 rows of training dataframe\n",
    "test_data.head()"
   ]
  },
  {
   "cell_type": "code",
   "execution_count": 35,
   "metadata": {
    "colab": {
     "base_uri": "https://localhost:8080/",
     "height": 136
    },
    "colab_type": "code",
    "id": "NLMPrNmiNnFu",
    "outputId": "6e540c08-7b9e-4622-a159-b82230363d81"
   },
   "outputs": [
    {
     "data": {
      "text/plain": [
       "City          object\n",
       "2020/04/01    object\n",
       "2020/05/01    object\n",
       "2020/06/01    object\n",
       "2020/07/01    object\n",
       "2020/08/01    object\n",
       "dtype: object"
      ]
     },
     "execution_count": 35,
     "metadata": {
      "tags": []
     },
     "output_type": "execute_result"
    }
   ],
   "source": [
    "test_data.dtypes"
   ]
  },
  {
   "cell_type": "code",
   "execution_count": 36,
   "metadata": {
    "colab": {},
    "colab_type": "code",
    "id": "uY8BDZl0NsF_"
   },
   "outputs": [],
   "source": [
    "test_data['2020/04/01'] = test_data['2020/04/01'].astype(float)\n",
    "test_data['2020/05/01'] = test_data['2020/05/01'].astype(float)\n",
    "test_data['2020/06/01'] = test_data['2020/06/01'].astype(float)\n",
    "test_data['2020/07/01'] = test_data['2020/07/01'].astype(float)\n",
    "test_data['2020/08/01'] = test_data['2020/08/01'].astype(float)"
   ]
  },
  {
   "cell_type": "code",
   "execution_count": 37,
   "metadata": {
    "colab": {},
    "colab_type": "code",
    "id": "987ufN9LOFvA"
   },
   "outputs": [],
   "source": [
    "City = test_data[\"City\"].values"
   ]
  },
  {
   "cell_type": "code",
   "execution_count": 38,
   "metadata": {
    "colab": {},
    "colab_type": "code",
    "id": "AV0abrwSOSKT"
   },
   "outputs": [],
   "source": [
    "test_data.drop(['City'],axis=1,inplace=True)"
   ]
  },
  {
   "cell_type": "code",
   "execution_count": 39,
   "metadata": {
    "colab": {},
    "colab_type": "code",
    "id": "MMX8U6fONuEw"
   },
   "outputs": [],
   "source": [
    "test_data=test_data.transpose()"
   ]
  },
  {
   "cell_type": "code",
   "execution_count": 40,
   "metadata": {
    "colab": {},
    "colab_type": "code",
    "id": "CVBzflVANy5L"
   },
   "outputs": [],
   "source": [
    "for i in range(1,502):\n",
    "    test_data.replace(np.NaN,{i:test_data[i].mean()},inplace=True)"
   ]
  },
  {
   "cell_type": "code",
   "execution_count": 41,
   "metadata": {
    "colab": {},
    "colab_type": "code",
    "id": "qVIo8vNWN1qj"
   },
   "outputs": [],
   "source": [
    "test_data=test_data.transpose()"
   ]
  },
  {
   "cell_type": "code",
   "execution_count": 42,
   "metadata": {
    "colab": {
     "base_uri": "https://localhost:8080/",
     "height": 419
    },
    "colab_type": "code",
    "id": "w_rIQt8cOZvo",
    "outputId": "cb25afe8-6b39-4213-8b9b-96da1e28ee57"
   },
   "outputs": [
    {
     "data": {
      "text/html": [
       "<div>\n",
       "<style scoped>\n",
       "    .dataframe tbody tr th:only-of-type {\n",
       "        vertical-align: middle;\n",
       "    }\n",
       "\n",
       "    .dataframe tbody tr th {\n",
       "        vertical-align: top;\n",
       "    }\n",
       "\n",
       "    .dataframe thead th {\n",
       "        text-align: right;\n",
       "    }\n",
       "</style>\n",
       "<table border=\"1\" class=\"dataframe\">\n",
       "  <thead>\n",
       "    <tr style=\"text-align: right;\">\n",
       "      <th></th>\n",
       "      <th>2020/04/01</th>\n",
       "      <th>2020/05/01</th>\n",
       "      <th>2020/06/01</th>\n",
       "      <th>2020/07/01</th>\n",
       "      <th>2020/08/01</th>\n",
       "    </tr>\n",
       "  </thead>\n",
       "  <tbody>\n",
       "    <tr>\n",
       "      <th>1</th>\n",
       "      <td>1614.0</td>\n",
       "      <td>1946.0</td>\n",
       "      <td>2372.0</td>\n",
       "      <td>2500.0</td>\n",
       "      <td>2769.0</td>\n",
       "    </tr>\n",
       "    <tr>\n",
       "      <th>2</th>\n",
       "      <td>369179.0</td>\n",
       "      <td>445559.0</td>\n",
       "      <td>541045.0</td>\n",
       "      <td>572860.0</td>\n",
       "      <td>636502.0</td>\n",
       "    </tr>\n",
       "    <tr>\n",
       "      <th>3</th>\n",
       "      <td>140581.0</td>\n",
       "      <td>169665.0</td>\n",
       "      <td>206030.0</td>\n",
       "      <td>218138.0</td>\n",
       "      <td>242367.0</td>\n",
       "    </tr>\n",
       "    <tr>\n",
       "      <th>4</th>\n",
       "      <td>2557179.0</td>\n",
       "      <td>3086249.0</td>\n",
       "      <td>3747597.0</td>\n",
       "      <td>3968032.0</td>\n",
       "      <td>4408916.0</td>\n",
       "    </tr>\n",
       "    <tr>\n",
       "      <th>5</th>\n",
       "      <td>1800363.0</td>\n",
       "      <td>2172850.0</td>\n",
       "      <td>2638469.0</td>\n",
       "      <td>2793662.0</td>\n",
       "      <td>3104060.0</td>\n",
       "    </tr>\n",
       "    <tr>\n",
       "      <th>...</th>\n",
       "      <td>...</td>\n",
       "      <td>...</td>\n",
       "      <td>...</td>\n",
       "      <td>...</td>\n",
       "      <td>...</td>\n",
       "    </tr>\n",
       "    <tr>\n",
       "      <th>497</th>\n",
       "      <td>61420.0</td>\n",
       "      <td>74125.0</td>\n",
       "      <td>90018.0</td>\n",
       "      <td>95302.0</td>\n",
       "      <td>105882.0</td>\n",
       "    </tr>\n",
       "    <tr>\n",
       "      <th>498</th>\n",
       "      <td>61420.0</td>\n",
       "      <td>74125.0</td>\n",
       "      <td>90018.0</td>\n",
       "      <td>95302.0</td>\n",
       "      <td>105882.0</td>\n",
       "    </tr>\n",
       "    <tr>\n",
       "      <th>499</th>\n",
       "      <td>61420.0</td>\n",
       "      <td>74125.0</td>\n",
       "      <td>90018.0</td>\n",
       "      <td>95302.0</td>\n",
       "      <td>105882.0</td>\n",
       "    </tr>\n",
       "    <tr>\n",
       "      <th>500</th>\n",
       "      <td>61420.0</td>\n",
       "      <td>74125.0</td>\n",
       "      <td>90018.0</td>\n",
       "      <td>95302.0</td>\n",
       "      <td>105882.0</td>\n",
       "    </tr>\n",
       "    <tr>\n",
       "      <th>501</th>\n",
       "      <td>1800363.0</td>\n",
       "      <td>2172850.0</td>\n",
       "      <td>2638469.0</td>\n",
       "      <td>2793662.0</td>\n",
       "      <td>3104060.0</td>\n",
       "    </tr>\n",
       "  </tbody>\n",
       "</table>\n",
       "<p>501 rows × 5 columns</p>\n",
       "</div>"
      ],
      "text/plain": [
       "     2020/04/01  2020/05/01  2020/06/01  2020/07/01  2020/08/01\n",
       "1        1614.0      1946.0      2372.0      2500.0      2769.0\n",
       "2      369179.0    445559.0    541045.0    572860.0    636502.0\n",
       "3      140581.0    169665.0    206030.0    218138.0    242367.0\n",
       "4     2557179.0   3086249.0   3747597.0   3968032.0   4408916.0\n",
       "5     1800363.0   2172850.0   2638469.0   2793662.0   3104060.0\n",
       "..          ...         ...         ...         ...         ...\n",
       "497     61420.0     74125.0     90018.0     95302.0    105882.0\n",
       "498     61420.0     74125.0     90018.0     95302.0    105882.0\n",
       "499     61420.0     74125.0     90018.0     95302.0    105882.0\n",
       "500     61420.0     74125.0     90018.0     95302.0    105882.0\n",
       "501   1800363.0   2172850.0   2638469.0   2793662.0   3104060.0\n",
       "\n",
       "[501 rows x 5 columns]"
      ]
     },
     "execution_count": 42,
     "metadata": {
      "tags": []
     },
     "output_type": "execute_result"
    }
   ],
   "source": [
    "test_data"
   ]
  },
  {
   "cell_type": "code",
   "execution_count": 43,
   "metadata": {
    "colab": {},
    "colab_type": "code",
    "id": "EKUldO04SMJw"
   },
   "outputs": [],
   "source": [
    "\n",
    "def split_dataset(sequence, n_steps):\n",
    "    X = list()\n",
    "    for i in range(len(sequence)):\n",
    "        end_ix = i + n_steps\n",
    "        if end_ix == len(sequence):\n",
    "            break\n",
    "        seq_x = sequence[i:end_ix+1]\n",
    "        X.append(seq_x)\n",
    "    return pd.DataFrame(X)"
   ]
  },
  {
   "cell_type": "code",
   "execution_count": 44,
   "metadata": {
    "colab": {},
    "colab_type": "code",
    "id": "pgeyBuXUObXp"
   },
   "outputs": [],
   "source": [
    "def get_data(data,n_steps):\n",
    "    database = pd.DataFrame()\n",
    "    for i in range(len(data)):\n",
    "        arr = split_dataset(data.values[i],n_steps)\n",
    "        database = database.append(arr, ignore_index=True)\n",
    "    print(\"data:\", data.shape)\n",
    "    print(\"database:\", database.shape)\n",
    "    return database"
   ]
  },
  {
   "cell_type": "code",
   "execution_count": 46,
   "metadata": {
    "colab": {
     "base_uri": "https://localhost:8080/",
     "height": 34
    },
    "colab_type": "code",
    "id": "IkcFiI3hQNaD",
    "outputId": "e27e39cb-eb99-451a-cd0d-9328fcb52217"
   },
   "outputs": [
    {
     "data": {
      "text/plain": [
       "array([1614., 1946., 2372., 2500., 2769.])"
      ]
     },
     "execution_count": 46,
     "metadata": {
      "tags": []
     },
     "output_type": "execute_result"
    }
   ],
   "source": [
    "test_data.values[0]"
   ]
  },
  {
   "cell_type": "code",
   "execution_count": 45,
   "metadata": {
    "colab": {
     "base_uri": "https://localhost:8080/",
     "height": 85
    },
    "colab_type": "code",
    "id": "Un17pvyEPO5n",
    "outputId": "bb8a9a54-79d2-4020-9271-2739fd86530d"
   },
   "outputs": [
    {
     "name": "stdout",
     "output_type": "stream",
     "text": [
      "data: (501, 5)\n",
      "database: (2004, 2)\n",
      "(2004, 1)\n",
      "(2004,)\n"
     ]
    }
   ],
   "source": [
    "n_steps = 1\n",
    "train_database= get_data(test_data,n_steps)\n",
    "Y_train = train_database[n_steps].values\n",
    "train_database = train_database.drop(n_steps, axis=1)\n",
    "X_train = train_database.values\n",
    "print(X_train.shape)\n",
    "print(Y_train.shape)"
   ]
  },
  {
   "cell_type": "code",
   "execution_count": 48,
   "metadata": {
    "colab": {},
    "colab_type": "code",
    "id": "epQeN94pPqWz"
   },
   "outputs": [],
   "source": [
    "np.savez(\"/content/drive/My Drive/fwdfliprhackathon6_0machinelearningtask/time_data.npz\", X_train=X_train, Y_train=Y_train, City= City, n_steps=np.array([n_steps]))"
   ]
  },
  {
   "cell_type": "code",
   "execution_count": 52,
   "metadata": {
    "colab": {},
    "colab_type": "code",
    "id": "JzgCHrwpS2NZ"
   },
   "outputs": [],
   "source": [
    "import numpy as np\n",
    "data = np.load(\"/content/drive/My Drive/fwdfliprhackathon6_0machinelearningtask/time_data.npz\")\n",
    "X_train = data[\"X_train\"]\n",
    "Y_train = data[\"Y_train\"]\n",
    "\n",
    "n_steps = data[\"n_steps\"][0]"
   ]
  },
  {
   "cell_type": "code",
   "execution_count": 53,
   "metadata": {
    "colab": {
     "base_uri": "https://localhost:8080/",
     "height": 34
    },
    "colab_type": "code",
    "id": "6uRoVkMES-6P",
    "outputId": "bb2c43ad-269c-4586-df31-28f25c24484b"
   },
   "outputs": [
    {
     "name": "stdout",
     "output_type": "stream",
     "text": [
      "1\n"
     ]
    }
   ],
   "source": [
    "print(n_steps)"
   ]
  },
  {
   "cell_type": "code",
   "execution_count": 54,
   "metadata": {
    "colab": {},
    "colab_type": "code",
    "id": "AWZvaMm7Tg3f"
   },
   "outputs": [],
   "source": [
    "from tensorflow.keras.models import Sequential\n",
    "from tensorflow.keras.layers import LSTM, Dense, Input"
   ]
  },
  {
   "cell_type": "code",
   "execution_count": 69,
   "metadata": {
    "colab": {},
    "colab_type": "code",
    "id": "SXzh-dF8Tjug"
   },
   "outputs": [],
   "source": [
    "model = Sequential()\n",
    "model.add(Input((n_steps,1)))\n",
    "model.add(LSTM(units=100, activation=\"relu\",return_sequences=True))\n",
    "model.add(LSTM(units=55, activation=\"relu\",return_sequences=True))\n",
    "model.add(Dense(1))\n",
    "model.compile(optimizer=\"adam\", loss=\"msle\")"
   ]
  },
  {
   "cell_type": "code",
   "execution_count": 70,
   "metadata": {
    "colab": {},
    "colab_type": "code",
    "id": "rkg8yQ_rTmvJ"
   },
   "outputs": [],
   "source": [
    "X = X_train.reshape((X_train.shape[0], X_train.shape[1], 1))"
   ]
  },
  {
   "cell_type": "code",
   "execution_count": 71,
   "metadata": {
    "colab": {},
    "colab_type": "code",
    "id": "8uaxVKAbTpC-"
   },
   "outputs": [],
   "source": [
    "Y = Y_train.reshape(-1,1)"
   ]
  },
  {
   "cell_type": "code",
   "execution_count": 72,
   "metadata": {
    "colab": {
     "base_uri": "https://localhost:8080/",
     "height": 51
    },
    "colab_type": "code",
    "id": "A21ETdNbTrQ0",
    "outputId": "8bdff1d3-d818-43e2-d1ac-25a9c2634fa3"
   },
   "outputs": [
    {
     "name": "stdout",
     "output_type": "stream",
     "text": [
      "X: (2004, 1, 1)\n",
      "Y: (2004, 1)\n"
     ]
    }
   ],
   "source": [
    "\n",
    "print(\"X:\", X.shape)\n",
    "print(\"Y:\", Y.shape)"
   ]
  },
  {
   "cell_type": "code",
   "execution_count": 73,
   "metadata": {
    "colab": {
     "base_uri": "https://localhost:8080/",
     "height": 1000
    },
    "colab_type": "code",
    "id": "S3yoa4JcTtft",
    "outputId": "ca0e2362-5165-49ce-9056-d8bdbd09bdc0"
   },
   "outputs": [
    {
     "name": "stdout",
     "output_type": "stream",
     "text": [
      "Epoch 1/30\n",
      "51/51 [==============================] - 1s 10ms/step - loss: 10.9213 - val_loss: 6.5473\n",
      "Epoch 2/30\n",
      "51/51 [==============================] - 0s 4ms/step - loss: 5.0499 - val_loss: 3.7814\n",
      "Epoch 3/30\n",
      "51/51 [==============================] - 0s 4ms/step - loss: 3.0307 - val_loss: 2.3552\n",
      "Epoch 4/30\n",
      "51/51 [==============================] - 0s 4ms/step - loss: 1.9240 - val_loss: 1.5221\n",
      "Epoch 5/30\n",
      "51/51 [==============================] - 0s 4ms/step - loss: 1.1805 - val_loss: 0.8194\n",
      "Epoch 6/30\n",
      "51/51 [==============================] - 0s 4ms/step - loss: 0.6060 - val_loss: 0.4191\n",
      "Epoch 7/30\n",
      "51/51 [==============================] - 0s 4ms/step - loss: 0.3151 - val_loss: 0.2202\n",
      "Epoch 8/30\n",
      "51/51 [==============================] - 0s 4ms/step - loss: 0.1678 - val_loss: 0.1173\n",
      "Epoch 9/30\n",
      "51/51 [==============================] - 0s 4ms/step - loss: 0.0906 - val_loss: 0.0630\n",
      "Epoch 10/30\n",
      "51/51 [==============================] - 0s 4ms/step - loss: 0.0496 - val_loss: 0.0341\n",
      "Epoch 11/30\n",
      "51/51 [==============================] - 0s 4ms/step - loss: 0.0281 - val_loss: 0.0192\n",
      "Epoch 12/30\n",
      "51/51 [==============================] - 0s 4ms/step - loss: 0.0170 - val_loss: 0.0117\n",
      "Epoch 13/30\n",
      "51/51 [==============================] - 0s 4ms/step - loss: 0.0114 - val_loss: 0.0079\n",
      "Epoch 14/30\n",
      "51/51 [==============================] - 0s 4ms/step - loss: 0.0087 - val_loss: 0.0061\n",
      "Epoch 15/30\n",
      "51/51 [==============================] - 0s 4ms/step - loss: 0.0074 - val_loss: 0.0053\n",
      "Epoch 16/30\n",
      "51/51 [==============================] - 0s 4ms/step - loss: 0.0068 - val_loss: 0.0050\n",
      "Epoch 17/30\n",
      "51/51 [==============================] - 0s 4ms/step - loss: 0.0065 - val_loss: 0.0048\n",
      "Epoch 18/30\n",
      "51/51 [==============================] - 0s 4ms/step - loss: 0.0064 - val_loss: 0.0048\n",
      "Epoch 19/30\n",
      "51/51 [==============================] - 0s 4ms/step - loss: 0.0064 - val_loss: 0.0048\n",
      "Epoch 20/30\n",
      "51/51 [==============================] - 0s 4ms/step - loss: 0.0064 - val_loss: 0.0048\n",
      "Epoch 21/30\n",
      "51/51 [==============================] - 0s 5ms/step - loss: 0.0064 - val_loss: 0.0048\n",
      "Epoch 22/30\n",
      "51/51 [==============================] - 0s 4ms/step - loss: 0.0064 - val_loss: 0.0048\n",
      "Epoch 23/30\n",
      "51/51 [==============================] - 0s 4ms/step - loss: 0.0064 - val_loss: 0.0048\n",
      "Epoch 24/30\n",
      "51/51 [==============================] - 0s 4ms/step - loss: 0.0064 - val_loss: 0.0048\n",
      "Epoch 25/30\n",
      "51/51 [==============================] - 0s 5ms/step - loss: 0.0064 - val_loss: 0.0048\n",
      "Epoch 26/30\n",
      "51/51 [==============================] - 0s 4ms/step - loss: 0.0064 - val_loss: 0.0048\n",
      "Epoch 27/30\n",
      "51/51 [==============================] - 0s 4ms/step - loss: 0.0064 - val_loss: 0.0048\n",
      "Epoch 28/30\n",
      "51/51 [==============================] - 0s 4ms/step - loss: 0.0064 - val_loss: 0.0048\n",
      "Epoch 29/30\n",
      "51/51 [==============================] - 0s 4ms/step - loss: 0.0064 - val_loss: 0.0048\n",
      "Epoch 30/30\n",
      "51/51 [==============================] - 0s 4ms/step - loss: 0.0064 - val_loss: 0.0048\n"
     ]
    },
    {
     "data": {
      "text/plain": [
       "<tensorflow.python.keras.callbacks.History at 0x7fcb0aa72668>"
      ]
     },
     "execution_count": 73,
     "metadata": {
      "tags": []
     },
     "output_type": "execute_result"
    }
   ],
   "source": [
    "model.fit(X,Y,epochs=30, validation_split=0.2)"
   ]
  },
  {
   "cell_type": "code",
   "execution_count": 74,
   "metadata": {
    "colab": {},
    "colab_type": "code",
    "id": "079wa5YITxYs"
   },
   "outputs": [],
   "source": [
    "model.save(\"/content/drive/My Drive/fwdfliprhackathon6_0machinelearningtask/Time_model_real.h5\")"
   ]
  },
  {
   "cell_type": "code",
   "execution_count": 75,
   "metadata": {
    "colab": {
     "base_uri": "https://localhost:8080/",
     "height": 255
    },
    "colab_type": "code",
    "id": "ymo10eT-VMJr",
    "outputId": "c055dbc3-e3a2-4f23-c041-01a8272f0d19"
   },
   "outputs": [
    {
     "name": "stdout",
     "output_type": "stream",
     "text": [
      "Model: \"sequential_5\"\n",
      "_________________________________________________________________\n",
      "Layer (type)                 Output Shape              Param #   \n",
      "=================================================================\n",
      "lstm_7 (LSTM)                (None, 1, 100)            40800     \n",
      "_________________________________________________________________\n",
      "lstm_8 (LSTM)                (None, 1, 55)             34320     \n",
      "_________________________________________________________________\n",
      "dense_5 (Dense)              (None, 1, 1)              56        \n",
      "=================================================================\n",
      "Total params: 75,176\n",
      "Trainable params: 75,176\n",
      "Non-trainable params: 0\n",
      "_________________________________________________________________\n"
     ]
    }
   ],
   "source": [
    "\n",
    "model.summary()"
   ]
  },
  {
   "cell_type": "code",
   "execution_count": 77,
   "metadata": {
    "colab": {},
    "colab_type": "code",
    "id": "qpqQrGBqV97K"
   },
   "outputs": [],
   "source": [
    "from tensorflow.keras.models import load_model\n",
    "time_model = load_model(\"/content/drive/My Drive/fwdfliprhackathon6_0machinelearningtask/Time_model_real.h5\")"
   ]
  },
  {
   "cell_type": "code",
   "execution_count": 80,
   "metadata": {
    "colab": {},
    "colab_type": "code",
    "id": "PmPeZtHpWMt5"
   },
   "outputs": [],
   "source": [
    "test_dataset = pd.read_excel(\"/content/drive/My Drive/fwdfliprhackathon6_0machinelearningtask/Test_dataset.xlsx\")\n",
    "test_fv = test_dataset[\"Foreign Visitors\"]"
   ]
  },
  {
   "cell_type": "code",
   "execution_count": 81,
   "metadata": {
    "colab": {
     "base_uri": "https://localhost:8080/",
     "height": 34
    },
    "colab_type": "code",
    "id": "5QOhIt2cXXl7",
    "outputId": "b9c312f1-e750-47aa-a824-b3d1e303e6ea"
   },
   "outputs": [
    {
     "name": "stdout",
     "output_type": "stream",
     "text": [
      "(501, 1, 1)\n"
     ]
    }
   ],
   "source": [
    "input_arr = test_fv.values.reshape(-1,1,1)\n",
    "print(input_arr.shape)"
   ]
  },
  {
   "cell_type": "code",
   "execution_count": 82,
   "metadata": {
    "colab": {},
    "colab_type": "code",
    "id": "eKd9yKzEXqfH"
   },
   "outputs": [],
   "source": [
    "n=1\n",
    "for i in range(n):\n",
    "    input_arr = time_model.predict(input_arr)\n",
    "    input_arr = input_arr.reshape(-1,1,1)\n"
   ]
  },
  {
   "cell_type": "code",
   "execution_count": 83,
   "metadata": {
    "colab": {},
    "colab_type": "code",
    "id": "g9zaE8r4Xw2o"
   },
   "outputs": [],
   "source": [
    "input_arr = input_arr.flatten()"
   ]
  },
  {
   "cell_type": "code",
   "execution_count": 84,
   "metadata": {
    "colab": {},
    "colab_type": "code",
    "id": "lrri-LzUX1jB"
   },
   "outputs": [],
   "source": [
    "test_dataset[\"Foreign Visitors\"] = input_arr.astype(\"int64\")"
   ]
  },
  {
   "cell_type": "code",
   "execution_count": 86,
   "metadata": {
    "colab": {},
    "colab_type": "code",
    "id": "wNZl1XDzYCXI"
   },
   "outputs": [],
   "source": [
    "test_dataset.to_excel(\"/content/drive/My Drive/fwdfliprhackathon6_0machinelearningtask/October_test_dataset.xlsx\")"
   ]
  },
  {
   "cell_type": "code",
   "execution_count": 87,
   "metadata": {
    "colab": {
     "base_uri": "https://localhost:8080/",
     "height": 1000
    },
    "colab_type": "code",
    "id": "wQ1AGfT6YGsX",
    "outputId": "b7616687-072d-4bfa-a2e9-3152de79fcdc"
   },
   "outputs": [
    {
     "data": {
      "text/plain": [
       "array([3.13487207e+03, 7.20371562e+05, 2.74303438e+05, 4.98985600e+06,\n",
       "       3.51306675e+06, 7.20371562e+05, 4.98985600e+06, 1.42691672e+05,\n",
       "       7.20371562e+05, 1.66970575e+06, 1.68576438e+06, 4.98985600e+06,\n",
       "       6.45774561e+03, 1.89894172e+05, 4.98985600e+06, 7.20371562e+05,\n",
       "       7.20371562e+05, 4.76887031e+05, 4.76887031e+05, 2.69195781e+05,\n",
       "       7.20371562e+05, 1.66970575e+06, 6.62862188e+04, 4.98985600e+06,\n",
       "       1.66970575e+06, 7.20371562e+05, 5.30198700e+06, 3.51306675e+06,\n",
       "       3.13487207e+03, 3.22523406e+05, 7.20371562e+05, 1.66970575e+06,\n",
       "                  nan, 4.98985600e+06, 4.98985600e+06, 2.74303438e+05,\n",
       "       3.51306675e+06, 1.66970575e+06, 4.76887031e+05, 1.66970575e+06,\n",
       "       5.30198700e+06, 4.98985600e+06, 4.59619750e+05, 3.22523406e+05,\n",
       "       1.19834531e+05, 4.76887031e+05, 1.04545388e+06, 1.04545388e+06,\n",
       "       4.76887031e+05, 4.98985600e+06, 1.89894172e+05, 1.89894172e+05,\n",
       "       1.10627725e+06, 7.57964375e+04, 3.22523406e+05, 2.69195781e+05,\n",
       "       3.51306675e+06, 1.04545388e+06, 1.42691672e+05, 5.30198700e+06,\n",
       "       1.66970575e+06, 4.98985600e+06, 3.43059344e+05, 1.04545394e+06,\n",
       "       1.10627725e+06, 3.51306675e+06, 1.89894172e+05, 4.98985600e+06,\n",
       "       3.51306675e+06, 4.76887031e+05, 4.76887031e+05, 3.51306675e+06,\n",
       "       3.51306675e+06, 1.42691672e+05, 3.43059312e+05, 3.94837695e+04,\n",
       "       1.66970575e+06, 5.30198700e+06, 1.66970575e+06, 2.69195781e+05,\n",
       "       4.98985600e+06, 1.04545388e+06, 7.20371562e+05, 7.20371562e+05,\n",
       "       5.30198700e+06, 3.22523406e+05, 3.22523406e+05, 1.42691672e+05,\n",
       "       3.51306675e+06, 7.23753174e+03, 4.76887031e+05, 1.10627725e+06,\n",
       "       4.76887031e+05, 4.76887031e+05, 3.51306675e+06, 5.30198700e+06,\n",
       "       3.22523406e+05, 5.30198700e+06, 3.51306675e+06, 1.89894172e+05,\n",
       "       1.66970575e+06, 5.30198700e+06, 4.98985600e+06, 3.51306675e+06,\n",
       "       7.20371562e+05, 4.98985600e+06, 7.23753174e+03, 7.20371562e+05,\n",
       "       7.20371562e+05, 1.66970575e+06, 5.30198700e+06, 1.04545388e+06,\n",
       "       2.79782520e+04, 5.30198700e+06, 7.57964375e+04, 4.98985600e+06,\n",
       "       3.13487207e+03, 1.68576438e+06, 1.66970575e+06, 1.66970575e+06,\n",
       "       1.68576438e+06, 7.20371562e+05, 3.94837695e+04, 3.22523406e+05,\n",
       "       7.23753174e+03, 2.69195781e+05, 4.98985600e+06, 5.30198700e+06,\n",
       "       5.30198700e+06, 4.98985600e+06, 1.19834531e+05, 1.04545388e+06,\n",
       "       1.04545388e+06,            nan,            nan, 4.76887031e+05,\n",
       "       1.19834531e+05, 7.57964375e+04, 7.20371562e+05, 3.43059312e+05,\n",
       "       4.76887031e+05, 4.98985600e+06, 3.22523406e+05, 2.69195781e+05,\n",
       "       1.66970575e+06, 4.76887031e+05, 2.69195781e+05, 5.30198700e+06,\n",
       "       5.30198700e+06, 1.10627725e+06, 3.51306675e+06, 1.66970575e+06,\n",
       "       4.98985600e+06, 1.10627725e+06, 5.30198700e+06, 4.98985600e+06,\n",
       "       4.59619750e+05, 3.51306675e+06, 3.43059344e+05, 1.19834539e+05,\n",
       "       2.79782520e+04, 9.08570410e+03, 1.10627725e+06, 1.66970575e+06,\n",
       "       1.66970575e+06, 1.10627725e+06, 1.66970575e+06, 1.66970575e+06,\n",
       "       3.51306675e+06, 3.51306675e+06, 7.20371562e+05, 3.51306675e+06,\n",
       "       1.66970575e+06, 5.30198700e+06, 4.98985600e+06, 7.20371562e+05,\n",
       "       3.22523406e+05, 3.22523406e+05, 3.22523406e+05, 1.10627725e+06,\n",
       "       2.79782520e+04, 3.22523406e+05, 7.20371562e+05, 4.98985600e+06,\n",
       "       7.57964375e+04, 1.66970575e+06, 3.22523406e+05, 1.19834531e+05,\n",
       "       1.66970575e+06, 7.20371562e+05, 7.20371562e+05, 3.43059344e+05,\n",
       "       3.22523406e+05, 3.51306675e+06, 3.43059312e+05, 4.98985600e+06,\n",
       "       1.04545388e+06, 5.30198700e+06, 1.66970575e+06, 1.68576438e+06,\n",
       "       1.10627725e+06, 3.51306675e+06, 1.04545388e+06, 1.68576438e+06,\n",
       "       1.68576438e+06, 7.20371562e+05, 7.20371562e+05, 4.98985600e+06,\n",
       "       3.22523406e+05, 5.30198700e+06, 3.94837695e+04, 1.42691672e+05,\n",
       "       4.98985600e+06, 4.98985600e+06, 3.51306675e+06, 3.51306675e+06,\n",
       "       5.30198700e+06, 4.98985600e+06, 1.10627725e+06, 7.20371562e+05,\n",
       "       1.66970575e+06, 4.98985600e+06, 4.98985600e+06, 7.20371562e+05,\n",
       "       7.20371562e+05, 4.76887031e+05, 4.98985600e+06, 3.51306675e+06,\n",
       "       7.20371562e+05, 4.98985600e+06, 5.30198700e+06, 3.43059312e+05,\n",
       "       4.98985600e+06, 5.30198700e+06, 1.68576438e+06, 4.76887031e+05,\n",
       "       1.66970575e+06, 4.98985600e+06, 1.04545388e+06, 7.20371562e+05,\n",
       "       4.98985600e+06, 1.66970575e+06, 3.22523406e+05, 5.30198700e+06,\n",
       "       1.19834531e+05, 5.30198700e+06, 5.30198700e+06, 4.76887031e+05,\n",
       "       1.19834531e+05, 3.51306675e+06, 3.22523406e+05, 4.76887031e+05,\n",
       "       4.76887031e+05, 5.30198700e+06, 4.98985600e+06, 2.79782520e+04,\n",
       "       3.51306675e+06, 4.76887031e+05, 7.20371562e+05, 1.66970575e+06,\n",
       "       1.04545388e+06, 4.76887031e+05, 3.51306675e+06, 1.66970575e+06,\n",
       "       2.74303438e+05, 3.51306675e+06, 7.20371562e+05, 3.51306675e+06,\n",
       "       1.04545388e+06, 3.51306675e+06, 1.66970575e+06, 5.30198700e+06,\n",
       "       7.20371562e+05, 5.30198700e+06, 3.43059312e+05, 4.76887031e+05,\n",
       "       5.30198700e+06, 4.98985600e+06, 1.89894172e+05, 1.10627725e+06,\n",
       "       3.51306675e+06, 2.79782520e+04, 1.19834531e+05, 4.59619750e+05,\n",
       "       4.76887031e+05, 2.79782520e+04, 2.69195781e+05, 2.74303438e+05,\n",
       "       3.43059312e+05, 5.30198700e+06, 7.20371562e+05, 4.76887031e+05,\n",
       "       5.30198700e+06, 5.30198700e+06, 3.51306675e+06, 3.51306675e+06,\n",
       "       1.04545388e+06, 1.66970575e+06, 1.10627725e+06, 3.51306675e+06,\n",
       "       2.69195781e+05, 2.74303438e+05, 4.98985600e+06, 3.51306675e+06,\n",
       "       5.30198700e+06, 4.59619750e+05, 5.30198700e+06, 2.69195781e+05,\n",
       "       7.20371562e+05, 1.10627725e+06, 3.51306675e+06, 1.68576438e+06,\n",
       "       5.30198700e+06, 7.20371562e+05, 7.57964375e+04, 3.22523406e+05,\n",
       "       4.76887031e+05, 1.66970575e+06, 7.20371562e+05, 1.04545394e+06,\n",
       "       1.66970575e+06, 4.98985600e+06, 5.30198700e+06, 3.69057910e+03,\n",
       "       1.66970575e+06, 4.98985600e+06, 5.30198700e+06, 3.51306675e+06,\n",
       "       3.51306675e+06, 3.51306675e+06, 1.10627725e+06, 2.74303438e+05,\n",
       "       4.76887031e+05, 4.76887031e+05, 3.51306675e+06,            nan,\n",
       "                  nan,            nan,            nan, 3.22523406e+05,\n",
       "       3.51306675e+06, 4.76887031e+05, 4.98985600e+06, 1.66970575e+06,\n",
       "       2.74303438e+05, 1.66970575e+06, 1.66970575e+06, 1.19834531e+05,\n",
       "       2.74303438e+05, 1.66970575e+06, 3.51306675e+06, 1.89894156e+05,\n",
       "       1.68576438e+06, 6.45774561e+03, 1.04545388e+06, 5.30198700e+06,\n",
       "       1.68576438e+06, 5.30198700e+06, 2.74303438e+05, 2.03447546e+03,\n",
       "       4.76887031e+05, 1.66970575e+06, 4.98985600e+06, 2.74303438e+05,\n",
       "       1.04545388e+06, 3.51306675e+06, 1.19834531e+05, 4.98985600e+06,\n",
       "       7.20371562e+05, 1.66970575e+06, 5.30198700e+06, 3.51306675e+06,\n",
       "       4.76887031e+05, 5.30198700e+06, 4.76887031e+05, 1.19834531e+05,\n",
       "       4.76887031e+05, 2.74303438e+05, 3.51306675e+06, 3.51306675e+06,\n",
       "       1.04545388e+06, 5.30198700e+06, 3.51306675e+06, 3.22523406e+05,\n",
       "       3.51306675e+06, 4.98985600e+06, 1.68576438e+06, 4.98985600e+06,\n",
       "       5.30198700e+06, 2.79782520e+04, 3.51306675e+06, 3.43059312e+05,\n",
       "       1.66970575e+06, 4.76887031e+05, 5.30198700e+06, 5.30198700e+06,\n",
       "       1.10627725e+06, 1.04545388e+06, 4.76887031e+05, 1.68576438e+06,\n",
       "       1.66970575e+06, 2.79782520e+04, 5.30198700e+06, 1.66970575e+06,\n",
       "       3.51306675e+06, 3.51306675e+06, 4.98985600e+06, 3.69057910e+03,\n",
       "       4.76887031e+05, 1.10627725e+06, 4.98985600e+06, 3.51306675e+06,\n",
       "       5.30198700e+06, 7.20371562e+05, 5.30198700e+06, 3.94837734e+04,\n",
       "       3.51306675e+06, 7.23753174e+03, 1.04545388e+06, 1.66970575e+06,\n",
       "       4.98985600e+06, 1.19834531e+05, 3.51306675e+06, 5.30198700e+06,\n",
       "       3.94837695e+04, 1.66970575e+06, 8.97239502e+02, 2.69195781e+05,\n",
       "       1.68576438e+06, 2.74303438e+05, 1.19834531e+05, 3.51306675e+06,\n",
       "       1.10627725e+06, 3.94837695e+04, 1.19834531e+05, 1.19834531e+05,\n",
       "       1.19834531e+05, 4.76887031e+05, 1.66970575e+06, 1.19834531e+05,\n",
       "       2.69195781e+05, 1.19834531e+05, 5.30198700e+06, 1.68576438e+06,\n",
       "       7.20371562e+05, 3.51306675e+06, 1.19834539e+05, 2.69195781e+05,\n",
       "       3.43059312e+05, 1.19834531e+05, 3.51306675e+06, 3.22523406e+05,\n",
       "       4.98985600e+06, 1.04545388e+06, 1.19834531e+05, 1.19834531e+05,\n",
       "       1.19834531e+05, 1.19834531e+05, 3.22523406e+05, 1.10627725e+06,\n",
       "       2.69195781e+05, 1.19834531e+05, 1.19834531e+05, 1.19834531e+05,\n",
       "       1.66970575e+06, 1.19834531e+05, 1.19834531e+05, 1.19834531e+05,\n",
       "       7.57964375e+04, 1.19834531e+05, 2.69195781e+05,            nan,\n",
       "                  nan,            nan,            nan,            nan,\n",
       "                  nan,            nan,            nan,            nan,\n",
       "                  nan, 1.19834531e+05, 1.19834531e+05, 2.69195781e+05,\n",
       "       4.98985600e+06, 1.04545388e+06, 1.19834531e+05, 1.19834531e+05,\n",
       "       1.19834531e+05, 1.19834531e+05, 3.43059312e+05, 1.66970575e+06,\n",
       "       1.19834531e+05, 1.19834531e+05, 1.19834531e+05, 1.19834531e+05,\n",
       "       1.19834531e+05, 1.19834531e+05, 1.19834531e+05, 1.19834531e+05,\n",
       "       3.51306650e+06], dtype=float32)"
      ]
     },
     "execution_count": 87,
     "metadata": {
      "tags": []
     },
     "output_type": "execute_result"
    }
   ],
   "source": [
    "input_arr"
   ]
  },
  {
   "cell_type": "code",
   "execution_count": null,
   "metadata": {
    "colab": {},
    "colab_type": "code",
    "id": "jEwBJf21YMPU"
   },
   "outputs": [],
   "source": []
  }
 ],
 "metadata": {
  "colab": {
   "name": "Time series.ipynb",
   "provenance": []
  },
  "kernelspec": {
   "display_name": "Python 3",
   "language": "python",
   "name": "python3"
  },
  "language_info": {
   "codemirror_mode": {
    "name": "ipython",
    "version": 3
   },
   "file_extension": ".py",
   "mimetype": "text/x-python",
   "name": "python",
   "nbconvert_exporter": "python",
   "pygments_lexer": "ipython3",
   "version": "3.7.4"
  }
 },
 "nbformat": 4,
 "nbformat_minor": 1
}
