{
 "cells": [
  {
   "cell_type": "code",
   "execution_count": 2,
   "metadata": {
    "colab": {},
    "colab_type": "code",
    "id": "BqgPAiS2tWCy"
   },
   "outputs": [],
   "source": [
    "import numpy as np\n",
    "import pandas as pd\n",
    "import matplotlib.pyplot as plt\n",
    "%matplotlib inline\n",
    "\n",
    "train=pd.read_excel(\"/content/drive/My Drive/fwdfliprhackathon6_0machinelearningtask/Train_dataset.xlsx\")\n",
    "test=pd.read_excel(\"/content/drive/My Drive/fwdfliprhackathon6_0machinelearningtask/Test_dataset.xlsx\")"
   ]
  },
  {
   "cell_type": "code",
   "execution_count": 3,
   "metadata": {
    "colab": {
     "base_uri": "https://localhost:8080/",
     "height": 393
    },
    "colab_type": "code",
    "id": "SWjTHu3puVFf",
    "outputId": "12d07c53-7d40-4cb1-be9b-48665aba79cc"
   },
   "outputs": [
    {
     "data": {
      "text/html": [
       "<div>\n",
       "<style scoped>\n",
       "    .dataframe tbody tr th:only-of-type {\n",
       "        vertical-align: middle;\n",
       "    }\n",
       "\n",
       "    .dataframe tbody tr th {\n",
       "        vertical-align: top;\n",
       "    }\n",
       "\n",
       "    .dataframe thead th {\n",
       "        text-align: right;\n",
       "    }\n",
       "</style>\n",
       "<table border=\"1\" class=\"dataframe\">\n",
       "  <thead>\n",
       "    <tr style=\"text-align: right;\">\n",
       "      <th></th>\n",
       "      <th>City</th>\n",
       "      <th>State</th>\n",
       "      <th>Type</th>\n",
       "      <th>Population [2011]</th>\n",
       "      <th>Popuation [2001]</th>\n",
       "      <th>Sex Ratio</th>\n",
       "      <th>Median Age</th>\n",
       "      <th>Avg Temp</th>\n",
       "      <th>SWM</th>\n",
       "      <th>Toilets Avl</th>\n",
       "      <th>Water Purity</th>\n",
       "      <th>H Index</th>\n",
       "      <th>Female Population</th>\n",
       "      <th># of hospitals</th>\n",
       "      <th>Foreign Visitors</th>\n",
       "      <th>Covid Cases</th>\n",
       "    </tr>\n",
       "  </thead>\n",
       "  <tbody>\n",
       "    <tr>\n",
       "      <th>0</th>\n",
       "      <td>Mumbai</td>\n",
       "      <td>Maharashtra</td>\n",
       "      <td>M.C</td>\n",
       "      <td>12442373.0</td>\n",
       "      <td>11978450.0</td>\n",
       "      <td>878.0</td>\n",
       "      <td>23.0</td>\n",
       "      <td>32.0</td>\n",
       "      <td>MEDIUM</td>\n",
       "      <td>219.0</td>\n",
       "      <td>150.0</td>\n",
       "      <td>0.700440</td>\n",
       "      <td>10924403.0</td>\n",
       "      <td>159.0</td>\n",
       "      <td>4408916.0</td>\n",
       "      <td>163115</td>\n",
       "    </tr>\n",
       "    <tr>\n",
       "      <th>1</th>\n",
       "      <td>Delhi</td>\n",
       "      <td>Delhi</td>\n",
       "      <td>M.C</td>\n",
       "      <td>11007835.0</td>\n",
       "      <td>9879172.0</td>\n",
       "      <td>858.0</td>\n",
       "      <td>27.0</td>\n",
       "      <td>30.0</td>\n",
       "      <td>MEDIUM</td>\n",
       "      <td>215.0</td>\n",
       "      <td>196.0</td>\n",
       "      <td>0.920018</td>\n",
       "      <td>9444722.0</td>\n",
       "      <td>148.0</td>\n",
       "      <td>2379169.0</td>\n",
       "      <td>80188</td>\n",
       "    </tr>\n",
       "    <tr>\n",
       "      <th>2</th>\n",
       "      <td>Bangalore</td>\n",
       "      <td>Karnataka</td>\n",
       "      <td>MPUA</td>\n",
       "      <td>8436675.0</td>\n",
       "      <td>4301326.0</td>\n",
       "      <td>936.0</td>\n",
       "      <td>28.0</td>\n",
       "      <td>37.0</td>\n",
       "      <td>HIGH</td>\n",
       "      <td>212.0</td>\n",
       "      <td>102.0</td>\n",
       "      <td>0.097085</td>\n",
       "      <td>7896728.0</td>\n",
       "      <td>123.0</td>\n",
       "      <td>636502.0</td>\n",
       "      <td>141000</td>\n",
       "    </tr>\n",
       "    <tr>\n",
       "      <th>3</th>\n",
       "      <td>Hyderabad</td>\n",
       "      <td>Telangana</td>\n",
       "      <td>MPUA</td>\n",
       "      <td>6809970.0</td>\n",
       "      <td>3637483.0</td>\n",
       "      <td>930.0</td>\n",
       "      <td>23.0</td>\n",
       "      <td>31.0</td>\n",
       "      <td>MEDIUM</td>\n",
       "      <td>217.0</td>\n",
       "      <td>118.0</td>\n",
       "      <td>0.827744</td>\n",
       "      <td>6333272.0</td>\n",
       "      <td>110.0</td>\n",
       "      <td>126078.0</td>\n",
       "      <td>55123</td>\n",
       "    </tr>\n",
       "    <tr>\n",
       "      <th>4</th>\n",
       "      <td>Ahmedabad</td>\n",
       "      <td>Gujarat</td>\n",
       "      <td>MPUA</td>\n",
       "      <td>5570585.0</td>\n",
       "      <td>3520085.0</td>\n",
       "      <td>852.0</td>\n",
       "      <td>29.0</td>\n",
       "      <td>25.0</td>\n",
       "      <td>LOW</td>\n",
       "      <td>227.0</td>\n",
       "      <td>109.0</td>\n",
       "      <td>0.847941</td>\n",
       "      <td>4746138.0</td>\n",
       "      <td>73.0</td>\n",
       "      <td>284973.0</td>\n",
       "      <td>33204</td>\n",
       "    </tr>\n",
       "    <tr>\n",
       "      <th>5</th>\n",
       "      <td>Chennai</td>\n",
       "      <td>Tamil Nadu</td>\n",
       "      <td>MPUA</td>\n",
       "      <td>4681087.0</td>\n",
       "      <td>4343645.0</td>\n",
       "      <td>904.0</td>\n",
       "      <td>26.0</td>\n",
       "      <td>31.0</td>\n",
       "      <td>HIGH</td>\n",
       "      <td>210.0</td>\n",
       "      <td>179.0</td>\n",
       "      <td>0.536995</td>\n",
       "      <td>4231703.0</td>\n",
       "      <td>67.0</td>\n",
       "      <td>4684707.0</td>\n",
       "      <td>145606</td>\n",
       "    </tr>\n",
       "    <tr>\n",
       "      <th>6</th>\n",
       "      <td>Chennai</td>\n",
       "      <td>Tamil nadu</td>\n",
       "      <td>T</td>\n",
       "      <td>4646732.0</td>\n",
       "      <td>NaN</td>\n",
       "      <td>912.0</td>\n",
       "      <td>26.0</td>\n",
       "      <td>30.0</td>\n",
       "      <td>MEDIUM</td>\n",
       "      <td>145.0</td>\n",
       "      <td>177.0</td>\n",
       "      <td>0.093451</td>\n",
       "      <td>4237820.0</td>\n",
       "      <td>55.0</td>\n",
       "      <td>4684707.0</td>\n",
       "      <td>145606</td>\n",
       "    </tr>\n",
       "    <tr>\n",
       "      <th>7</th>\n",
       "      <td>Kolkata</td>\n",
       "      <td>West Bengal</td>\n",
       "      <td>MPUA</td>\n",
       "      <td>4486679.0</td>\n",
       "      <td>4572876.0</td>\n",
       "      <td>945.0</td>\n",
       "      <td>26.0</td>\n",
       "      <td>37.0</td>\n",
       "      <td>NaN</td>\n",
       "      <td>NaN</td>\n",
       "      <td>NaN</td>\n",
       "      <td>0.473585</td>\n",
       "      <td>4239912.0</td>\n",
       "      <td>82.0</td>\n",
       "      <td>1489500.0</td>\n",
       "      <td>44957</td>\n",
       "    </tr>\n",
       "    <tr>\n",
       "      <th>8</th>\n",
       "      <td>Surat</td>\n",
       "      <td>Gujarat</td>\n",
       "      <td>MPUA</td>\n",
       "      <td>4467797.0</td>\n",
       "      <td>2433835.0</td>\n",
       "      <td>NaN</td>\n",
       "      <td>27.0</td>\n",
       "      <td>26.0</td>\n",
       "      <td>NaN</td>\n",
       "      <td>NaN</td>\n",
       "      <td>NaN</td>\n",
       "      <td>0.809334</td>\n",
       "      <td>3797627.0</td>\n",
       "      <td>98.0</td>\n",
       "      <td>284973.0</td>\n",
       "      <td>23432</td>\n",
       "    </tr>\n",
       "    <tr>\n",
       "      <th>9</th>\n",
       "      <td>Pune</td>\n",
       "      <td>Maharashtra</td>\n",
       "      <td>MPUA</td>\n",
       "      <td>3124458.0</td>\n",
       "      <td>2538473.0</td>\n",
       "      <td>NaN</td>\n",
       "      <td>29.0</td>\n",
       "      <td>29.0</td>\n",
       "      <td>NaN</td>\n",
       "      <td>NaN</td>\n",
       "      <td>NaN</td>\n",
       "      <td>0.445902</td>\n",
       "      <td>2743274.0</td>\n",
       "      <td>50.0</td>\n",
       "      <td>4408916.0</td>\n",
       "      <td>218502</td>\n",
       "    </tr>\n",
       "  </tbody>\n",
       "</table>\n",
       "</div>"
      ],
      "text/plain": [
       "        City        State  Type  ...  # of hospitals  Foreign Visitors  Covid Cases\n",
       "0     Mumbai  Maharashtra   M.C  ...           159.0         4408916.0       163115\n",
       "1      Delhi        Delhi   M.C  ...           148.0         2379169.0        80188\n",
       "2  Bangalore    Karnataka  MPUA  ...           123.0          636502.0       141000\n",
       "3  Hyderabad    Telangana  MPUA  ...           110.0          126078.0        55123\n",
       "4  Ahmedabad      Gujarat  MPUA  ...            73.0          284973.0        33204\n",
       "5    Chennai   Tamil Nadu  MPUA  ...            67.0         4684707.0       145606\n",
       "6    Chennai   Tamil nadu     T  ...            55.0         4684707.0       145606\n",
       "7    Kolkata  West Bengal  MPUA  ...            82.0         1489500.0        44957\n",
       "8      Surat      Gujarat  MPUA  ...            98.0          284973.0        23432\n",
       "9       Pune  Maharashtra  MPUA  ...            50.0         4408916.0       218502\n",
       "\n",
       "[10 rows x 16 columns]"
      ]
     },
     "execution_count": 3,
     "metadata": {
      "tags": []
     },
     "output_type": "execute_result"
    }
   ],
   "source": [
    "train.head(10)"
   ]
  },
  {
   "cell_type": "code",
   "execution_count": 4,
   "metadata": {
    "colab": {},
    "colab_type": "code",
    "id": "kwZDbfcvuXpc"
   },
   "outputs": [],
   "source": [
    "train.drop(['Popuation [2001]'],axis=1,inplace=True)\n",
    "test.drop(['Popuation [2001]'],axis=1,inplace=True)"
   ]
  },
  {
   "cell_type": "code",
   "execution_count": 5,
   "metadata": {
    "colab": {
     "base_uri": "https://localhost:8080/",
     "height": 548
    },
    "colab_type": "code",
    "id": "oaET-Prmud7v",
    "outputId": "83fdd41d-7536-4af6-a819-284dca0728be"
   },
   "outputs": [
    {
     "data": {
      "text/html": [
       "<div>\n",
       "<style scoped>\n",
       "    .dataframe tbody tr th:only-of-type {\n",
       "        vertical-align: middle;\n",
       "    }\n",
       "\n",
       "    .dataframe tbody tr th {\n",
       "        vertical-align: top;\n",
       "    }\n",
       "\n",
       "    .dataframe thead th {\n",
       "        text-align: right;\n",
       "    }\n",
       "</style>\n",
       "<table border=\"1\" class=\"dataframe\">\n",
       "  <thead>\n",
       "    <tr style=\"text-align: right;\">\n",
       "      <th></th>\n",
       "      <th>City</th>\n",
       "      <th>State</th>\n",
       "      <th>Type</th>\n",
       "      <th>Population [2011]</th>\n",
       "      <th>Sex Ratio</th>\n",
       "      <th>Median Age</th>\n",
       "      <th>Avg Temp</th>\n",
       "      <th>SWM</th>\n",
       "      <th>Toilets Avl</th>\n",
       "      <th>Water Purity</th>\n",
       "      <th>H Index</th>\n",
       "      <th>Female Population</th>\n",
       "      <th># of hospitals</th>\n",
       "      <th>Foreign Visitors</th>\n",
       "      <th>Covid Cases</th>\n",
       "    </tr>\n",
       "  </thead>\n",
       "  <tbody>\n",
       "    <tr>\n",
       "      <th>0</th>\n",
       "      <td>Mumbai</td>\n",
       "      <td>Maharashtra</td>\n",
       "      <td>M.C</td>\n",
       "      <td>12442373.0</td>\n",
       "      <td>878.0</td>\n",
       "      <td>23.0</td>\n",
       "      <td>32.0</td>\n",
       "      <td>MEDIUM</td>\n",
       "      <td>219.0</td>\n",
       "      <td>150.0</td>\n",
       "      <td>0.700440</td>\n",
       "      <td>10924403.0</td>\n",
       "      <td>159.0</td>\n",
       "      <td>4408916.0</td>\n",
       "      <td>163115</td>\n",
       "    </tr>\n",
       "    <tr>\n",
       "      <th>1</th>\n",
       "      <td>Delhi</td>\n",
       "      <td>Delhi</td>\n",
       "      <td>M.C</td>\n",
       "      <td>11007835.0</td>\n",
       "      <td>858.0</td>\n",
       "      <td>27.0</td>\n",
       "      <td>30.0</td>\n",
       "      <td>MEDIUM</td>\n",
       "      <td>215.0</td>\n",
       "      <td>196.0</td>\n",
       "      <td>0.920018</td>\n",
       "      <td>9444722.0</td>\n",
       "      <td>148.0</td>\n",
       "      <td>2379169.0</td>\n",
       "      <td>80188</td>\n",
       "    </tr>\n",
       "    <tr>\n",
       "      <th>2</th>\n",
       "      <td>Bangalore</td>\n",
       "      <td>Karnataka</td>\n",
       "      <td>MPUA</td>\n",
       "      <td>8436675.0</td>\n",
       "      <td>936.0</td>\n",
       "      <td>28.0</td>\n",
       "      <td>37.0</td>\n",
       "      <td>HIGH</td>\n",
       "      <td>212.0</td>\n",
       "      <td>102.0</td>\n",
       "      <td>0.097085</td>\n",
       "      <td>7896728.0</td>\n",
       "      <td>123.0</td>\n",
       "      <td>636502.0</td>\n",
       "      <td>141000</td>\n",
       "    </tr>\n",
       "    <tr>\n",
       "      <th>3</th>\n",
       "      <td>Hyderabad</td>\n",
       "      <td>Telangana</td>\n",
       "      <td>MPUA</td>\n",
       "      <td>6809970.0</td>\n",
       "      <td>930.0</td>\n",
       "      <td>23.0</td>\n",
       "      <td>31.0</td>\n",
       "      <td>MEDIUM</td>\n",
       "      <td>217.0</td>\n",
       "      <td>118.0</td>\n",
       "      <td>0.827744</td>\n",
       "      <td>6333272.0</td>\n",
       "      <td>110.0</td>\n",
       "      <td>126078.0</td>\n",
       "      <td>55123</td>\n",
       "    </tr>\n",
       "    <tr>\n",
       "      <th>4</th>\n",
       "      <td>Ahmedabad</td>\n",
       "      <td>Gujarat</td>\n",
       "      <td>MPUA</td>\n",
       "      <td>5570585.0</td>\n",
       "      <td>852.0</td>\n",
       "      <td>29.0</td>\n",
       "      <td>25.0</td>\n",
       "      <td>LOW</td>\n",
       "      <td>227.0</td>\n",
       "      <td>109.0</td>\n",
       "      <td>0.847941</td>\n",
       "      <td>4746138.0</td>\n",
       "      <td>73.0</td>\n",
       "      <td>284973.0</td>\n",
       "      <td>33204</td>\n",
       "    </tr>\n",
       "    <tr>\n",
       "      <th>5</th>\n",
       "      <td>Chennai</td>\n",
       "      <td>Tamil Nadu</td>\n",
       "      <td>MPUA</td>\n",
       "      <td>4681087.0</td>\n",
       "      <td>904.0</td>\n",
       "      <td>26.0</td>\n",
       "      <td>31.0</td>\n",
       "      <td>HIGH</td>\n",
       "      <td>210.0</td>\n",
       "      <td>179.0</td>\n",
       "      <td>0.536995</td>\n",
       "      <td>4231703.0</td>\n",
       "      <td>67.0</td>\n",
       "      <td>4684707.0</td>\n",
       "      <td>145606</td>\n",
       "    </tr>\n",
       "    <tr>\n",
       "      <th>6</th>\n",
       "      <td>Chennai</td>\n",
       "      <td>Tamil nadu</td>\n",
       "      <td>T</td>\n",
       "      <td>4646732.0</td>\n",
       "      <td>912.0</td>\n",
       "      <td>26.0</td>\n",
       "      <td>30.0</td>\n",
       "      <td>MEDIUM</td>\n",
       "      <td>145.0</td>\n",
       "      <td>177.0</td>\n",
       "      <td>0.093451</td>\n",
       "      <td>4237820.0</td>\n",
       "      <td>55.0</td>\n",
       "      <td>4684707.0</td>\n",
       "      <td>145606</td>\n",
       "    </tr>\n",
       "    <tr>\n",
       "      <th>7</th>\n",
       "      <td>Kolkata</td>\n",
       "      <td>West Bengal</td>\n",
       "      <td>MPUA</td>\n",
       "      <td>4486679.0</td>\n",
       "      <td>945.0</td>\n",
       "      <td>26.0</td>\n",
       "      <td>37.0</td>\n",
       "      <td>LOW</td>\n",
       "      <td>92.0</td>\n",
       "      <td>150.0</td>\n",
       "      <td>0.473585</td>\n",
       "      <td>4239912.0</td>\n",
       "      <td>82.0</td>\n",
       "      <td>1489500.0</td>\n",
       "      <td>44957</td>\n",
       "    </tr>\n",
       "    <tr>\n",
       "      <th>8</th>\n",
       "      <td>Surat</td>\n",
       "      <td>Gujarat</td>\n",
       "      <td>MPUA</td>\n",
       "      <td>4467797.0</td>\n",
       "      <td>906.0</td>\n",
       "      <td>27.0</td>\n",
       "      <td>26.0</td>\n",
       "      <td>LOW</td>\n",
       "      <td>92.0</td>\n",
       "      <td>150.0</td>\n",
       "      <td>0.809334</td>\n",
       "      <td>3797627.0</td>\n",
       "      <td>98.0</td>\n",
       "      <td>284973.0</td>\n",
       "      <td>23432</td>\n",
       "    </tr>\n",
       "    <tr>\n",
       "      <th>9</th>\n",
       "      <td>Pune</td>\n",
       "      <td>Maharashtra</td>\n",
       "      <td>MPUA</td>\n",
       "      <td>3124458.0</td>\n",
       "      <td>906.0</td>\n",
       "      <td>29.0</td>\n",
       "      <td>29.0</td>\n",
       "      <td>LOW</td>\n",
       "      <td>92.0</td>\n",
       "      <td>150.0</td>\n",
       "      <td>0.445902</td>\n",
       "      <td>2743274.0</td>\n",
       "      <td>50.0</td>\n",
       "      <td>4408916.0</td>\n",
       "      <td>218502</td>\n",
       "    </tr>\n",
       "    <tr>\n",
       "      <th>10</th>\n",
       "      <td>Jaipur</td>\n",
       "      <td>Rajasthan</td>\n",
       "      <td>MPUA</td>\n",
       "      <td>3046163.0</td>\n",
       "      <td>871.0</td>\n",
       "      <td>26.0</td>\n",
       "      <td>32.0</td>\n",
       "      <td>HIGH</td>\n",
       "      <td>128.0</td>\n",
       "      <td>172.0</td>\n",
       "      <td>0.889895</td>\n",
       "      <td>2653208.0</td>\n",
       "      <td>61.0</td>\n",
       "      <td>1475311.0</td>\n",
       "      <td>14001</td>\n",
       "    </tr>\n",
       "    <tr>\n",
       "      <th>11</th>\n",
       "      <td>Lucknow</td>\n",
       "      <td>Uttar Pradesh</td>\n",
       "      <td>MPUA</td>\n",
       "      <td>2817105.0</td>\n",
       "      <td>882.0</td>\n",
       "      <td>24.0</td>\n",
       "      <td>33.0</td>\n",
       "      <td>HIGH</td>\n",
       "      <td>123.0</td>\n",
       "      <td>176.0</td>\n",
       "      <td>0.464746</td>\n",
       "      <td>2484687.0</td>\n",
       "      <td>58.0</td>\n",
       "      <td>3104060.0</td>\n",
       "      <td>37220</td>\n",
       "    </tr>\n",
       "    <tr>\n",
       "      <th>12</th>\n",
       "      <td>Indore</td>\n",
       "      <td>Madhya Pradesh</td>\n",
       "      <td>M</td>\n",
       "      <td>2800000.0</td>\n",
       "      <td>919.0</td>\n",
       "      <td>25.0</td>\n",
       "      <td>34.0</td>\n",
       "      <td>LOW</td>\n",
       "      <td>116.0</td>\n",
       "      <td>142.0</td>\n",
       "      <td>0.815466</td>\n",
       "      <td>2573200.0</td>\n",
       "      <td>56.0</td>\n",
       "      <td>421365.0</td>\n",
       "      <td>15764</td>\n",
       "    </tr>\n",
       "    <tr>\n",
       "      <th>13</th>\n",
       "      <td>Kanpur</td>\n",
       "      <td>Uttar Pradesh</td>\n",
       "      <td>MPUA</td>\n",
       "      <td>2765348.0</td>\n",
       "      <td>861.0</td>\n",
       "      <td>26.0</td>\n",
       "      <td>29.0</td>\n",
       "      <td>HIGH</td>\n",
       "      <td>135.0</td>\n",
       "      <td>122.0</td>\n",
       "      <td>0.053147</td>\n",
       "      <td>2380965.0</td>\n",
       "      <td>94.0</td>\n",
       "      <td>3104060.0</td>\n",
       "      <td>22413</td>\n",
       "    </tr>\n",
       "    <tr>\n",
       "      <th>14</th>\n",
       "      <td>Nagpur</td>\n",
       "      <td>Maharashtra</td>\n",
       "      <td>MPUA</td>\n",
       "      <td>2405665.0</td>\n",
       "      <td>878.0</td>\n",
       "      <td>26.0</td>\n",
       "      <td>35.0</td>\n",
       "      <td>MEDIUM</td>\n",
       "      <td>100.0</td>\n",
       "      <td>136.0</td>\n",
       "      <td>0.010730</td>\n",
       "      <td>2112174.0</td>\n",
       "      <td>52.0</td>\n",
       "      <td>4408916.0</td>\n",
       "      <td>44700</td>\n",
       "    </tr>\n",
       "  </tbody>\n",
       "</table>\n",
       "</div>"
      ],
      "text/plain": [
       "         City           State  ... Foreign Visitors  Covid Cases\n",
       "0      Mumbai     Maharashtra  ...        4408916.0       163115\n",
       "1       Delhi           Delhi  ...        2379169.0        80188\n",
       "2   Bangalore       Karnataka  ...         636502.0       141000\n",
       "3   Hyderabad       Telangana  ...         126078.0        55123\n",
       "4   Ahmedabad         Gujarat  ...         284973.0        33204\n",
       "5     Chennai      Tamil Nadu  ...        4684707.0       145606\n",
       "6     Chennai      Tamil nadu  ...        4684707.0       145606\n",
       "7     Kolkata     West Bengal  ...        1489500.0        44957\n",
       "8       Surat         Gujarat  ...         284973.0        23432\n",
       "9        Pune     Maharashtra  ...        4408916.0       218502\n",
       "10     Jaipur       Rajasthan  ...        1475311.0        14001\n",
       "11    Lucknow   Uttar Pradesh  ...        3104060.0        37220\n",
       "12     Indore  Madhya Pradesh  ...         421365.0        15764\n",
       "13     Kanpur   Uttar Pradesh  ...        3104060.0        22413\n",
       "14     Nagpur     Maharashtra  ...        4408916.0        44700\n",
       "\n",
       "[15 rows x 15 columns]"
      ]
     },
     "execution_count": 5,
     "metadata": {
      "tags": []
     },
     "output_type": "execute_result"
    }
   ],
   "source": [
    "list1=[\"Population [2011]\",\"Sex Ratio\",\"Median Age\",\"Avg Temp\",\"Toilets Avl\",\"Water Purity\",\"H Index\",\"Female Population\",\"# of hospitals\",\"Foreign Visitors\"]   \n",
    "list2=[\"Type\",\"SWM\"]\n",
    "\n",
    "for i in list1:\n",
    "    \n",
    "    train.replace(np.NaN,{i:train[i].median()},inplace=True)\n",
    "    test.replace(np.NaN,{i:train[i].median()},inplace=True)\n",
    "    \n",
    "for i in list2:\n",
    "    \n",
    "    train.replace(np.NaN,{i:test[i].value_counts().idxmax()},inplace=True)\n",
    "    test.replace(np.NaN,{i:test[i].value_counts().idxmax()},inplace=True)\n",
    "    \n",
    "    \n",
    "train.head(15)"
   ]
  },
  {
   "cell_type": "code",
   "execution_count": 6,
   "metadata": {
    "colab": {
     "base_uri": "https://localhost:8080/",
     "height": 272
    },
    "colab_type": "code",
    "id": "eQspR_fAuc4_",
    "outputId": "a0c253e8-b0c8-4c36-c0e9-b56d2f43d0ca"
   },
   "outputs": [
    {
     "data": {
      "text/plain": [
       "City                 0\n",
       "State                0\n",
       "Type                 0\n",
       "Population [2011]    0\n",
       "Sex Ratio            0\n",
       "Median Age           0\n",
       "Avg Temp             0\n",
       "SWM                  0\n",
       "Toilets Avl          0\n",
       "Water Purity         0\n",
       "H Index              0\n",
       "Female Population    0\n",
       "# of hospitals       0\n",
       "Foreign Visitors     0\n",
       "dtype: int64"
      ]
     },
     "execution_count": 6,
     "metadata": {
      "tags": []
     },
     "output_type": "execute_result"
    }
   ],
   "source": [
    "test.isnull().sum()"
   ]
  },
  {
   "cell_type": "code",
   "execution_count": 7,
   "metadata": {
    "colab": {},
    "colab_type": "code",
    "id": "LU6IKxXqunKw"
   },
   "outputs": [],
   "source": [
    "train.drop(['Type'],axis=1,inplace=True)\n",
    "test.drop(['Type'],axis=1,inplace=True)"
   ]
  },
  {
   "cell_type": "code",
   "execution_count": 8,
   "metadata": {
    "colab": {
     "base_uri": "https://localhost:8080/",
     "height": 204
    },
    "colab_type": "code",
    "id": "4cA5u9adG5pG",
    "outputId": "5821b6f6-156c-440f-81de-73f32e08bc33"
   },
   "outputs": [
    {
     "data": {
      "text/html": [
       "<div>\n",
       "<style scoped>\n",
       "    .dataframe tbody tr th:only-of-type {\n",
       "        vertical-align: middle;\n",
       "    }\n",
       "\n",
       "    .dataframe tbody tr th {\n",
       "        vertical-align: top;\n",
       "    }\n",
       "\n",
       "    .dataframe thead th {\n",
       "        text-align: right;\n",
       "    }\n",
       "</style>\n",
       "<table border=\"1\" class=\"dataframe\">\n",
       "  <thead>\n",
       "    <tr style=\"text-align: right;\">\n",
       "      <th></th>\n",
       "      <th>City</th>\n",
       "      <th>State</th>\n",
       "      <th>Population [2011]</th>\n",
       "      <th>Sex Ratio</th>\n",
       "      <th>Median Age</th>\n",
       "      <th>Avg Temp</th>\n",
       "      <th>SWM</th>\n",
       "      <th>Toilets Avl</th>\n",
       "      <th>Water Purity</th>\n",
       "      <th>H Index</th>\n",
       "      <th>Female Population</th>\n",
       "      <th># of hospitals</th>\n",
       "      <th>Foreign Visitors</th>\n",
       "    </tr>\n",
       "  </thead>\n",
       "  <tbody>\n",
       "    <tr>\n",
       "      <th>0</th>\n",
       "      <td>Tuensang</td>\n",
       "      <td>Nagaland</td>\n",
       "      <td>36774.0</td>\n",
       "      <td>931.0</td>\n",
       "      <td>23.0</td>\n",
       "      <td>10.0</td>\n",
       "      <td>MEDIUM</td>\n",
       "      <td>94.0</td>\n",
       "      <td>114.0</td>\n",
       "      <td>0.253390</td>\n",
       "      <td>34237.0</td>\n",
       "      <td>17.0</td>\n",
       "      <td>2769.0</td>\n",
       "    </tr>\n",
       "    <tr>\n",
       "      <th>1</th>\n",
       "      <td>Lakshmeshwar</td>\n",
       "      <td>Karnataka</td>\n",
       "      <td>36754.0</td>\n",
       "      <td>934.0</td>\n",
       "      <td>25.0</td>\n",
       "      <td>38.0</td>\n",
       "      <td>HIGH</td>\n",
       "      <td>62.0</td>\n",
       "      <td>160.0</td>\n",
       "      <td>0.192555</td>\n",
       "      <td>34328.0</td>\n",
       "      <td>13.0</td>\n",
       "      <td>636502.0</td>\n",
       "    </tr>\n",
       "    <tr>\n",
       "      <th>2</th>\n",
       "      <td>Zira</td>\n",
       "      <td>Punjab</td>\n",
       "      <td>36732.0</td>\n",
       "      <td>883.0</td>\n",
       "      <td>29.0</td>\n",
       "      <td>35.0</td>\n",
       "      <td>HIGH</td>\n",
       "      <td>63.0</td>\n",
       "      <td>105.0</td>\n",
       "      <td>0.887882</td>\n",
       "      <td>32434.0</td>\n",
       "      <td>17.0</td>\n",
       "      <td>242367.0</td>\n",
       "    </tr>\n",
       "    <tr>\n",
       "      <th>3</th>\n",
       "      <td>Yawal</td>\n",
       "      <td>Maharashtra</td>\n",
       "      <td>36706.0</td>\n",
       "      <td>887.0</td>\n",
       "      <td>26.0</td>\n",
       "      <td>31.0</td>\n",
       "      <td>HIGH</td>\n",
       "      <td>60.0</td>\n",
       "      <td>174.0</td>\n",
       "      <td>0.407838</td>\n",
       "      <td>32558.0</td>\n",
       "      <td>11.0</td>\n",
       "      <td>4408916.0</td>\n",
       "    </tr>\n",
       "    <tr>\n",
       "      <th>4</th>\n",
       "      <td>Thana Bhawan</td>\n",
       "      <td>Uttar Pradesh</td>\n",
       "      <td>36669.0</td>\n",
       "      <td>877.0</td>\n",
       "      <td>28.0</td>\n",
       "      <td>39.0</td>\n",
       "      <td>LOW</td>\n",
       "      <td>92.0</td>\n",
       "      <td>153.0</td>\n",
       "      <td>0.324456</td>\n",
       "      <td>32159.0</td>\n",
       "      <td>23.0</td>\n",
       "      <td>3104060.0</td>\n",
       "    </tr>\n",
       "  </tbody>\n",
       "</table>\n",
       "</div>"
      ],
      "text/plain": [
       "           City          State  ...  # of hospitals  Foreign Visitors\n",
       "0      Tuensang       Nagaland  ...            17.0            2769.0\n",
       "1  Lakshmeshwar      Karnataka  ...            13.0          636502.0\n",
       "2          Zira         Punjab  ...            17.0          242367.0\n",
       "3         Yawal    Maharashtra  ...            11.0         4408916.0\n",
       "4  Thana Bhawan  Uttar Pradesh  ...            23.0         3104060.0\n",
       "\n",
       "[5 rows x 13 columns]"
      ]
     },
     "execution_count": 8,
     "metadata": {
      "tags": []
     },
     "output_type": "execute_result"
    }
   ],
   "source": [
    "test.head()"
   ]
  },
  {
   "cell_type": "code",
   "execution_count": 9,
   "metadata": {
    "colab": {
     "base_uri": "https://localhost:8080/",
     "height": 34
    },
    "colab_type": "code",
    "id": "0nvbCqZoGRvH",
    "outputId": "6e3d59ff-7b04-47b3-b1f3-454384f94e47"
   },
   "outputs": [
    {
     "data": {
      "text/plain": [
       "(501, 13)"
      ]
     },
     "execution_count": 9,
     "metadata": {
      "tags": []
     },
     "output_type": "execute_result"
    }
   ],
   "source": [
    "test.shape"
   ]
  },
  {
   "cell_type": "code",
   "execution_count": 10,
   "metadata": {
    "colab": {
     "base_uri": "https://localhost:8080/",
     "height": 34
    },
    "colab_type": "code",
    "id": "QQRaiORDGTxf",
    "outputId": "7bb19b24-be53-4d8d-e561-8f88fd4fd7c7"
   },
   "outputs": [
    {
     "data": {
      "text/plain": [
       "(787, 14)"
      ]
     },
     "execution_count": 10,
     "metadata": {
      "tags": []
     },
     "output_type": "execute_result"
    }
   ],
   "source": [
    "train.shape"
   ]
  },
  {
   "cell_type": "code",
   "execution_count": 11,
   "metadata": {
    "colab": {},
    "colab_type": "code",
    "id": "F4jLCyoturQr"
   },
   "outputs": [],
   "source": [
    "train.replace({'MEDIUM':2,'LOW':1,'HIGH':3},inplace=True)\n",
    "test.replace({'MEDIUM':2,'LOW':1,'HIGH':3},inplace=True)"
   ]
  },
  {
   "cell_type": "code",
   "execution_count": 12,
   "metadata": {
    "colab": {},
    "colab_type": "code",
    "id": "Jtqw_vcuut0x"
   },
   "outputs": [],
   "source": [
    "\n",
    "from sklearn.preprocessing import MinMaxScaler\n",
    "\n",
    "# from sklearn.preprocessing import StandardScaler\n",
    "\n",
    "list3=['Population [2011]','Sex Ratio','Median Age','Avg Temp','SWM','Toilets Avl','Water Purity','H Index','Female Population','# of hospitals','Foreign Visitors','Covid Cases']\n",
    "\n",
    "scaler=MinMaxScaler()\n",
    "train[['Population [2011]','Sex Ratio','Median Age','SWM','Avg Temp','Toilets Avl','Water Purity','H Index','Female Population','# of hospitals','Foreign Visitors']] = scaler.fit_transform(train[['Population [2011]','Sex Ratio','Median Age','SWM','Avg Temp','Toilets Avl','Water Purity','H Index','Female Population','# of hospitals','Foreign Visitors']])"
   ]
  },
  {
   "cell_type": "code",
   "execution_count": 13,
   "metadata": {
    "colab": {},
    "colab_type": "code",
    "id": "Cxw1Ln2Ru3Mc"
   },
   "outputs": [],
   "source": [
    "from sklearn.preprocessing import MinMaxScaler\n",
    "\n",
    "# from sklearn.preprocessing import StandardScaler\n",
    "\n",
    "\n",
    "test[['Population [2011]','Sex Ratio','Median Age','SWM','Avg Temp','Toilets Avl','Water Purity','H Index','Female Population','# of hospitals','Foreign Visitors']] = scaler.fit_transform(test[['Population [2011]','Sex Ratio','Median Age','SWM','Avg Temp','Toilets Avl','Water Purity','H Index','Female Population','# of hospitals','Foreign Visitors']])"
   ]
  },
  {
   "cell_type": "code",
   "execution_count": 14,
   "metadata": {
    "colab": {},
    "colab_type": "code",
    "id": "6ZNIXylfu-LZ"
   },
   "outputs": [],
   "source": [
    "import re\n",
    "regex = re.compile(r\"\\[|\\]|<\", re.IGNORECASE)\n",
    "\n",
    "train.columns = [regex.sub(\"_\", col) if any(x in str(col) for x in set(('[', ']', '<'))) else col for col in train.columns.values]\n"
   ]
  },
  {
   "cell_type": "code",
   "execution_count": 15,
   "metadata": {
    "colab": {},
    "colab_type": "code",
    "id": "81Vixup2Ihbg"
   },
   "outputs": [],
   "source": [
    "test.columns = [regex.sub(\"_\", col) if any(x in str(col) for x in set(('[', ']', '<'))) else col for col in test.columns.values]"
   ]
  },
  {
   "cell_type": "code",
   "execution_count": 16,
   "metadata": {
    "colab": {},
    "colab_type": "code",
    "id": "wRio121CvVl8"
   },
   "outputs": [],
   "source": [
    "train.drop(['City'],axis=1,inplace=True)\n",
    "test.drop(['City'],axis=1,inplace=True)"
   ]
  },
  {
   "cell_type": "code",
   "execution_count": 17,
   "metadata": {
    "colab": {
     "base_uri": "https://localhost:8080/",
     "height": 204
    },
    "colab_type": "code",
    "id": "FPFxpibgvTmt",
    "outputId": "0e4977ad-cd39-4584-8445-6135b51e75b8"
   },
   "outputs": [
    {
     "data": {
      "text/html": [
       "<div>\n",
       "<style scoped>\n",
       "    .dataframe tbody tr th:only-of-type {\n",
       "        vertical-align: middle;\n",
       "    }\n",
       "\n",
       "    .dataframe tbody tr th {\n",
       "        vertical-align: top;\n",
       "    }\n",
       "\n",
       "    .dataframe thead th {\n",
       "        text-align: right;\n",
       "    }\n",
       "</style>\n",
       "<table border=\"1\" class=\"dataframe\">\n",
       "  <thead>\n",
       "    <tr style=\"text-align: right;\">\n",
       "      <th></th>\n",
       "      <th>State</th>\n",
       "      <th>Population _2011_</th>\n",
       "      <th>Sex Ratio</th>\n",
       "      <th>Median Age</th>\n",
       "      <th>Avg Temp</th>\n",
       "      <th>SWM</th>\n",
       "      <th>Toilets Avl</th>\n",
       "      <th>Water Purity</th>\n",
       "      <th>H Index</th>\n",
       "      <th>Female Population</th>\n",
       "      <th># of hospitals</th>\n",
       "      <th>Foreign Visitors</th>\n",
       "      <th>Covid Cases</th>\n",
       "    </tr>\n",
       "  </thead>\n",
       "  <tbody>\n",
       "    <tr>\n",
       "      <th>0</th>\n",
       "      <td>Maharashtra</td>\n",
       "      <td>1.000000</td>\n",
       "      <td>0.267857</td>\n",
       "      <td>0.000000</td>\n",
       "      <td>0.771429</td>\n",
       "      <td>0.5</td>\n",
       "      <td>0.954802</td>\n",
       "      <td>0.50</td>\n",
       "      <td>0.699675</td>\n",
       "      <td>1.000000</td>\n",
       "      <td>1.000000</td>\n",
       "      <td>0.941119</td>\n",
       "      <td>163115</td>\n",
       "    </tr>\n",
       "    <tr>\n",
       "      <th>1</th>\n",
       "      <td>Delhi</td>\n",
       "      <td>0.884364</td>\n",
       "      <td>0.178571</td>\n",
       "      <td>0.444444</td>\n",
       "      <td>0.714286</td>\n",
       "      <td>0.5</td>\n",
       "      <td>0.932203</td>\n",
       "      <td>0.96</td>\n",
       "      <td>0.919980</td>\n",
       "      <td>0.864168</td>\n",
       "      <td>0.926174</td>\n",
       "      <td>0.507775</td>\n",
       "      <td>80188</td>\n",
       "    </tr>\n",
       "    <tr>\n",
       "      <th>2</th>\n",
       "      <td>Karnataka</td>\n",
       "      <td>0.677106</td>\n",
       "      <td>0.526786</td>\n",
       "      <td>0.555556</td>\n",
       "      <td>0.914286</td>\n",
       "      <td>1.0</td>\n",
       "      <td>0.915254</td>\n",
       "      <td>0.02</td>\n",
       "      <td>0.094322</td>\n",
       "      <td>0.722066</td>\n",
       "      <td>0.758389</td>\n",
       "      <td>0.135721</td>\n",
       "      <td>141000</td>\n",
       "    </tr>\n",
       "    <tr>\n",
       "      <th>3</th>\n",
       "      <td>Telangana</td>\n",
       "      <td>0.545979</td>\n",
       "      <td>0.500000</td>\n",
       "      <td>0.000000</td>\n",
       "      <td>0.742857</td>\n",
       "      <td>0.5</td>\n",
       "      <td>0.943503</td>\n",
       "      <td>0.18</td>\n",
       "      <td>0.827401</td>\n",
       "      <td>0.578544</td>\n",
       "      <td>0.671141</td>\n",
       "      <td>0.026747</td>\n",
       "      <td>55123</td>\n",
       "    </tr>\n",
       "    <tr>\n",
       "      <th>4</th>\n",
       "      <td>Gujarat</td>\n",
       "      <td>0.446074</td>\n",
       "      <td>0.151786</td>\n",
       "      <td>0.666667</td>\n",
       "      <td>0.571429</td>\n",
       "      <td>0.0</td>\n",
       "      <td>1.000000</td>\n",
       "      <td>0.09</td>\n",
       "      <td>0.847665</td>\n",
       "      <td>0.432848</td>\n",
       "      <td>0.422819</td>\n",
       "      <td>0.060670</td>\n",
       "      <td>33204</td>\n",
       "    </tr>\n",
       "  </tbody>\n",
       "</table>\n",
       "</div>"
      ],
      "text/plain": [
       "         State  Population _2011_  ...  Foreign Visitors  Covid Cases\n",
       "0  Maharashtra           1.000000  ...          0.941119       163115\n",
       "1        Delhi           0.884364  ...          0.507775        80188\n",
       "2    Karnataka           0.677106  ...          0.135721       141000\n",
       "3    Telangana           0.545979  ...          0.026747        55123\n",
       "4      Gujarat           0.446074  ...          0.060670        33204\n",
       "\n",
       "[5 rows x 13 columns]"
      ]
     },
     "execution_count": 17,
     "metadata": {
      "tags": []
     },
     "output_type": "execute_result"
    }
   ],
   "source": [
    "train.head(5)"
   ]
  },
  {
   "cell_type": "code",
   "execution_count": 19,
   "metadata": {
    "colab": {
     "base_uri": "https://localhost:8080/",
     "height": 1000
    },
    "colab_type": "code",
    "id": "NoWj03Vt1yQ8",
    "outputId": "57af1a7c-bed9-4505-c195-873b2f4ef718"
   },
   "outputs": [
    {
     "name": "stderr",
     "output_type": "stream",
     "text": [
      "/usr/local/lib/python3.6/dist-packages/statsmodels/tools/_testing.py:19: FutureWarning: pandas.util.testing is deprecated. Use the functions in the public API at pandas.testing instead.\n",
      "  import pandas.util.testing as tm\n"
     ]
    },
    {
     "data": {
      "text/plain": [
       "[Text(0, 0, 'Maharashtra'),\n",
       " Text(0, 0, 'Delhi'),\n",
       " Text(0, 0, 'Karnataka'),\n",
       " Text(0, 0, 'Telangana'),\n",
       " Text(0, 0, 'Gujarat'),\n",
       " Text(0, 0, 'Tamil Nadu'),\n",
       " Text(0, 0, 'Tamil nadu'),\n",
       " Text(0, 0, 'West Bengal'),\n",
       " Text(0, 0, 'Rajasthan'),\n",
       " Text(0, 0, 'Uttar Pradesh'),\n",
       " Text(0, 0, 'Madhya Pradesh'),\n",
       " Text(0, 0, 'Andhra Pradesh'),\n",
       " Text(0, 0, 'Bihar'),\n",
       " Text(0, 0, 'Punjab'),\n",
       " Text(0, 0, 'Jharkhand'),\n",
       " Text(0, 0, 'Haryana'),\n",
       " Text(0, 0, 'Jammu and Kashmir'),\n",
       " Text(0, 0, 'Chandigarh'),\n",
       " Text(0, 0, 'Chhattisgarh'),\n",
       " Text(0, 0, 'Assam'),\n",
       " Text(0, 0, 'Odisha'),\n",
       " Text(0, 0, 'Kerala'),\n",
       " Text(0, 0, 'Uttarakhand'),\n",
       " Text(0, 0, 'Tripura'),\n",
       " Text(0, 0, 'Puducherry'),\n",
       " Text(0, 0, 'Mizoram'),\n",
       " Text(0, 0, 'Manipur'),\n",
       " Text(0, 0, 'Himachal Pradesh'),\n",
       " Text(0, 0, 'Sikkim'),\n",
       " Text(0, 0, 'Andaman and Nicobar Islands'),\n",
       " Text(0, 0, 'Goa'),\n",
       " Text(0, 0, 'Nagaland'),\n",
       " Text(0, 0, 'Meghalaya')]"
      ]
     },
     "execution_count": 19,
     "metadata": {
      "tags": []
     },
     "output_type": "execute_result"
    },
    {
     "data": {
      "image/png": "[encoded data removed]",
      "text/plain": [
       "<Figure size 432x288 with 1 Axes>"
      ]
     },
     "metadata": {
      "needs_background": "light",
      "tags": []
     },
     "output_type": "display_data"
    }
   ],
   "source": [
    "import seaborn as sns\n",
    "ax = sns.barplot(x = 'State', y = 'Covid Cases', data = train)\n",
    "ax.set_xticklabels(ax.get_xticklabels(),rotation = 90)"
   ]
  },
  {
   "cell_type": "code",
   "execution_count": 20,
   "metadata": {
    "colab": {},
    "colab_type": "code",
    "id": "LiA40ML9vliG"
   },
   "outputs": [],
   "source": [
    "\n",
    "\n",
    "train['State'] = train['State'].replace(['Maharashtra','Delhi', 'Karnataka','Tamil nadu','Tamil Nadu','West Bengal', 'Bihar','Chandigarh','Tripura', 'Puducherry','Himachal Pradesh','Sikkim'],'high')\n",
    "train['State'] = train['State'].replace([ 'Telangana','Gujarat','Rajasthan','Chhattisgarh','Goa','Uttar Pradesh','Madhya Pradesh','Andhra Pradesh','Kerala','Mizoram','Manipur','Uttarakhand','Punjab', 'Nagaland','Meghalaya','Arunachal Pradesh', 'Dadra and Nagar Haveli','Andhra pradesh','Jharkhand','Haryana', 'Assam','Odisha','Andaman and Nicobar Islands','Jammu and Kashmir',],'low')\n"
   ]
  },
  {
   "cell_type": "code",
   "execution_count": 21,
   "metadata": {
    "colab": {},
    "colab_type": "code",
    "id": "lm09tkuE5yJ4"
   },
   "outputs": [],
   "source": [
    "categorical = ['State']\n",
    "\n",
    "for var in categorical:\n",
    "    train = pd.concat([train,pd.get_dummies(train[var], prefix=var)], axis=1)\n",
    "    del train[var]"
   ]
  },
  {
   "cell_type": "code",
   "execution_count": 22,
   "metadata": {
    "colab": {
     "base_uri": "https://localhost:8080/",
     "height": 359
    },
    "colab_type": "code",
    "id": "ZrJ_OhcLzPyl",
    "outputId": "42257193-5ebe-4358-c2c3-2441b2af1477"
   },
   "outputs": [
    {
     "data": {
      "text/html": [
       "<div>\n",
       "<style scoped>\n",
       "    .dataframe tbody tr th:only-of-type {\n",
       "        vertical-align: middle;\n",
       "    }\n",
       "\n",
       "    .dataframe tbody tr th {\n",
       "        vertical-align: top;\n",
       "    }\n",
       "\n",
       "    .dataframe thead th {\n",
       "        text-align: right;\n",
       "    }\n",
       "</style>\n",
       "<table border=\"1\" class=\"dataframe\">\n",
       "  <thead>\n",
       "    <tr style=\"text-align: right;\">\n",
       "      <th></th>\n",
       "      <th>Population _2011_</th>\n",
       "      <th>Sex Ratio</th>\n",
       "      <th>Median Age</th>\n",
       "      <th>Avg Temp</th>\n",
       "      <th>SWM</th>\n",
       "      <th>Toilets Avl</th>\n",
       "      <th>Water Purity</th>\n",
       "      <th>H Index</th>\n",
       "      <th>Female Population</th>\n",
       "      <th># of hospitals</th>\n",
       "      <th>Foreign Visitors</th>\n",
       "      <th>Covid Cases</th>\n",
       "      <th>State_high</th>\n",
       "      <th>State_low</th>\n",
       "    </tr>\n",
       "  </thead>\n",
       "  <tbody>\n",
       "    <tr>\n",
       "      <th>0</th>\n",
       "      <td>1.000000</td>\n",
       "      <td>0.267857</td>\n",
       "      <td>0.000000</td>\n",
       "      <td>0.771429</td>\n",
       "      <td>0.5</td>\n",
       "      <td>0.954802</td>\n",
       "      <td>0.50</td>\n",
       "      <td>0.699675</td>\n",
       "      <td>1.000000</td>\n",
       "      <td>1.000000</td>\n",
       "      <td>0.941119</td>\n",
       "      <td>163115</td>\n",
       "      <td>1</td>\n",
       "      <td>0</td>\n",
       "    </tr>\n",
       "    <tr>\n",
       "      <th>1</th>\n",
       "      <td>0.884364</td>\n",
       "      <td>0.178571</td>\n",
       "      <td>0.444444</td>\n",
       "      <td>0.714286</td>\n",
       "      <td>0.5</td>\n",
       "      <td>0.932203</td>\n",
       "      <td>0.96</td>\n",
       "      <td>0.919980</td>\n",
       "      <td>0.864168</td>\n",
       "      <td>0.926174</td>\n",
       "      <td>0.507775</td>\n",
       "      <td>80188</td>\n",
       "      <td>1</td>\n",
       "      <td>0</td>\n",
       "    </tr>\n",
       "    <tr>\n",
       "      <th>2</th>\n",
       "      <td>0.677106</td>\n",
       "      <td>0.526786</td>\n",
       "      <td>0.555556</td>\n",
       "      <td>0.914286</td>\n",
       "      <td>1.0</td>\n",
       "      <td>0.915254</td>\n",
       "      <td>0.02</td>\n",
       "      <td>0.094322</td>\n",
       "      <td>0.722066</td>\n",
       "      <td>0.758389</td>\n",
       "      <td>0.135721</td>\n",
       "      <td>141000</td>\n",
       "      <td>1</td>\n",
       "      <td>0</td>\n",
       "    </tr>\n",
       "    <tr>\n",
       "      <th>3</th>\n",
       "      <td>0.545979</td>\n",
       "      <td>0.500000</td>\n",
       "      <td>0.000000</td>\n",
       "      <td>0.742857</td>\n",
       "      <td>0.5</td>\n",
       "      <td>0.943503</td>\n",
       "      <td>0.18</td>\n",
       "      <td>0.827401</td>\n",
       "      <td>0.578544</td>\n",
       "      <td>0.671141</td>\n",
       "      <td>0.026747</td>\n",
       "      <td>55123</td>\n",
       "      <td>0</td>\n",
       "      <td>1</td>\n",
       "    </tr>\n",
       "    <tr>\n",
       "      <th>4</th>\n",
       "      <td>0.446074</td>\n",
       "      <td>0.151786</td>\n",
       "      <td>0.666667</td>\n",
       "      <td>0.571429</td>\n",
       "      <td>0.0</td>\n",
       "      <td>1.000000</td>\n",
       "      <td>0.09</td>\n",
       "      <td>0.847665</td>\n",
       "      <td>0.432848</td>\n",
       "      <td>0.422819</td>\n",
       "      <td>0.060670</td>\n",
       "      <td>33204</td>\n",
       "      <td>0</td>\n",
       "      <td>1</td>\n",
       "    </tr>\n",
       "    <tr>\n",
       "      <th>5</th>\n",
       "      <td>0.374372</td>\n",
       "      <td>0.383929</td>\n",
       "      <td>0.333333</td>\n",
       "      <td>0.742857</td>\n",
       "      <td>1.0</td>\n",
       "      <td>0.903955</td>\n",
       "      <td>0.79</td>\n",
       "      <td>0.535689</td>\n",
       "      <td>0.385624</td>\n",
       "      <td>0.382550</td>\n",
       "      <td>1.000000</td>\n",
       "      <td>145606</td>\n",
       "      <td>1</td>\n",
       "      <td>0</td>\n",
       "    </tr>\n",
       "    <tr>\n",
       "      <th>6</th>\n",
       "      <td>0.371603</td>\n",
       "      <td>0.419643</td>\n",
       "      <td>0.333333</td>\n",
       "      <td>0.714286</td>\n",
       "      <td>0.5</td>\n",
       "      <td>0.536723</td>\n",
       "      <td>0.77</td>\n",
       "      <td>0.090676</td>\n",
       "      <td>0.386185</td>\n",
       "      <td>0.302013</td>\n",
       "      <td>1.000000</td>\n",
       "      <td>145606</td>\n",
       "      <td>1</td>\n",
       "      <td>0</td>\n",
       "    </tr>\n",
       "    <tr>\n",
       "      <th>7</th>\n",
       "      <td>0.358701</td>\n",
       "      <td>0.566964</td>\n",
       "      <td>0.333333</td>\n",
       "      <td>0.914286</td>\n",
       "      <td>0.0</td>\n",
       "      <td>0.237288</td>\n",
       "      <td>0.50</td>\n",
       "      <td>0.472068</td>\n",
       "      <td>0.386377</td>\n",
       "      <td>0.483221</td>\n",
       "      <td>0.317833</td>\n",
       "      <td>44957</td>\n",
       "      <td>1</td>\n",
       "      <td>0</td>\n",
       "    </tr>\n",
       "    <tr>\n",
       "      <th>8</th>\n",
       "      <td>0.357179</td>\n",
       "      <td>0.392857</td>\n",
       "      <td>0.444444</td>\n",
       "      <td>0.600000</td>\n",
       "      <td>0.0</td>\n",
       "      <td>0.237288</td>\n",
       "      <td>0.50</td>\n",
       "      <td>0.808929</td>\n",
       "      <td>0.345777</td>\n",
       "      <td>0.590604</td>\n",
       "      <td>0.060670</td>\n",
       "      <td>23432</td>\n",
       "      <td>0</td>\n",
       "      <td>1</td>\n",
       "    </tr>\n",
       "    <tr>\n",
       "      <th>9</th>\n",
       "      <td>0.248894</td>\n",
       "      <td>0.392857</td>\n",
       "      <td>0.666667</td>\n",
       "      <td>0.685714</td>\n",
       "      <td>0.0</td>\n",
       "      <td>0.237288</td>\n",
       "      <td>0.50</td>\n",
       "      <td>0.444295</td>\n",
       "      <td>0.248989</td>\n",
       "      <td>0.268456</td>\n",
       "      <td>0.941119</td>\n",
       "      <td>218502</td>\n",
       "      <td>1</td>\n",
       "      <td>0</td>\n",
       "    </tr>\n",
       "  </tbody>\n",
       "</table>\n",
       "</div>"
      ],
      "text/plain": [
       "   Population _2011_  Sex Ratio  Median Age  ...  Covid Cases  State_high  State_low\n",
       "0           1.000000   0.267857    0.000000  ...       163115           1          0\n",
       "1           0.884364   0.178571    0.444444  ...        80188           1          0\n",
       "2           0.677106   0.526786    0.555556  ...       141000           1          0\n",
       "3           0.545979   0.500000    0.000000  ...        55123           0          1\n",
       "4           0.446074   0.151786    0.666667  ...        33204           0          1\n",
       "5           0.374372   0.383929    0.333333  ...       145606           1          0\n",
       "6           0.371603   0.419643    0.333333  ...       145606           1          0\n",
       "7           0.358701   0.566964    0.333333  ...        44957           1          0\n",
       "8           0.357179   0.392857    0.444444  ...        23432           0          1\n",
       "9           0.248894   0.392857    0.666667  ...       218502           1          0\n",
       "\n",
       "[10 rows x 14 columns]"
      ]
     },
     "execution_count": 22,
     "metadata": {
      "tags": []
     },
     "output_type": "execute_result"
    }
   ],
   "source": [
    "train.head(10)"
   ]
  },
  {
   "cell_type": "code",
   "execution_count": 23,
   "metadata": {
    "colab": {},
    "colab_type": "code",
    "id": "7wQmbQ1M01Wh"
   },
   "outputs": [],
   "source": [
    "test['State'] = test['State'].replace(['Maharashtra','Delhi', 'Karnataka','Tamil nadu','Tamil Nadu','West Bengal', 'Bihar','Chandigarh','Tripura', 'Puducherry','Himachal Pradesh','Sikkim'],'high')\n",
    "test['State'] = test['State'].replace([ 'Telangana','Gujarat','Rajasthan','Chhattisgarh','Goa','Uttar Pradesh','Madhya Pradesh','Andhra Pradesh','Kerala','Mizoram','Manipur','Uttarakhand','Punjab', 'Nagaland','Meghalaya','Arunachal Pradesh', 'Dadra and Nagar Haveli','Andhra pradesh','Jharkhand','Haryana', 'Assam','Odisha','Andaman and Nicobar Islands','Jammu and Kashmir',],'low')"
   ]
  },
  {
   "cell_type": "code",
   "execution_count": 24,
   "metadata": {
    "colab": {},
    "colab_type": "code",
    "id": "cXDt9ZnW092i"
   },
   "outputs": [],
   "source": [
    "categorical = ['State']\n",
    "\n",
    "for var in categorical:\n",
    "    test = pd.concat([test,pd.get_dummies(test[var], prefix=var)], axis=1)\n",
    "    del test[var]"
   ]
  },
  {
   "cell_type": "code",
   "execution_count": 25,
   "metadata": {
    "colab": {},
    "colab_type": "code",
    "id": "GY8rYrKa6lhA"
   },
   "outputs": [],
   "source": [
    "train.drop(['State_low'],axis=1,inplace=True)\n",
    "test.drop(['State_low'],axis=1,inplace=True)"
   ]
  },
  {
   "cell_type": "code",
   "execution_count": 26,
   "metadata": {
    "colab": {
     "base_uri": "https://localhost:8080/",
     "height": 34
    },
    "colab_type": "code",
    "id": "-V9Ilp6Z8l9y",
    "outputId": "e88b22e4-5453-4ad5-da44-9fb17d9207c7"
   },
   "outputs": [
    {
     "data": {
      "text/plain": [
       "(787, 13)"
      ]
     },
     "execution_count": 26,
     "metadata": {
      "tags": []
     },
     "output_type": "execute_result"
    }
   ],
   "source": [
    "train.shape"
   ]
  },
  {
   "cell_type": "code",
   "execution_count": 27,
   "metadata": {
    "colab": {
     "base_uri": "https://localhost:8080/",
     "height": 34
    },
    "colab_type": "code",
    "id": "H-szNV9EI1ES",
    "outputId": "f66449d0-a3a6-4c33-f93a-a3a67e594d5f"
   },
   "outputs": [
    {
     "data": {
      "text/plain": [
       "(501, 12)"
      ]
     },
     "execution_count": 27,
     "metadata": {
      "tags": []
     },
     "output_type": "execute_result"
    }
   ],
   "source": [
    "test.shape"
   ]
  },
  {
   "cell_type": "code",
   "execution_count": 28,
   "metadata": {
    "colab": {
     "base_uri": "https://localhost:8080/",
     "height": 238
    },
    "colab_type": "code",
    "id": "cJt5jX2u76Tb",
    "outputId": "2cb0a99f-e182-40f7-884a-efe4d951c47e"
   },
   "outputs": [
    {
     "name": "stdout",
     "output_type": "stream",
     "text": [
      "[[14.10393397  0.75401103  1.52289321 ...  1.9190586  10.36522443\n",
      "   1.30555251]\n",
      " [12.43817455  1.29809638  0.39320105 ...  0.63980778  4.87282495\n",
      "   1.30555251]\n",
      " [ 9.45259037  0.82383647  0.87222461 ...  0.45851049  8.90050951\n",
      "   1.30555251]\n",
      " ...\n",
      " [ 0.30115906  3.08179067  0.87222461 ...  0.79276367  0.2493391\n",
      "   1.30555251]\n",
      " [ 0.30118577  0.15551715  1.04386965 ...  0.84408693  0.2952377\n",
      "   0.76595923]\n",
      " [ 0.30121944  0.45476409  0.56484608 ...  1.09667132  0.29113133\n",
      "   0.76595923]]\n"
     ]
    }
   ],
   "source": [
    "from scipy import stats\n",
    "\n",
    "#outlier detection and removal\n",
    "z = np.abs(stats.zscore(train))\n",
    "print(z)"
   ]
  },
  {
   "cell_type": "code",
   "execution_count": 29,
   "metadata": {
    "colab": {
     "base_uri": "https://localhost:8080/",
     "height": 34
    },
    "colab_type": "code",
    "id": "XMd94qVN8HuB",
    "outputId": "754e5f62-a6e0-4a3e-cad5-6699171d55fc"
   },
   "outputs": [
    {
     "data": {
      "text/plain": [
       "(779, 13)"
      ]
     },
     "execution_count": 29,
     "metadata": {
      "tags": []
     },
     "output_type": "execute_result"
    }
   ],
   "source": [
    "train=train[(z < 7).all(axis=1)]\n",
    "train.shape"
   ]
  },
  {
   "cell_type": "code",
   "execution_count": 30,
   "metadata": {
    "colab": {},
    "colab_type": "code",
    "id": "RZQyxw6G6wX4"
   },
   "outputs": [],
   "source": [
    "train_y=train['Covid Cases']\n",
    "train_x=train.drop(['Covid Cases'],axis=1)"
   ]
  },
  {
   "cell_type": "code",
   "execution_count": 31,
   "metadata": {
    "colab": {
     "base_uri": "https://localhost:8080/",
     "height": 204
    },
    "colab_type": "code",
    "id": "PUKgzBmt7AGc",
    "outputId": "ce256d93-484c-476e-cb86-ca2c714d5579"
   },
   "outputs": [
    {
     "data": {
      "text/html": [
       "<div>\n",
       "<style scoped>\n",
       "    .dataframe tbody tr th:only-of-type {\n",
       "        vertical-align: middle;\n",
       "    }\n",
       "\n",
       "    .dataframe tbody tr th {\n",
       "        vertical-align: top;\n",
       "    }\n",
       "\n",
       "    .dataframe thead th {\n",
       "        text-align: right;\n",
       "    }\n",
       "</style>\n",
       "<table border=\"1\" class=\"dataframe\">\n",
       "  <thead>\n",
       "    <tr style=\"text-align: right;\">\n",
       "      <th></th>\n",
       "      <th>Population _2011_</th>\n",
       "      <th>Sex Ratio</th>\n",
       "      <th>Median Age</th>\n",
       "      <th>Avg Temp</th>\n",
       "      <th>SWM</th>\n",
       "      <th>Toilets Avl</th>\n",
       "      <th>Water Purity</th>\n",
       "      <th>H Index</th>\n",
       "      <th>Female Population</th>\n",
       "      <th># of hospitals</th>\n",
       "      <th>Foreign Visitors</th>\n",
       "      <th>State_high</th>\n",
       "    </tr>\n",
       "  </thead>\n",
       "  <tbody>\n",
       "    <tr>\n",
       "      <th>4</th>\n",
       "      <td>0.446074</td>\n",
       "      <td>0.151786</td>\n",
       "      <td>0.666667</td>\n",
       "      <td>0.571429</td>\n",
       "      <td>0.0</td>\n",
       "      <td>1.000000</td>\n",
       "      <td>0.09</td>\n",
       "      <td>0.847665</td>\n",
       "      <td>0.432848</td>\n",
       "      <td>0.422819</td>\n",
       "      <td>0.060670</td>\n",
       "      <td>0</td>\n",
       "    </tr>\n",
       "    <tr>\n",
       "      <th>7</th>\n",
       "      <td>0.358701</td>\n",
       "      <td>0.566964</td>\n",
       "      <td>0.333333</td>\n",
       "      <td>0.914286</td>\n",
       "      <td>0.0</td>\n",
       "      <td>0.237288</td>\n",
       "      <td>0.50</td>\n",
       "      <td>0.472068</td>\n",
       "      <td>0.386377</td>\n",
       "      <td>0.483221</td>\n",
       "      <td>0.317833</td>\n",
       "      <td>1</td>\n",
       "    </tr>\n",
       "    <tr>\n",
       "      <th>8</th>\n",
       "      <td>0.357179</td>\n",
       "      <td>0.392857</td>\n",
       "      <td>0.444444</td>\n",
       "      <td>0.600000</td>\n",
       "      <td>0.0</td>\n",
       "      <td>0.237288</td>\n",
       "      <td>0.50</td>\n",
       "      <td>0.808929</td>\n",
       "      <td>0.345777</td>\n",
       "      <td>0.590604</td>\n",
       "      <td>0.060670</td>\n",
       "      <td>0</td>\n",
       "    </tr>\n",
       "    <tr>\n",
       "      <th>10</th>\n",
       "      <td>0.242583</td>\n",
       "      <td>0.236607</td>\n",
       "      <td>0.333333</td>\n",
       "      <td>0.771429</td>\n",
       "      <td>1.0</td>\n",
       "      <td>0.440678</td>\n",
       "      <td>0.72</td>\n",
       "      <td>0.889757</td>\n",
       "      <td>0.240721</td>\n",
       "      <td>0.342282</td>\n",
       "      <td>0.314804</td>\n",
       "      <td>0</td>\n",
       "    </tr>\n",
       "    <tr>\n",
       "      <th>11</th>\n",
       "      <td>0.224119</td>\n",
       "      <td>0.285714</td>\n",
       "      <td>0.111111</td>\n",
       "      <td>0.800000</td>\n",
       "      <td>1.0</td>\n",
       "      <td>0.412429</td>\n",
       "      <td>0.76</td>\n",
       "      <td>0.463200</td>\n",
       "      <td>0.225251</td>\n",
       "      <td>0.322148</td>\n",
       "      <td>0.662537</td>\n",
       "      <td>0</td>\n",
       "    </tr>\n",
       "  </tbody>\n",
       "</table>\n",
       "</div>"
      ],
      "text/plain": [
       "    Population _2011_  Sex Ratio  ...  Foreign Visitors  State_high\n",
       "4            0.446074   0.151786  ...          0.060670           0\n",
       "7            0.358701   0.566964  ...          0.317833           1\n",
       "8            0.357179   0.392857  ...          0.060670           0\n",
       "10           0.242583   0.236607  ...          0.314804           0\n",
       "11           0.224119   0.285714  ...          0.662537           0\n",
       "\n",
       "[5 rows x 12 columns]"
      ]
     },
     "execution_count": 31,
     "metadata": {
      "tags": []
     },
     "output_type": "execute_result"
    }
   ],
   "source": [
    "train_x.head(5)"
   ]
  },
  {
   "cell_type": "code",
   "execution_count": 32,
   "metadata": {
    "colab": {},
    "colab_type": "code",
    "id": "DcPwqMyM7MBL"
   },
   "outputs": [],
   "source": [
    "from sklearn.model_selection import train_test_split\n",
    "X_train,X_test,y_train,y_test=train_test_split(train_x,train_y,test_size=0.1,random_state=101)"
   ]
  },
  {
   "cell_type": "code",
   "execution_count": 33,
   "metadata": {
    "colab": {
     "base_uri": "https://localhost:8080/",
     "height": 153
    },
    "colab_type": "code",
    "id": "ng6Foy8_7Rwd",
    "outputId": "cd76854f-e34f-435e-b13a-a566ea30dd22"
   },
   "outputs": [
    {
     "name": "stdout",
     "output_type": "stream",
     "text": [
      "[11:37:56] WARNING: /workspace/src/objective/regression_obj.cu:152: reg:linear is now deprecated in favor of reg:squarederror.\n"
     ]
    },
    {
     "data": {
      "text/plain": [
       "XGBRegressor(base_score=0.5, booster='gbtree', colsample_bylevel=1,\n",
       "             colsample_bynode=1, colsample_bytree=1, gamma=0,\n",
       "             importance_type='gain', learning_rate=0.1, max_delta_step=0,\n",
       "             max_depth=3, min_child_weight=1, missing=None, n_estimators=100,\n",
       "             n_jobs=1, nthread=None, objective='reg:linear', random_state=0,\n",
       "             reg_alpha=0, reg_lambda=1, scale_pos_weight=1, seed=None,\n",
       "             silent=None, subsample=1, verbosity=1)"
      ]
     },
     "execution_count": 33,
     "metadata": {
      "tags": []
     },
     "output_type": "execute_result"
    }
   ],
   "source": [
    "import xgboost as xgb\n",
    "model_xgb = xgb.XGBRegressor()\n",
    "model_xgb.fit(X_train,y_train)"
   ]
  },
  {
   "cell_type": "code",
   "execution_count": 34,
   "metadata": {
    "colab": {
     "base_uri": "https://localhost:8080/",
     "height": 68
    },
    "colab_type": "code",
    "id": "siByACBm7WCq",
    "outputId": "09d859c1-dde8-40f5-98f8-b511ae428174"
   },
   "outputs": [
    {
     "name": "stdout",
     "output_type": "stream",
     "text": [
      "Mean Absolute Error: 1557.8506954877805\n",
      "Root Mean Squared Error: 3672.9436513666087\n",
      "Root Mean Squared Log Error: 0.4962839150635965\n"
     ]
    }
   ],
   "source": [
    "from sklearn.metrics import mean_absolute_error,mean_squared_error\n",
    "from sklearn.metrics import mean_squared_log_error\n",
    "\n",
    "y_test_p=model_xgb.predict(X_test)\n",
    "print('Mean Absolute Error:', mean_absolute_error(y_test,y_test_p))\n",
    "print('Root Mean Squared Error:', np.sqrt(mean_squared_error(y_test,y_test_p)))\n",
    "print('Root Mean Squared Log Error:',np.sqrt(mean_squared_log_error( y_test,y_test_p)))"
   ]
  },
  {
   "cell_type": "code",
   "execution_count": 35,
   "metadata": {
    "colab": {
     "base_uri": "https://localhost:8080/",
     "height": 34
    },
    "colab_type": "code",
    "id": "YvKI4QLm7Zvt",
    "outputId": "4cf4a93a-000a-4060-9d73-87d1411bc3af"
   },
   "outputs": [
    {
     "data": {
      "text/plain": [
       "0.24629772435085107"
      ]
     },
     "execution_count": 35,
     "metadata": {
      "tags": []
     },
     "output_type": "execute_result"
    }
   ],
   "source": [
    "from sklearn.metrics import mean_squared_log_error\n",
    "mean_squared_log_error( y_test,y_test_p)"
   ]
  },
  {
   "cell_type": "code",
   "execution_count": 36,
   "metadata": {
    "colab": {
     "base_uri": "https://localhost:8080/",
     "height": 34
    },
    "colab_type": "code",
    "id": "q1YsZAcHNkgM",
    "outputId": "cbc4b3f3-d0b2-4737-9cb8-435fb8b36f85"
   },
   "outputs": [
    {
     "data": {
      "text/plain": [
       "(701, 12)"
      ]
     },
     "execution_count": 36,
     "metadata": {
      "tags": []
     },
     "output_type": "execute_result"
    }
   ],
   "source": [
    "X_train.shape"
   ]
  },
  {
   "cell_type": "code",
   "execution_count": 37,
   "metadata": {
    "colab": {},
    "colab_type": "code",
    "id": "WgY16RKm_IHx"
   },
   "outputs": [],
   "source": [
    "from keras import Sequential\n",
    "from keras.layers import Dense\n",
    "def build_regressor():\n",
    "    regressor = Sequential()\n",
    "    regressor.add(Dense(units=1000, input_dim=12))\n",
    "    regressor.add(Dense(units=500))\n",
    "    regressor.add(Dense(units=500))\n",
    "    regressor.add(Dense(units=1))\n",
    "    regressor.compile(optimizer='adam', loss='mean_squared_error',  metrics=['mae','accuracy'])\n",
    "    return regressor\n"
   ]
  },
  {
   "cell_type": "code",
   "execution_count": 38,
   "metadata": {
    "colab": {},
    "colab_type": "code",
    "id": "GwgX7tKQNRpc"
   },
   "outputs": [],
   "source": [
    "from keras.wrappers.scikit_learn import KerasRegressor\n",
    "regressor = KerasRegressor(build_fn=build_regressor, batch_size=64,epochs=100)"
   ]
  },
  {
   "cell_type": "code",
   "execution_count": null,
   "metadata": {
    "colab": {
     "base_uri": "https://localhost:8080/",
     "height": 1000
    },
    "colab_type": "code",
    "id": "-sXEuL5ONWmH",
    "outputId": "1b9f7e3a-20ab-4161-9e77-437080c9d4a2"
   },
   "outputs": [
    {
     "name": "stdout",
     "output_type": "stream",
     "text": [
      "Epoch 1/100\n",
      "10/10 [==============================] - 0s 11ms/step - loss: 58906528.0000 - mae: 5313.4888 - accuracy: 0.0000e+00\n",
      "Epoch 2/100\n",
      "10/10 [==============================] - 0s 10ms/step - loss: 54975396.0000 - mae: 4967.5552 - accuracy: 0.0000e+00\n",
      "Epoch 3/100\n",
      "10/10 [==============================] - 0s 10ms/step - loss: 42122948.0000 - mae: 3652.8210 - accuracy: 0.0000e+00\n",
      "Epoch 4/100\n",
      "10/10 [==============================] - 0s 10ms/step - loss: 28978030.0000 - mae: 3737.9026 - accuracy: 0.0000e+00\n",
      "Epoch 5/100\n",
      "10/10 [==============================] - 0s 11ms/step - loss: 27989346.0000 - mae: 3647.4939 - accuracy: 0.0000e+00\n",
      "Epoch 6/100\n",
      "10/10 [==============================] - 0s 11ms/step - loss: 26654716.0000 - mae: 3316.6924 - accuracy: 0.0000e+00\n",
      "Epoch 7/100\n",
      "10/10 [==============================] - 0s 10ms/step - loss: 25451146.0000 - mae: 3421.9482 - accuracy: 0.0000e+00\n",
      "Epoch 8/100\n",
      "10/10 [==============================] - 0s 10ms/step - loss: 24556372.0000 - mae: 3309.9534 - accuracy: 0.0000e+00\n",
      "Epoch 9/100\n",
      "10/10 [==============================] - 0s 12ms/step - loss: 23582844.0000 - mae: 3073.2036 - accuracy: 0.0000e+00\n",
      "Epoch 10/100\n",
      "10/10 [==============================] - 0s 10ms/step - loss: 22388796.0000 - mae: 2999.8867 - accuracy: 0.0000e+00\n",
      "Epoch 11/100\n",
      "10/10 [==============================] - 0s 10ms/step - loss: 21177834.0000 - mae: 2860.3601 - accuracy: 0.0000e+00\n",
      "Epoch 12/100\n",
      "10/10 [==============================] - 0s 9ms/step - loss: 19829742.0000 - mae: 2600.6692 - accuracy: 0.0000e+00\n",
      "Epoch 13/100\n",
      "10/10 [==============================] - 0s 9ms/step - loss: 18422854.0000 - mae: 2361.1077 - accuracy: 0.0000e+00\n",
      "Epoch 14/100\n",
      "10/10 [==============================] - 0s 10ms/step - loss: 17280322.0000 - mae: 2252.3306 - accuracy: 0.0000e+00\n",
      "Epoch 15/100\n",
      "10/10 [==============================] - 0s 10ms/step - loss: 16814528.0000 - mae: 2276.3901 - accuracy: 0.0000e+00\n",
      "Epoch 16/100\n",
      "10/10 [==============================] - 0s 10ms/step - loss: 16312737.0000 - mae: 2229.5325 - accuracy: 0.0000e+00\n",
      "Epoch 17/100\n",
      "10/10 [==============================] - 0s 10ms/step - loss: 15998161.0000 - mae: 2227.5259 - accuracy: 0.0000e+00\n",
      "Epoch 18/100\n",
      "10/10 [==============================] - 0s 11ms/step - loss: 15663651.0000 - mae: 2143.3372 - accuracy: 0.0000e+00\n",
      "Epoch 19/100\n",
      "10/10 [==============================] - 0s 10ms/step - loss: 15538612.0000 - mae: 2097.5161 - accuracy: 0.0000e+00\n",
      "Epoch 20/100\n",
      "10/10 [==============================] - 0s 10ms/step - loss: 15212297.0000 - mae: 2123.0388 - accuracy: 0.0000e+00\n",
      "Epoch 21/100\n",
      "10/10 [==============================] - 0s 9ms/step - loss: 15057267.0000 - mae: 2115.6599 - accuracy: 0.0000e+00\n",
      "Epoch 22/100\n",
      "10/10 [==============================] - 0s 10ms/step - loss: 14742852.0000 - mae: 2101.3743 - accuracy: 0.0000e+00\n",
      "Epoch 23/100\n",
      "10/10 [==============================] - 0s 10ms/step - loss: 14354419.0000 - mae: 2075.6860 - accuracy: 0.0000e+00\n",
      "Epoch 24/100\n",
      "10/10 [==============================] - 0s 11ms/step - loss: 14071188.0000 - mae: 2030.5538 - accuracy: 0.0000e+00\n",
      "Epoch 25/100\n",
      "10/10 [==============================] - 0s 10ms/step - loss: 13833397.0000 - mae: 2069.1892 - accuracy: 0.0000e+00\n",
      "Epoch 26/100\n",
      "10/10 [==============================] - 0s 10ms/step - loss: 13534739.0000 - mae: 2059.0969 - accuracy: 0.0000e+00\n",
      "Epoch 27/100\n",
      "10/10 [==============================] - 0s 11ms/step - loss: 13332257.0000 - mae: 2073.4543 - accuracy: 0.0000e+00\n",
      "Epoch 28/100\n",
      "10/10 [==============================] - 0s 10ms/step - loss: 13280301.0000 - mae: 2055.7651 - accuracy: 0.0000e+00\n",
      "Epoch 29/100\n",
      "10/10 [==============================] - 0s 10ms/step - loss: 12921336.0000 - mae: 2019.6979 - accuracy: 0.0000e+00\n",
      "Epoch 30/100\n",
      "10/10 [==============================] - 0s 10ms/step - loss: 12542149.0000 - mae: 2005.5297 - accuracy: 0.0000e+00\n",
      "Epoch 31/100\n",
      "10/10 [==============================] - 0s 9ms/step - loss: 12431696.0000 - mae: 2037.8916 - accuracy: 0.0000e+00\n",
      "Epoch 32/100\n",
      "10/10 [==============================] - 0s 11ms/step - loss: 12641852.0000 - mae: 2082.0413 - accuracy: 0.0000e+00\n",
      "Epoch 33/100\n",
      "10/10 [==============================] - 0s 10ms/step - loss: 12475661.0000 - mae: 2026.0168 - accuracy: 0.0000e+00\n",
      "Epoch 34/100\n",
      "10/10 [==============================] - 0s 10ms/step - loss: 11966566.0000 - mae: 2039.6169 - accuracy: 0.0000e+00\n",
      "Epoch 35/100\n",
      "10/10 [==============================] - 0s 10ms/step - loss: 11879624.0000 - mae: 2019.1614 - accuracy: 0.0000e+00\n",
      "Epoch 36/100\n",
      "10/10 [==============================] - 0s 11ms/step - loss: 11901523.0000 - mae: 2014.4006 - accuracy: 0.0000e+00\n",
      "Epoch 37/100\n",
      "10/10 [==============================] - 0s 10ms/step - loss: 11671700.0000 - mae: 2003.3179 - accuracy: 0.0000e+00\n",
      "Epoch 38/100\n",
      "10/10 [==============================] - 0s 10ms/step - loss: 11762902.0000 - mae: 1982.1521 - accuracy: 0.0000e+00\n",
      "Epoch 39/100\n",
      "10/10 [==============================] - 0s 13ms/step - loss: 11771835.0000 - mae: 2007.5289 - accuracy: 0.0000e+00\n",
      "Epoch 40/100\n",
      "10/10 [==============================] - 0s 10ms/step - loss: 11898733.0000 - mae: 2033.3918 - accuracy: 0.0000e+00\n",
      "Epoch 41/100\n",
      "10/10 [==============================] - 0s 10ms/step - loss: 11640519.0000 - mae: 2003.0199 - accuracy: 0.0000e+00\n",
      "Epoch 42/100\n",
      "10/10 [==============================] - 0s 10ms/step - loss: 11753858.0000 - mae: 2052.3450 - accuracy: 0.0000e+00\n",
      "Epoch 43/100\n",
      "10/10 [==============================] - 0s 10ms/step - loss: 11738903.0000 - mae: 2028.3772 - accuracy: 0.0000e+00\n",
      "Epoch 44/100\n",
      "10/10 [==============================] - 0s 11ms/step - loss: 11855588.0000 - mae: 2050.0256 - accuracy: 0.0000e+00\n",
      "Epoch 45/100\n",
      "10/10 [==============================] - 0s 10ms/step - loss: 11677704.0000 - mae: 1999.8828 - accuracy: 0.0000e+00\n",
      "Epoch 46/100\n",
      "10/10 [==============================] - 0s 10ms/step - loss: 11617652.0000 - mae: 1987.4857 - accuracy: 0.0000e+00\n",
      "Epoch 47/100\n",
      "10/10 [==============================] - 0s 10ms/step - loss: 11705402.0000 - mae: 1999.2014 - accuracy: 0.0000e+00\n",
      "Epoch 48/100\n",
      "10/10 [==============================] - 0s 10ms/step - loss: 11722968.0000 - mae: 2006.8890 - accuracy: 0.0000e+00\n",
      "Epoch 49/100\n",
      "10/10 [==============================] - 0s 10ms/step - loss: 11966140.0000 - mae: 2031.0779 - accuracy: 0.0000e+00\n",
      "Epoch 50/100\n",
      "10/10 [==============================] - 0s 10ms/step - loss: 12053054.0000 - mae: 2127.2095 - accuracy: 0.0000e+00\n",
      "Epoch 51/100\n",
      "10/10 [==============================] - 0s 10ms/step - loss: 11668294.0000 - mae: 2013.3890 - accuracy: 0.0000e+00\n",
      "Epoch 52/100\n",
      "10/10 [==============================] - 0s 10ms/step - loss: 11593338.0000 - mae: 2017.7743 - accuracy: 0.0000e+00\n",
      "Epoch 53/100\n",
      "10/10 [==============================] - 0s 12ms/step - loss: 11793435.0000 - mae: 2038.0425 - accuracy: 0.0000e+00\n",
      "Epoch 54/100\n",
      "10/10 [==============================] - 0s 9ms/step - loss: 11974582.0000 - mae: 2022.7974 - accuracy: 0.0000e+00\n",
      "Epoch 55/100\n",
      "10/10 [==============================] - 0s 9ms/step - loss: 11674668.0000 - mae: 1995.4023 - accuracy: 0.0000e+00\n",
      "Epoch 56/100\n",
      "10/10 [==============================] - 0s 9ms/step - loss: 11759305.0000 - mae: 2001.2915 - accuracy: 0.0000e+00\n",
      "Epoch 57/100\n",
      "10/10 [==============================] - 0s 9ms/step - loss: 11946318.0000 - mae: 2025.8784 - accuracy: 0.0000e+00\n",
      "Epoch 58/100\n",
      "10/10 [==============================] - 0s 9ms/step - loss: 11678056.0000 - mae: 1994.3376 - accuracy: 0.0000e+00\n",
      "Epoch 59/100\n",
      "10/10 [==============================] - 0s 9ms/step - loss: 11661573.0000 - mae: 2011.2250 - accuracy: 0.0000e+00\n",
      "Epoch 60/100\n",
      "10/10 [==============================] - 0s 9ms/step - loss: 11771800.0000 - mae: 2030.9772 - accuracy: 0.0000e+00\n",
      "Epoch 61/100\n",
      "10/10 [==============================] - 0s 10ms/step - loss: 11778103.0000 - mae: 2005.4380 - accuracy: 0.0000e+00\n",
      "Epoch 62/100\n",
      "10/10 [==============================] - 0s 10ms/step - loss: 11660722.0000 - mae: 2012.0907 - accuracy: 0.0000e+00\n",
      "Epoch 63/100\n",
      "10/10 [==============================] - 0s 9ms/step - loss: 11613219.0000 - mae: 1981.3235 - accuracy: 0.0000e+00\n",
      "Epoch 64/100\n",
      "10/10 [==============================] - 0s 9ms/step - loss: 11647763.0000 - mae: 1985.6986 - accuracy: 0.0000e+00\n",
      "Epoch 65/100\n",
      "10/10 [==============================] - 0s 9ms/step - loss: 11605834.0000 - mae: 1999.9084 - accuracy: 0.0000e+00\n",
      "Epoch 66/100\n",
      "10/10 [==============================] - 0s 10ms/step - loss: 11800864.0000 - mae: 2042.5299 - accuracy: 0.0000e+00\n",
      "Epoch 67/100\n",
      "10/10 [==============================] - 0s 9ms/step - loss: 11774891.0000 - mae: 2034.3588 - accuracy: 0.0000e+00\n",
      "Epoch 68/100\n",
      "10/10 [==============================] - 0s 9ms/step - loss: 11876792.0000 - mae: 2059.0132 - accuracy: 0.0000e+00\n",
      "Epoch 69/100\n",
      "10/10 [==============================] - 0s 9ms/step - loss: 11617155.0000 - mae: 1987.6812 - accuracy: 0.0000e+00\n",
      "Epoch 70/100\n",
      "10/10 [==============================] - 0s 9ms/step - loss: 11790421.0000 - mae: 2023.9388 - accuracy: 0.0000e+00\n",
      "Epoch 71/100\n",
      "10/10 [==============================] - 0s 10ms/step - loss: 11642406.0000 - mae: 2028.7205 - accuracy: 0.0000e+00\n",
      "Epoch 72/100\n",
      "10/10 [==============================] - 0s 9ms/step - loss: 11674617.0000 - mae: 2006.7795 - accuracy: 0.0000e+00\n",
      "Epoch 73/100\n",
      "10/10 [==============================] - 0s 9ms/step - loss: 11743374.0000 - mae: 2054.5742 - accuracy: 0.0000e+00\n",
      "Epoch 74/100\n",
      "10/10 [==============================] - 0s 9ms/step - loss: 11760370.0000 - mae: 2027.5315 - accuracy: 0.0000e+00\n",
      "Epoch 75/100\n",
      "10/10 [==============================] - 0s 9ms/step - loss: 12108835.0000 - mae: 2132.9827 - accuracy: 0.0000e+00\n",
      "Epoch 76/100\n",
      "10/10 [==============================] - 0s 9ms/step - loss: 11569823.0000 - mae: 1981.1818 - accuracy: 0.0000e+00\n",
      "Epoch 77/100\n",
      "10/10 [==============================] - 0s 10ms/step - loss: 11688755.0000 - mae: 2016.8218 - accuracy: 0.0000e+00\n",
      "Epoch 78/100\n",
      "10/10 [==============================] - 0s 10ms/step - loss: 11643177.0000 - mae: 1997.3188 - accuracy: 0.0000e+00\n",
      "Epoch 79/100\n",
      "10/10 [==============================] - 0s 9ms/step - loss: 11566811.0000 - mae: 1981.3038 - accuracy: 0.0000e+00\n",
      "Epoch 80/100\n",
      "10/10 [==============================] - 0s 9ms/step - loss: 11561252.0000 - mae: 1989.7123 - accuracy: 0.0000e+00\n",
      "Epoch 81/100\n",
      "10/10 [==============================] - 0s 10ms/step - loss: 11627699.0000 - mae: 1994.8843 - accuracy: 0.0000e+00\n",
      "Epoch 82/100\n",
      "10/10 [==============================] - 0s 10ms/step - loss: 11820761.0000 - mae: 2047.9948 - accuracy: 0.0000e+00\n",
      "Epoch 83/100\n",
      "10/10 [==============================] - 0s 9ms/step - loss: 11565362.0000 - mae: 2003.4033 - accuracy: 0.0000e+00\n",
      "Epoch 84/100\n",
      "10/10 [==============================] - 0s 10ms/step - loss: 11891698.0000 - mae: 1991.5389 - accuracy: 0.0000e+00\n",
      "Epoch 85/100\n",
      "10/10 [==============================] - 0s 9ms/step - loss: 11791526.0000 - mae: 2045.0184 - accuracy: 0.0000e+00\n",
      "Epoch 86/100\n",
      "10/10 [==============================] - 0s 10ms/step - loss: 11830062.0000 - mae: 2041.1714 - accuracy: 0.0000e+00\n",
      "Epoch 87/100\n",
      "10/10 [==============================] - 0s 9ms/step - loss: 11567605.0000 - mae: 1999.8223 - accuracy: 0.0000e+00\n",
      "Epoch 88/100\n",
      "10/10 [==============================] - 0s 9ms/step - loss: 11818757.0000 - mae: 2010.6615 - accuracy: 0.0000e+00\n",
      "Epoch 89/100\n",
      "10/10 [==============================] - 0s 10ms/step - loss: 11722505.0000 - mae: 2017.8584 - accuracy: 0.0000e+00\n",
      "Epoch 90/100\n",
      "10/10 [==============================] - 0s 10ms/step - loss: 11654051.0000 - mae: 2003.0339 - accuracy: 0.0000e+00\n",
      "Epoch 91/100\n",
      "10/10 [==============================] - 0s 9ms/step - loss: 12164232.0000 - mae: 2038.5168 - accuracy: 0.0000e+00\n",
      "Epoch 92/100\n",
      "10/10 [==============================] - 0s 9ms/step - loss: 12099837.0000 - mae: 2156.7690 - accuracy: 0.0000e+00\n",
      "Epoch 93/100\n",
      "10/10 [==============================] - 0s 9ms/step - loss: 12086413.0000 - mae: 2084.6943 - accuracy: 0.0000e+00\n",
      "Epoch 94/100\n",
      "10/10 [==============================] - 0s 9ms/step - loss: 11825045.0000 - mae: 2083.7012 - accuracy: 0.0000e+00\n",
      "Epoch 95/100\n",
      "10/10 [==============================] - 0s 9ms/step - loss: 11945933.0000 - mae: 2039.0449 - accuracy: 0.0000e+00\n",
      "Epoch 96/100\n",
      "10/10 [==============================] - 0s 9ms/step - loss: 11769455.0000 - mae: 2043.7705 - accuracy: 0.0000e+00\n",
      "Epoch 97/100\n",
      "10/10 [==============================] - 0s 9ms/step - loss: 11672152.0000 - mae: 2011.0774 - accuracy: 0.0000e+00\n",
      "Epoch 98/100\n",
      "10/10 [==============================] - 0s 9ms/step - loss: 11586230.0000 - mae: 1996.0518 - accuracy: 0.0000e+00\n",
      "Epoch 99/100\n",
      "10/10 [==============================] - 0s 11ms/step - loss: 11814522.0000 - mae: 2044.6951 - accuracy: 0.0000e+00\n",
      "Epoch 100/100\n",
      "10/10 [==============================] - 0s 9ms/step - loss: 12027109.0000 - mae: 2034.5916 - accuracy: 0.0000e+00\n"
     ]
    }
   ],
   "source": [
    "results=regressor.fit(X_train,y_train)\n"
   ]
  },
  {
   "cell_type": "code",
   "execution_count": null,
   "metadata": {
    "colab": {},
    "colab_type": "code",
    "id": "_YsiscVfNXck"
   },
   "outputs": [],
   "source": [
    "y_pred= regressor.predict(X_test)"
   ]
  },
  {
   "cell_type": "code",
   "execution_count": null,
   "metadata": {
    "colab": {
     "base_uri": "https://localhost:8080/",
     "height": 68
    },
    "colab_type": "code",
    "id": "Phd1xlDxN8o4",
    "outputId": "62a9a72c-647c-4487-ddb2-3d662cf30b97"
   },
   "outputs": [
    {
     "name": "stdout",
     "output_type": "stream",
     "text": [
      "Mean Absolute Error: 2120.478399619078\n",
      "Mean Squared Error: 16780999.446862962\n",
      "Root Mean Squared Error: 0.6652323156236779\n"
     ]
    }
   ],
   "source": [
    "print('Mean Absolute Error:', mean_absolute_error(y_test,y_pred))\n",
    "print('Mean Squared Error:', mean_squared_error(y_test,y_pred))\n",
    "print('Root Mean Squared Error:', np.sqrt(mean_squared_error(np.log1p(y_test), np.log1p(y_pred))))"
   ]
  },
  {
   "cell_type": "code",
   "execution_count": 39,
   "metadata": {
    "colab": {
     "base_uri": "https://localhost:8080/",
     "height": 527
    },
    "colab_type": "code",
    "id": "kuUdhHM_OIPz",
    "outputId": "8d574615-5416-4ff4-9338-2fb798c67724"
   },
   "outputs": [
    {
     "name": "stdout",
     "output_type": "stream",
     "text": [
      "Fitting 3 folds for each of 4 candidates, totalling 12 fits\n"
     ]
    },
    {
     "name": "stderr",
     "output_type": "stream",
     "text": [
      "/usr/local/lib/python3.6/dist-packages/sklearn/model_selection/_split.py:667: UserWarning: The least populated class in y has only 1 members, which is less than n_splits=3.\n",
      "  % (min_groups, self.n_splits)), UserWarning)\n",
      "[Parallel(n_jobs=4)]: Using backend LokyBackend with 4 concurrent workers.\n"
     ]
    },
    {
     "name": "stdout",
     "output_type": "stream",
     "text": [
      "[11:38:22] WARNING: /workspace/src/objective/regression_obj.cu:152: reg:linear is now deprecated in favor of reg:squarederror.\n"
     ]
    },
    {
     "name": "stderr",
     "output_type": "stream",
     "text": [
      "[Parallel(n_jobs=4)]: Done  10 out of  12 | elapsed:    3.4s remaining:    0.7s\n",
      "[Parallel(n_jobs=4)]: Done  12 out of  12 | elapsed:    3.5s finished\n"
     ]
    },
    {
     "data": {
      "text/plain": [
       "RandomizedSearchCV(cv=<generator object _BaseKFold.split at 0x7f79e91360f8>,\n",
       "                   error_score=nan,\n",
       "                   estimator=XGBRegressor(base_score=0.5, booster='gbtree',\n",
       "                                          colsample_bylevel=1,\n",
       "                                          colsample_bynode=1,\n",
       "                                          colsample_bytree=1, gamma=0,\n",
       "                                          importance_type='gain',\n",
       "                                          learning_rate=0.1, max_delta_step=0,\n",
       "                                          max_depth=3, min_child_weight=1,\n",
       "                                          missing=None, n_estimators=100,\n",
       "                                          n_jobs=1, nthread=None,...\n",
       "                                          random_state=0, reg_alpha=0,\n",
       "                                          reg_lambda=1, scale_pos_weight=1,\n",
       "                                          seed=None, silent=None, subsample=1,\n",
       "                                          verbosity=1),\n",
       "                   iid='deprecated', n_iter=4, n_jobs=4,\n",
       "                   param_distributions={'gamma': [0.5, 1, 1.5],\n",
       "                                        'max_depth': [3, 4, 5],\n",
       "                                        'min_child_weight': [5, 7],\n",
       "                                        'subsample': [0.5]},\n",
       "                   pre_dispatch='2*n_jobs', random_state=1001, refit=True,\n",
       "                   return_train_score=False,\n",
       "                   scoring='neg_mean_squared_log_error', verbose=3)"
      ]
     },
     "execution_count": 39,
     "metadata": {
      "tags": []
     },
     "output_type": "execute_result"
    }
   ],
   "source": [
    "from sklearn.model_selection import RandomizedSearchCV, GridSearchCV\n",
    "from sklearn.model_selection import StratifiedKFold\n",
    "import xgboost as xgb\n",
    "\n",
    "\n",
    "# A parameter grid for XGBoost\n",
    "params = {\n",
    "        'min_child_weight': [5, 7],\n",
    "        'gamma': [0.5, 1, 1.5],\n",
    "        'subsample': [0.5],\n",
    "        'max_depth': [3, 4, 5]\n",
    "        }\n",
    "\n",
    "xgb = xgb.XGBRegressor()\n",
    "\n",
    "skf = StratifiedKFold(n_splits=3, shuffle = True, random_state = 1001)\n",
    "\n",
    "random_search = RandomizedSearchCV(xgb, param_distributions=params,n_jobs=4,verbose=3, n_iter=4, scoring='neg_mean_squared_log_error', cv=skf.split(train_x,train_y), random_state=1001 )\n",
    "\n",
    "random_search.fit(train_x, train_y)\n"
   ]
  },
  {
   "cell_type": "code",
   "execution_count": 40,
   "metadata": {
    "colab": {
     "base_uri": "https://localhost:8080/",
     "height": 513
    },
    "colab_type": "code",
    "id": "Yk71ipPfU6pv",
    "outputId": "3832f5e1-8a6b-4857-9d30-52c77daba370"
   },
   "outputs": [
    {
     "name": "stdout",
     "output_type": "stream",
     "text": [
      "\n",
      " All results:\n",
      "{'mean_fit_time': array([0.17944551, 0.23971669, 0.14215191, 0.16628011]), 'std_fit_time': array([0.00177574, 0.00218791, 0.02238453, 0.01737303]), 'mean_score_time': array([0.00601848, 0.00928783, 0.01005745, 0.00317581]), 'std_score_time': array([0.0034944 , 0.00397391, 0.00436633, 0.0006072 ]), 'param_subsample': masked_array(data=[0.5, 0.5, 0.5, 0.5],\n",
      "             mask=[False, False, False, False],\n",
      "       fill_value='?',\n",
      "            dtype=object), 'param_min_child_weight': masked_array(data=[7, 5, 5, 5],\n",
      "             mask=[False, False, False, False],\n",
      "       fill_value='?',\n",
      "            dtype=object), 'param_max_depth': masked_array(data=[3, 5, 3, 4],\n",
      "             mask=[False, False, False, False],\n",
      "       fill_value='?',\n",
      "            dtype=object), 'param_gamma': masked_array(data=[0.5, 1, 0.5, 0.5],\n",
      "             mask=[False, False, False, False],\n",
      "       fill_value='?',\n",
      "            dtype=object), 'params': [{'subsample': 0.5, 'min_child_weight': 7, 'max_depth': 3, 'gamma': 0.5}, {'subsample': 0.5, 'min_child_weight': 5, 'max_depth': 5, 'gamma': 1}, {'subsample': 0.5, 'min_child_weight': 5, 'max_depth': 3, 'gamma': 0.5}, {'subsample': 0.5, 'min_child_weight': 5, 'max_depth': 4, 'gamma': 0.5}], 'split0_test_score': array([-0.22973531, -0.23667065, -0.23791158, -0.23658966]), 'split1_test_score': array([-0.34958268, -0.34069471, -0.35353905, -0.32407654]), 'split2_test_score': array([-0.18290465, -0.19044438, -0.17874721, -0.18286961]), 'mean_test_score': array([-0.25407421, -0.25593658, -0.25673261, -0.24784527]), 'std_test_score': array([0.07018869, 0.06283403, 0.07258889, 0.05819431]), 'rank_test_score': array([2, 3, 4, 1], dtype=int32)}\n",
      "\n",
      " Best estimator:\n",
      "XGBRegressor(base_score=0.5, booster='gbtree', colsample_bylevel=1,\n",
      "             colsample_bynode=1, colsample_bytree=1, gamma=0.5,\n",
      "             importance_type='gain', learning_rate=0.1, max_delta_step=0,\n",
      "             max_depth=4, min_child_weight=5, missing=None, n_estimators=100,\n",
      "             n_jobs=1, nthread=None, objective='reg:linear', random_state=0,\n",
      "             reg_alpha=0, reg_lambda=1, scale_pos_weight=1, seed=None,\n",
      "             silent=None, subsample=0.5, verbosity=1)\n",
      "-1.4956905346583798\n",
      "\n",
      " Best hyperparameters:\n",
      "{'subsample': 0.5, 'min_child_weight': 5, 'max_depth': 4, 'gamma': 0.5}\n"
     ]
    }
   ],
   "source": [
    "print('\\n All results:')\n",
    "print(random_search.cv_results_)\n",
    "print('\\n Best estimator:')\n",
    "print(random_search.best_estimator_)\n",
    "print(random_search.best_score_ * 2 - 1)\n",
    "print('\\n Best hyperparameters:')\n",
    "print(random_search.best_params_)"
   ]
  },
  {
   "cell_type": "code",
   "execution_count": 41,
   "metadata": {
    "colab": {},
    "colab_type": "code",
    "id": "ibrRNOTScQLe"
   },
   "outputs": [],
   "source": [
    "import xgboost as xgb\n",
    "model_xgb = xgb.XGBRegressor(base_score=0.5, booster='gbtree', colsample_bylevel=1,\n",
    "             colsample_bynode=1, colsample_bytree=1, gamma=0.5,\n",
    "             importance_type='gain', learning_rate=0.1, max_delta_step=0,\n",
    "             max_depth=4, min_child_weight=5, missing=None, n_estimators=100,\n",
    "             n_jobs=1, nthread=None, objective='reg:linear', random_state=0,\n",
    "             reg_alpha=0, reg_lambda=1, scale_pos_weight=1, seed=None,\n",
    "             silent=None, subsample=0.5, verbosity=1)"
   ]
  },
  {
   "cell_type": "code",
   "execution_count": 42,
   "metadata": {
    "colab": {
     "base_uri": "https://localhost:8080/",
     "height": 153
    },
    "colab_type": "code",
    "id": "JA3C-eJicgnp",
    "outputId": "69aefeb6-dc8e-4fa3-9268-a440f98636e0"
   },
   "outputs": [
    {
     "name": "stdout",
     "output_type": "stream",
     "text": [
      "[11:38:46] WARNING: /workspace/src/objective/regression_obj.cu:152: reg:linear is now deprecated in favor of reg:squarederror.\n"
     ]
    },
    {
     "data": {
      "text/plain": [
       "XGBRegressor(base_score=0.5, booster='gbtree', colsample_bylevel=1,\n",
       "             colsample_bynode=1, colsample_bytree=1, gamma=0.5,\n",
       "             importance_type='gain', learning_rate=0.1, max_delta_step=0,\n",
       "             max_depth=4, min_child_weight=5, missing=None, n_estimators=100,\n",
       "             n_jobs=1, nthread=None, objective='reg:linear', random_state=0,\n",
       "             reg_alpha=0, reg_lambda=1, scale_pos_weight=1, seed=None,\n",
       "             silent=None, subsample=0.5, verbosity=1)"
      ]
     },
     "execution_count": 42,
     "metadata": {
      "tags": []
     },
     "output_type": "execute_result"
    }
   ],
   "source": [
    "model_xgb.fit(X_train,y_train)"
   ]
  },
  {
   "cell_type": "code",
   "execution_count": 43,
   "metadata": {
    "colab": {
     "base_uri": "https://localhost:8080/",
     "height": 68
    },
    "colab_type": "code",
    "id": "5GBiAP96c0P1",
    "outputId": "5b384f96-7631-4744-ceef-9df4f8b8e1f5"
   },
   "outputs": [
    {
     "name": "stdout",
     "output_type": "stream",
     "text": [
      "Mean Absolute Error: 1498.5280386117788\n",
      "Root Mean Squared Error: 3657.004077367837\n",
      "Root Mean Squared Log Error: 0.48335966675694897\n"
     ]
    }
   ],
   "source": [
    "y_test_p=model_xgb.predict(X_test)\n",
    "print('Mean Absolute Error:', mean_absolute_error(y_test,y_test_p))\n",
    "print('Root Mean Squared Error:', np.sqrt(mean_squared_error(y_test,y_test_p)))\n",
    "print('Root Mean Squared Log Error:',np.sqrt(mean_squared_log_error( y_test,y_test_p)))"
   ]
  },
  {
   "cell_type": "code",
   "execution_count": 44,
   "metadata": {
    "colab": {},
    "colab_type": "code",
    "id": "ne08XxFeen-q"
   },
   "outputs": [],
   "source": [
    "test1=pd.read_excel(\"/content/drive/My Drive/fwdfliprhackathon6_0machinelearningtask/Test_dataset.xlsx\")"
   ]
  },
  {
   "cell_type": "code",
   "execution_count": 47,
   "metadata": {
    "colab": {},
    "colab_type": "code",
    "id": "RWY0te92aWo1"
   },
   "outputs": [],
   "source": [
    "#save model\n",
    "import pickle\n",
    "filename = \"/content/drive/My Drive/fwdfliprhackathon6_0machinelearningtask/Task_model.h5\"\n",
    "pickle.dump(model_xgb, open(filename, 'wb'))"
   ]
  },
  {
   "cell_type": "code",
   "execution_count": null,
   "metadata": {
    "colab": {},
    "colab_type": "code",
    "id": "ubQnk_wecbUn"
   },
   "outputs": [],
   "source": [
    "y =model_xgb.predict(test)\n",
    "results_df = pd.DataFrame(data={'City':test1['City'], 'Covid cases':y})\n",
    "results_df.to_csv('/content/drive/My Drive/fwdfliprhackathon6_0machinelearningtask/output-01.csv', index=False)"
   ]
  },
  {
   "cell_type": "code",
   "execution_count": null,
   "metadata": {
    "colab": {
     "base_uri": "https://localhost:8080/",
     "height": 1000
    },
    "colab_type": "code",
    "id": "NRV2STKWe5dz",
    "outputId": "6b05c0a6-00a5-4086-ef61-6fbf707f3674"
   },
   "outputs": [
    {
     "data": {
      "text/plain": [
       "array([32513.018 , 37195.453 , 28014.889 , 39787.363 , 29203.703 ,\n",
       "       30958.574 , 41026.11  , 27039.89  , 35400.008 , 28475.41  ,\n",
       "       39945.332 , 38536.535 , 25104.709 , 23895.816 , 40243.805 ,\n",
       "       32869.594 , 31610.86  , 25788.8   , 28311.916 , 25842.79  ,\n",
       "       31207.557 , 32329.062 , 23966.164 , 35556.613 , 28353.982 ,\n",
       "       34963.125 , 38136.453 , 24911.355 , 29749.58  , 25148.586 ,\n",
       "       31488.78  , 26516.291 , 25408.656 , 39627.734 , 38132.    ,\n",
       "       30894.14  , 30281.955 , 23368.246 , 27827.635 , 29231.908 ,\n",
       "       41843.68  , 39200.73  , 34384.742 , 24537.19  , 28013.293 ,\n",
       "       32462.256 , 34203.984 , 35428.547 , 29440.188 , 36315.94  ,\n",
       "       26566.31  , 28088.547 , 26778.697 , 27895.123 , 24620.328 ,\n",
       "       27463.965 , 30089.986 , 35156.38  , 27903.639 , 35705.84  ,\n",
       "       28469.984 , 37198.55  , 30531.69  , 32184.092 , 26262.969 ,\n",
       "       29923.744 , 28239.354 , 40035.75  , 27500.64  , 28758.21  ,\n",
       "       25465.977 , 26285.18  , 33473.96  , 25503.318 , 26246.645 ,\n",
       "       35136.402 , 29847.49  , 37373.016 , 28556.178 , 25659.564 ,\n",
       "       37811.12  , 35074.58  , 29469.65  , 33626.74  , 39336.69  ,\n",
       "       25006.955 , 24056.553 , 26095.271 , 27380.55  , 26559.111 ,\n",
       "       25737.754 , 30584.783 , 30382.652 , 25725.932 , 30394.166 ,\n",
       "       36689.45  , 27874.697 , 35968.984 , 25410.049 , 28318.74  ,\n",
       "       23963.607 , 42940.625 , 37843.355 , 35782.938 , 31438.684 ,\n",
       "       37186.758 , 24306.52  , 36448.19  , 36399.086 , 30274.193 ,\n",
       "       39224.594 , 34555.05  , 28752.363 , 39801.848 , 24408.02  ,\n",
       "       37986.1   , 27064.223 , 36488.023 , 24436.771 , 23873.002 ,\n",
       "       35730.39  , 36185.973 , 36203.54  , 26181.826 , 27345.244 ,\n",
       "       28672.98  , 36846.184 , 37391.66  , 32783.81  , 38921.23  ,\n",
       "       29403.686 , 34116.176 , 32475.393 , 34372.035 , 35160.008 ,\n",
       "       24539.828 , 31932.727 , 26616.627 , 30671.143 , 26992.354 ,\n",
       "       32306.332 , 39277.793 , 23861.38  , 24996.158 , 29035.053 ,\n",
       "       23945.154 , 24641.953 , 39376.793 , 35981.484 , 25297.25  ,\n",
       "       31196.223 , 28401.846 , 35462.992 , 29685.783 , 37335.418 ,\n",
       "       38206.875 , 37854.14  , 30049.291 , 30006.977 , 30078.078 ,\n",
       "       29935.916 , 29489.547 , 24187.81  , 24692.53  , 27530.191 ,\n",
       "       30076.686 , 30015.164 , 33322.875 , 29260.518 , 27960.576 ,\n",
       "       33227.07  , 31625.42  , 28165.879 , 36508.49  , 35240.227 ,\n",
       "       37840.88  , 29117.01  , 30429.918 , 24813.357 , 29953.512 ,\n",
       "       28208.463 , 29212.557 , 34716.723 , 40076.4   , 30440.283 ,\n",
       "       31272.566 , 29373.816 , 27059.723 , 29457.484 , 33911.895 ,\n",
       "       33381.633 , 29611.951 , 27750.508 , 30305.48  , 24981.816 ,\n",
       "       40040.457 , 32523.607 , 38485.668 , 26779.629 , 39293.215 ,\n",
       "       28115.338 , 31819.79  , 33206.082 , 39398.234 , 36679.734 ,\n",
       "       39274.062 , 33233.17  , 39456.777 , 26773.559 , 39171.684 ,\n",
       "       35027.11  , 29007.559 , 37598.11  , 41869.13  , 27722.477 ,\n",
       "       29845.885 , 41435.902 , 37656.023 , 29765.059 , 35498.25  ,\n",
       "       25909.062 , 43666.598 , 41086.336 , 31114.807 , 30291.521 ,\n",
       "       27987.072 , 36103.375 , 26732.176 , 33854.312 , 37689.633 ,\n",
       "       35567.69  , 26102.916 , 41248.594 , 36069.355 , 35931.64  ,\n",
       "       27354.787 , 25129.426 , 37496.793 , 33743.375 , 33955.727 ,\n",
       "       41122.48  , 29482.754 , 29452.762 , 36613.28  , 30369.191 ,\n",
       "       42063.16  , 38656.055 , 29989.693 , 25346.643 , 27426.232 ,\n",
       "       26784.117 , 28684.768 , 24924.25  , 38640.8   , 39615.766 ,\n",
       "       27825.81  , 29606.148 , 23325.87  , 32525.514 , 27046.594 ,\n",
       "       35775.72  , 25850.986 , 25764.8   , 29142.18  , 25069.781 ,\n",
       "       25210.848 , 33064.625 , 28111.332 , 35479.766 , 31187.754 ,\n",
       "       25520.898 , 39333.78  , 33878.12  , 39211.156 , 30158.258 ,\n",
       "       28618.383 , 38255.023 , 37977.508 , 24110.395 , 29709.111 ,\n",
       "       32586.504 , 28095.17  , 26148.4   , 33810.883 , 26734.459 ,\n",
       "       31536.36  , 27148.695 , 27705.945 , 23829.09  , 36704.305 ,\n",
       "       33848.527 , 27097.121 , 41630.246 , 37953.97  , 30012.031 ,\n",
       "       29937.236 , 33739.562 , 34276.082 , 30850.277 , 32189.84  ,\n",
       "       25637.143 , 22725.812 , 39165.598 , 28082.562 , 38130.848 ,\n",
       "       36536.65  , 42502.344 , 26870.785 , 32155.283 , 29959.271 ,\n",
       "       28728.162 , 40330.18  , 39657.188 , 33359.06  , 29391.965 ,\n",
       "       24555.406 , 26650.793 , 27070.635 , 36366.137 , 34828.12  ,\n",
       "       29246.832 , 37995.703 , 45855.7   , 28993.197 , 26282.67  ,\n",
       "       41254.3   , 42604.027 , 30331.965 , 30810.186 , 30600.445 ,\n",
       "       27730.258 , 27121.781 , 23907.78  , 26168.027 , 27888.49  ,\n",
       "       32656.066 , 24371.86  , 24893.963 , 31358.953 , 29333.719 ,\n",
       "       31482.053 , 25347.883 , 36895.594 , 29686.615 , 27567.896 ,\n",
       "       26778.902 , 28075.578 , 27922.016 , 25469.277 , 25662.443 ,\n",
       "       30405.902 , 24298.547 , 39121.477 , 23974.023 , 37341.625 ,\n",
       "       39603.82  , 35745.79  , 37822.152 , 24954.975 , 24773.635 ,\n",
       "       26409.73  , 25422.736 , 37954.008 , 26189.346 , 33027.79  ,\n",
       "       27920.516 , 29166.254 , 41072.59  , 33724.48  , 28569.295 ,\n",
       "       39181.137 , 28078.541 , 27141.613 , 40041.48  , 27550.553 ,\n",
       "       31871.818 , 27540.002 , 23292.662 , 30107.86  , 29370.863 ,\n",
       "       37616.86  , 36303.195 , 32367.459 , 27764.783 , 27114.746 ,\n",
       "       34449.184 , 37687.836 , 36568.836 , 42809.77  , 25687.691 ,\n",
       "       29817.443 , 26975.871 , 29441.094 , 26167.83  , 38522.754 ,\n",
       "       39833.418 , 33151.688 , 32940.004 , 25197.146 , 34793.426 ,\n",
       "       25296.    , 26731.846 , 36065.01  , 27501.299 , 32124.129 ,\n",
       "       25441.072 , 34417.31  , 30276.271 , 31379.418 , 29884.    ,\n",
       "       41070.918 , 29083.906 , 41402.71  , 34265.984 , 36399.2   ,\n",
       "       33960.016 , 25046.938 , 28474.607 , 39078.562 , 25196.572 ,\n",
       "       37535.605 , 28206.162 , 31065.85  , 32338.127 , 37344.6   ,\n",
       "       30603.605 , 28636.205 , 25389.059 , 40203.39  , 26734.957 ,\n",
       "       27683.59  , 31535.342 , 29221.633 , 35785.56  , 27081.842 ,\n",
       "       28829.135 , 28966.852 , 28036.71  , 27489.285 , 29458.818 ,\n",
       "       23274.703 , 28408.887 , 42536.438 , 36442.223 , 31190.213 ,\n",
       "       26240.078 , 27898.418 , 23606.12  , 20466.162 , 17207.951 ,\n",
       "       19498.688 , 19546.074 , 33555.086 , 26549.748 , 23377.65  ,\n",
       "       24950.686 , 22714.139 , 18617.885 , 16251.383 , 19283.264 ,\n",
       "       20135.361 , 18915.074 , 18253.096 , 14904.983 , 15813.596 ,\n",
       "       16945.402 , 18701.727 , 13717.336 , 16532.018 , 17329.12  ,\n",
       "       16791.684 , 14406.338 , 14856.004 , 14439.098 , 13436.25  ,\n",
       "       13707.233 , 11318.132 , 14671.202 , 10704.972 , 16418.83  ,\n",
       "       10566.978 ,  7905.1577,  4922.595 ,  6809.975 ,  8409.934 ,\n",
       "        6894.5938,  5249.0815,  5840.2446,  5907.98  ,  5850.85  ,\n",
       "        5829.1426,  4241.623 ,  5662.2305,  6188.299 ,  4460.2603,\n",
       "        4165.271 ,  3664.175 ,  3452.4988,  4163.8086,  2594.1926,\n",
       "       24984.787 ], dtype=float32)"
      ]
     },
     "execution_count": 298,
     "metadata": {
      "tags": []
     },
     "output_type": "execute_result"
    }
   ],
   "source": [
    "y"
   ]
  },
  {
   "cell_type": "code",
   "execution_count": null,
   "metadata": {
    "colab": {},
    "colab_type": "code",
    "id": "9XUnoJumeVPg"
   },
   "outputs": [],
   "source": []
  }
 ],
 "metadata": {
  "colab": {
   "collapsed_sections": [],
   "name": "final Flipr ml.ipynb",
   "provenance": []
  },
  "kernelspec": {
   "display_name": "Python 3",
   "language": "python",
   "name": "python3"
  },
  "language_info": {
   "codemirror_mode": {
    "name": "ipython",
    "version": 3
   },
   "file_extension": ".py",
   "mimetype": "text/x-python",
   "name": "python",
   "nbconvert_exporter": "python",
   "pygments_lexer": "ipython3",
   "version": "3.7.4"
  }
 },
 "nbformat": 4,
 "nbformat_minor": 1
}
